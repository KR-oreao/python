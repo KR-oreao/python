{
 "cells": [
  {
   "cell_type": "markdown",
   "metadata": {},
   "source": [
    "# 실기"
   ]
  },
  {
   "cell_type": "code",
   "execution_count": 1,
   "metadata": {},
   "outputs": [
    {
     "name": "stdout",
     "output_type": "stream",
     "text": [
      "   *        *\n",
      "\n",
      "  ***      ***\n",
      "\n",
      " *****    *****\n",
      "\n",
      "*******  ********\n",
      "\n"
     ]
    }
   ],
   "source": [
    "print(\"   *        *\\n\");\n",
    "print(\"  ***      ***\\n\");\n",
    "print(\" *****    *****\\n\");\n",
    "print(\"*******  ********\\n\");\n"
   ]
  },
  {
   "cell_type": "code",
   "execution_count": 2,
   "metadata": {},
   "outputs": [],
   "source": [
    "import numpy as np\n",
    "import matplotlib.pylab as plt"
   ]
  },
  {
   "cell_type": "code",
   "execution_count": 3,
   "metadata": {},
   "outputs": [
    {
     "name": "stdout",
     "output_type": "stream",
     "text": [
      "        *             *\n",
      "      * * *          ***\n",
      "    * * * * *       *****\n",
      "  * * * * * * *    *******\n",
      "* * * * * * * * * *********\n"
     ]
    }
   ],
   "source": [
    "line = 5\n",
    "for star in range(1, line+1):\n",
    "     print(('  ' * (line - star) + '* ' * (2 * star - 1))+ ( '   '  * (line - star) + '*' * (2 * star - 1)))"
   ]
  },
  {
   "cell_type": "markdown",
   "metadata": {},
   "source": [
    "# 2번 문제"
   ]
  },
  {
   "cell_type": "code",
   "execution_count": 31,
   "metadata": {},
   "outputs": [
    {
     "name": "stdout",
     "output_type": "stream",
     "text": [
      "정수 두개 입력 ex)4 54 5\n",
      "\n",
      ". . . * . \n",
      ". . * . . \n",
      ". . . * . \n",
      ". . . * . \n",
      "\n",
      "0 1 2 * 1 \n",
      "0 1 * 3 2 \n",
      "0 1 3 * 2 \n",
      "0 0 2 * 2 \n"
     ]
    }
   ],
   "source": [
    "import random\n",
    "\n",
    "matrix = input(\"정수 두개 입력 ex)4 5\")\n",
    "m2List = matrix.split()\n",
    "m = int(m2List[0])\n",
    "n = int(m2List[1])\n",
    "land = '.'\n",
    "mine = '*'\n",
    "\n",
    "def enCoord(x, y) : \n",
    "    return str(x) + ',' + str(y)\n",
    "\n",
    "creat_mine = {}\n",
    "for y in range(0, m + 2) : \n",
    "    for x in range(0, n + 2) :\n",
    "        coordinate = enCoord(x, y)\n",
    "        if x == 0 or x == (n + 1) or y == 0 or y == (m + 1) :\n",
    "            creat_mine[coordinate] = False\n",
    "        else :\n",
    "            randMine = random.randint(1, 6) \n",
    "            if randMine == 6 :\n",
    "                creat_mine[coordinate] = True\n",
    "                print(mine, end=' ')\n",
    "            else :\n",
    "                creat_mine[coordinate] = False\n",
    "                print(land, end=' ')\n",
    "    print()\n",
    "\n",
    "for y in range(1, m + 1) : \n",
    "    for x in range(1, n + 1) :\n",
    "        coordinate = enCoord(x, y)\n",
    "        if creat_mine[coordinate] :\n",
    "            print(mine, end=' ')\n",
    "        else :\n",
    "            matrix9 = []\n",
    "            for miniY in range(y - 1, y + 2) :\n",
    "                for miniX in range(x - 1, x + 2) :\n",
    "                    Coord9 = enCoord(miniX, miniY)\n",
    "                    matrix9.append(creat_mine[Coord9])\n",
    "            print(matrix9.count(True), end=' ')\n",
    "    print()\n"
   ]
  },
  {
   "cell_type": "markdown",
   "metadata": {},
   "source": [
    "# 3번 문제"
   ]
  },
  {
   "cell_type": "code",
   "execution_count": 5,
   "metadata": {},
   "outputs": [
    {
     "data": {
      "image/png": "[encoded data removed]",
      "text/plain": [
       "<Figure size 432x288 with 1 Axes>"
      ]
     },
     "metadata": {
      "needs_background": "light"
     },
     "output_type": "display_data"
    }
   ],
   "source": [
    "x = np.arange(-2*np.pi, 2*np.pi)\n",
    "y = np.tanh(x)\n",
    "\n",
    "plt.plot(x, y)\n",
    "plt.plot([0,0],[1.0,-1.0], ':')\n",
    "plt.axhline(y=0, color='orange', linestyle='--')\n",
    "plt.show()"
   ]
  },
  {
   "cell_type": "code",
   "execution_count": 12,
   "metadata": {},
   "outputs": [],
   "source": [
    "import urllib.request\n",
    "from bs4 import BeautifulSoup\n",
    "import csv"
   ]
  },
  {
   "cell_type": "markdown",
   "metadata": {},
   "source": [
    "# 4번\n",
    "죄송합니다..\n"
   ]
  },
  {
   "cell_type": "code",
   "execution_count": 18,
   "metadata": {},
   "outputs": [],
   "source": [
    "import pandas as pd\n",
    "import math \n",
    "import numpy as np\n",
    "import csv \n",
    "import matplotlib.pyplot as plt\n",
    "import requests\n",
    "from bs4 import BeautifulSoup \n",
    "from urllib.request import urlopen\n",
    "import random"
   ]
  },
  {
   "cell_type": "code",
   "execution_count": 28,
   "metadata": {},
   "outputs": [
    {
     "name": "stdout",
     "output_type": "stream",
     "text": [
      "1위: 전미도 [ 사랑하게 될 줄 알았어 ] - 슬기로운 의사생활 OST Part 11\n",
      "2위: 아이유 [ 에잇(Prod.&Feat. SUGA of BTS) ] - 에잇\n",
      "3위: 조정석 [ 아로하 ] - 슬기로운 의사생활 OST Part 3\n",
      "4위: TWICE (트와이스) [ MORE & MORE ] - MORE & MORE\n",
      "5위: 오마이걸 [ 살짝 설렜어 (Nonstop) ] - NONSTOP\n",
      "6위: 식케이 (Sik-K), pH-1, 박재범, 김하온 (HAON) [ 깡 Official Remix ] - 깡 Official Remix\n",
      "7위: 볼빨간사춘기 [ 나비와 고양이 (feat.백현 (BAEKHYUN)) ] - 사춘기집Ⅱ 꽃 본 나비\n",
      "8위: 조이 (JOY) [ 좋은 사람 있으면 소개시켜줘 ] - 슬기로운 의사생활 OST Part 2\n",
      "9위: 미도와 파라솔 [ 너에게 난, 나에게 넌 ] - 슬기로운 의사생활 OST Part 12\n",
      "10위: 규현 (KYUHYUN) [ 화려하지 않은 고백 ] - 슬기로운 의사생활 OST Part 4\n",
      "11위: 가호 (Gaho) [ 시작 ] - 이태원 클라쓰 OST Part.2\n",
      "12위: 엠씨더맥스 (M.C the MAX) [ 처음처럼 ] - CEREMONIA\n",
      "13위: 어반자카파 [ 그대 고운 내사랑 ] - 슬기로운 의사생활 OST Part 5\n",
      "14위: 장범준 [ 흔들리는 꽃들 속에서 네 샴푸향이 느껴진거야 ] - 멜로가 체질 OST Part 3\n",
      "15위: 지코 (ZICO) [ 아무노래 ] - 아무노래\n",
      "16위: 오마이걸 [ Dolphin ] - NONSTOP\n",
      "17위: 백현 (BAEKHYUN) [ Candy ] - Delight - The 2nd Mini Album\n",
      "18위: Apink (에이핑크) [ 덤더럼(Dumhdurum) ] - LOOK\n",
      "19위: Tones And I [ Dance Monkey ] - The Kids Are Coming\n",
      "20위: 방탄소년단 [ ON ] - MAP OF THE SOUL : 7\n",
      "21위: 창모 (CHANGMO) [ METEOR ] - Boyhood\n",
      "22위: 아이유 [ Blueming ] - Love poem\n",
      "23위: 휘인 (Whee In) [ 내 눈물 모아 ] - 슬기로운 의사생활 OST Part 8\n",
      "24위: Maroon 5 [ Memories ] - Memories\n",
      "25위: 방탄소년단 [ 작은 것들을 위한 시 (Boy With Luv) (Feat. Halsey) ] - MAP OF THE SOUL : PERSONA\n",
      "26위: Dua Lipa [ Don't Start Now ] - Future Nostalgia\n",
      "27위: 아이유 [ 마음을 드려요 ] - 사랑의 불시착 OST Part 11\n",
      "28위: 김필 [ 그때 그 아인 ] - 이태원 클라쓰 OST Part.6\n",
      "29위: 하현우 (국카스텐) [ 돌덩이 ] - 이태원 클라쓰 OST Part.3\n",
      "30위: 오반 [ 어떻게 지내 (Prod. By VAN.C) ] - 어떻게 지내\n",
      "31위: 노을 [ 늦은 밤 너의 집 앞 골목길에서 ] - 늦은 밤 너의 집 앞 골목길에서\n",
      "32위: 백현 (BAEKHYUN) [ 너를 사랑하고 있어 ] - 낭만닥터 김사부 2 OST Part.1\n",
      "33위: 태연 (TAEYEON) [ Happy ] - Happy\n",
      "34위: Anne-Marie [ 2002 ] - Speak Your Mind (Deluxe)\n",
      "35위: Red Velvet (레드벨벳) [ Psycho ] - ‘The ReVe Festival’ Finale\n",
      "36위: ITZY (있지) [ WANNABE ] - IT'z ME\n",
      "37위: 마크툽 (MAKTUB) [ 오늘도 빛나는 너에게 (To You My Light) (Feat.이라온) ] - Red Moon : To You My Light\n",
      "38위: 진민호 [ 반만 ] - 반만\n",
      "39위: 비 [ 깡 ] - MY LIFE愛\n",
      "40위: 임영웅 [ 이제 나만 믿어요 ] - 내일은 미스터트롯 우승자 특전곡\n",
      "41위: 폴킴 [ 우리 만남이 ] - 정규 2집 '마음, 둘'\n",
      "42위: 황인욱 [ 취했나봐 ] - 취했나봐\n",
      "43위: 폴킴 [ 모든 날, 모든 순간 (Every day, Every Moment) ] - `키스 먼저 할까요?` OST Part.3\n",
      "44위: 권진아 [ Lonely Night ] - 슬기로운 의사생활 OST Part 1\n",
      "45위: Conan Gray [ Maniac ] - Maniac\n",
      "46위: AKMU (악동뮤지션) [ 어떻게 이별까지 사랑하겠어, 널 사랑하는 거지 ] - 항해\n",
      "47위: 방탄소년단 [ 00:00 (Zero O’Clock) ] - MAP OF THE SOUL : 7\n",
      "48위: 신예영 [ 우리 왜 헤어져야 해 ] - 우리 왜 헤어져야 해\n",
      "49위: 미도와 파라솔 [ 밤이 깊었네 (Drama Ver.) ] - 슬기로운 의사생활 OST Part 10\n",
      "50위: 방탄소년단 [ Black Swan ] - MAP OF THE SOUL : 7\n",
      "51위: IZ*ONE (아이즈원) [ FIESTA ] - BLOOM*IZ\n",
      "52위: 폴킴 [ 안녕 ] - 호텔 델루나 OST Part.10\n",
      "53위: 볼빨간사춘기 [ 품 ] - 사춘기집Ⅱ 꽃 본 나비\n",
      "54위: 아이유 [ Love poem ] - Love poem\n",
      "55위: Ariana Grande, Justin Bieber [ Stuck with U ] - Stuck with U\n",
      "56위: Crush [ 자나깨나 (Feat. 조이 of Red Velvet) ] - homemade 1\n",
      "57위: 영탁 [ 찐이야 ] - 내일은 미스터트롯 결승전 베스트\n",
      "58위: 방탄소년단 [ 친구 ] - MAP OF THE SOUL : 7\n",
      "59위: 마마무 (Mamamoo) [ HIP ] - reality in BLACK\n",
      "60위: Lauv [ Paris In The Rain ] - I met you when I was 18. (the playlist)\n",
      "61위: 백현 (BAEKHYUN) [ Bungee ] - Delight - The 2nd Mini Album\n",
      "62위: 마크툽 (MAKTUB) [ 너를 그린 우주 (Insomnia2020) (Feat. 이라온) ] - Red Moon : SUPERNOVA\n",
      "63위: 청하 [ Stay Tonight ] - Stay Tonight\n",
      "64위: Billie Eilish [ bad guy ] - WHEN WE ALL FALL ASLEEP, WHERE DO WE GO?\n",
      "65위: Sam Smith [ To Die For ] - To Die For\n",
      "66위: 백현 (BAEKHYUN) [ 너에게 가는 이 길 위에서 (너.이.길) ] - 하이에나 OST Part.2\n",
      "67위: 방탄소년단 [ Filter ] - MAP OF THE SOUL : 7\n",
      "68위: 백현 (BAEKHYUN) [ Love Again ] - Delight - The 2nd Mini Album\n",
      "69위: 임영웅 [ 어느 60대 노부부이야기 ] - 내일은 미스터트롯 트롯 에이드 베스트\n",
      "70위: 방탄소년단 [ Moon ] - MAP OF THE SOUL : 7\n",
      "71위: 방탄소년단 [ 봄날 ] - YOU NEVER WALK ALONE\n",
      "72위: 방탄소년단 [ 시차 ] - MAP OF THE SOUL : 7\n",
      "73위: Ruel [ Painkiller ] - Painkiller\n",
      "74위: 곽진언 [ 시청 앞 지하철 역에서 ] - 슬기로운 의사생활 OST Part 6\n",
      "75위: 방탄소년단 [ Inner Child ] - MAP OF THE SOUL : 7\n",
      "76위: 방탄소년단 [ We are Bulletproof : the Eternal ] - MAP OF THE SOUL : 7\n",
      "77위: Etham [ 12:45 (Stripped) ] - 12:45 (Stripped)\n",
      "78위: 로이킴 [ 살아가는 거야 ] - 살아가는 거야\n",
      "79위: 임영웅 [ 바램 ] - 내일은 미스터트롯 예선곡 베스트\n",
      "80위: 제이레빗(J Rabbit) [ 넌 언제나 ] - 슬기로운 의사생활 OST Part 7\n",
      "81위: 폴킴 [ 너를 만나 ] - 너를 만나\n",
      "82위: HYNN (박혜원) [ 시든 꽃에 물을 주듯 ] - 시든 꽃에 물을 주듯\n",
      "83위: 임재현 [ 조금 취했어 (Prod. 2soo) ] - 조금 취했어\n",
      "84위: 방탄소년단 [ Louder than bombs ] - MAP OF THE SOUL : 7\n",
      "85위: 백현 (BAEKHYUN) [ Poppin' ] - Delight - The 2nd Mini Album\n",
      "86위: EXO [ Obsession ] - OBSESSION - The 6th Album\n",
      "87위: 전상근 [ 사랑이란 멜로는 없어 ] - 사랑이란 멜로는 없어\n",
      "88위: 방탄소년단 [ 욱 (UGH!) ] - MAP OF THE SOUL : 7\n",
      "89위: 백예린 [ 다시 난, 여기 ] - 사랑의 불시착 OST Part 4\n",
      "90위: 이예준 [ 안녕과 안녕으로 ] - 안녕과 안녕으로\n",
      "91위: 백현 (BAEKHYUN) [ Underwater ] - Delight - The 2nd Mini Album\n",
      "92위: Anne-Marie [ Birthday ] - Birthday\n",
      "93위: NCT 127 [ 영웅 (英雄; Kick It) ] - NCT #127 Neo Zone - The 2nd Album\n",
      "94위: 방탄소년단 [ Interlude : Shadow ] - MAP OF THE SOUL : 7\n",
      "95위: Raiden, 찬열 (CHANYEOL) [ Yours (Feat. 이하이, 창모) ] - Yours (Feat. 이하이, 창모)\n",
      "96위: 수호 (SUHO) [ 사랑, 하자 ] - 자화상 - The 1st Mini Album\n",
      "97위: 방탄소년단 [ Outro : Ego ] - MAP OF THE SOUL : 7\n",
      "98위: 백예린 [ Square (2017) ] - Every letter I sent you.\n",
      "99위: 영탁 [ 니가 왜 거기서 나와 (Narr. 고은아) ] - 니가 왜 거기서 나와\n",
      "100위: 황인욱 [ 포장마차 ] - 포장마차\n"
     ]
    }
   ],
   "source": [
    "if __name__ == \"__main__\":\n",
    "    RANK = 100 \n",
    " \n",
    "    header = {'User-Agent': 'LEE JOON YOUNG'}\n",
    "    req = requests.get('https://www.melon.com/chart/week/index.htm', headers = header) ## 주간 차트를 크롤링 할 것임\n",
    "    html = req.text\n",
    "    parse = BeautifulSoup(html, 'html.parser')\n",
    " \n",
    "    titles = parse.find_all(\"div\", {\"class\": \"ellipsis rank01\"}) \n",
    "    singers = parse.find_all(\"div\", {\"class\": \"ellipsis rank02\"}) \n",
    "    albums = parse.find_all(\"div\",{\"class\": \"ellipsis rank03\"})\n",
    " \n",
    "    title = []\n",
    "    singer = []\n",
    "    album = []\n",
    " \n",
    "    for t in titles:\n",
    "        title.append(t.find('a').text)\n",
    " \n",
    "    for s in singers:\n",
    "        singer.append(s.find('span', {\"class\": \"checkEllipsis\"}).text)\n",
    "\n",
    "    for a in albums:\n",
    "        album.append(a.find('a').text)\n",
    " \n",
    "    for i in range(RANK):\n",
    "        print('{}위: {} [ {} ] - {}'.format(i+1, singer[i],title[i], album[i] ))\n",
    "\n",
    "\n",
    "    \n",
    "data = pd.DataFrame({\"제목\": titles, \"가수 \": singers, \"앨범\":albums})\n",
    "\n",
    "data.to_csv(\"data1.csv\")"
   ]
  },
  {
   "cell_type": "code",
   "execution_count": null,
   "metadata": {},
   "outputs": [],
   "source": []
  },
  {
   "cell_type": "code",
   "execution_count": null,
   "metadata": {},
   "outputs": [],
   "source": []
  },
  {
   "cell_type": "code",
   "execution_count": null,
   "metadata": {},
   "outputs": [],
   "source": []
  },
  {
   "cell_type": "code",
   "execution_count": null,
   "metadata": {},
   "outputs": [],
   "source": []
  },
  {
   "cell_type": "code",
   "execution_count": null,
   "metadata": {},
   "outputs": [],
   "source": []
  }
 ],
 "metadata": {
  "kernelspec": {
   "display_name": "Python 3",
   "language": "python",
   "name": "python3"
  },
  "language_info": {
   "codemirror_mode": {
    "name": "ipython",
    "version": 3
   },
   "file_extension": ".py",
   "mimetype": "text/x-python",
   "name": "python",
   "nbconvert_exporter": "python",
   "pygments_lexer": "ipython3",
   "version": "3.7.6"
  }
 },
 "nbformat": 4,
 "nbformat_minor": 4
}
