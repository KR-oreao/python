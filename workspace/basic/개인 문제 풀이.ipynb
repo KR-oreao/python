{
 "cells": [
  {
   "cell_type": "markdown",
   "metadata": {},
   "source": [
    "# 모르거나 헷갈리는 문제 모음\n"
   ]
  },
  {
   "cell_type": "markdown",
   "metadata": {},
   "source": [
    "## 172page 6번문제"
   ]
  },
  {
   "cell_type": "markdown",
   "metadata": {},
   "source": [
    "135page 4번문제"
   ]
  },
  {
   "cell_type": "code",
   "execution_count": 161,
   "metadata": {},
   "outputs": [
    {
     "name": "stdout",
     "output_type": "stream",
     "text": [
      "줄수를 입력하세요5\n",
      "*****"
     ]
    }
   ],
   "source": [
    "x=int(input('줄수를 입력하세요'))\n",
    "    for i in range(x)\n",
    " \n"
   ]
  },
  {
   "cell_type": "code",
   "execution_count": null,
   "metadata": {},
   "outputs": [],
   "source": [
    "h, m = map(int, input().split())\n",
    "\n",
    "if h == 0:\n",
    "    if m >= 45:\n",
    "        print(0, m - 45)\n",
    "    elif m < 45:\n",
    "        print(23, m + 15)\n",
    "        \n",
    "else:\n",
    "\n",
    "    if m >= 45:\n",
    "        print(m - 45)\n",
    "\n",
    "    elif m < 45:\n",
    "        print(h - 1, m + 15)"
   ]
  }
 ],
 "metadata": {
  "kernelspec": {
   "display_name": "Python 3",
   "language": "python",
   "name": "python3"
  },
  "language_info": {
   "codemirror_mode": {
    "name": "ipython",
    "version": 3
   },
   "file_extension": ".py",
   "mimetype": "text/x-python",
   "name": "python",
   "nbconvert_exporter": "python",
   "pygments_lexer": "ipython3",
   "version": "3.7.6"
  }
 },
 "nbformat": 4,
 "nbformat_minor": 4
}
