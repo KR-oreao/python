{
 "cells": [
  {
   "cell_type": "markdown",
   "metadata": {},
   "source": [
    "#chapter 04. 반복문"
   ]
  },
  {
   "cell_type": "code",
   "execution_count": 3,
   "metadata": {},
   "outputs": [
    {
     "name": "stdout",
     "output_type": "stream",
     "text": [
      "안녕하세요. 0\n",
      "안녕하세요. 1\n",
      "안녕하세요. 2\n",
      "안녕하세요. 3\n",
      "안녕하세요. 4\n"
     ]
    }
   ],
   "source": [
    "#ex 4-3\n",
    "\n",
    "for x in range(5):\n",
    "    print('안녕하세요.',x)"
   ]
  },
  {
   "cell_type": "code",
   "execution_count": 7,
   "metadata": {},
   "outputs": [
    {
     "name": "stdout",
     "output_type": "stream",
     "text": [
      "안녕하세요. 0\n",
      "안녕하세요. 1\n",
      "안녕하세요. 2\n",
      "안녕하세요. 3\n",
      "안녕하세요. 4\n"
     ]
    }
   ],
   "source": [
    "#ex 4-2  초기화 및 조건따지는거 중요\n",
    "x=0\n",
    "while x<5:\n",
    "    print('안녕하세요.',x)\n",
    "    x+=1"
   ]
  },
  {
   "cell_type": "code",
   "execution_count": 16,
   "metadata": {},
   "outputs": [
    {
     "name": "stdout",
     "output_type": "stream",
     "text": [
      "5\n",
      "4\n",
      "3\n",
      "2\n",
      "1\n"
     ]
    }
   ],
   "source": [
    "#ex 4-2\n",
    "\n",
    "for i in range(5,0,-1):\n",
    "     print(i)"
   ]
  },
  {
   "cell_type": "code",
   "execution_count": 15,
   "metadata": {},
   "outputs": [
    {
     "name": "stdout",
     "output_type": "stream",
     "text": [
      "55\n"
     ]
    }
   ],
   "source": [
    "#ex 4-2\n",
    "#sum= 1+2+3+4....+10\n",
    "\n",
    "sum = 0\n",
    "\n",
    "for i in range(1, 11):\n",
    "    sum +=i\n",
    "print(sum)"
   ]
  },
  {
   "cell_type": "code",
   "execution_count": 6,
   "metadata": {},
   "outputs": [
    {
     "name": "stdout",
     "output_type": "stream",
     "text": [
      "0\n",
      "1\n",
      "2\n",
      "3\n",
      "4\n",
      "5\n",
      "6\n",
      "7\n",
      "8\n",
      "9\n"
     ]
    }
   ],
   "source": [
    "for i in range(10):\n",
    "    print(i, end='')\n",
    "    print()\n",
    "    "
   ]
  },
  {
   "cell_type": "code",
   "execution_count": 26,
   "metadata": {},
   "outputs": [
    {
     "name": "stdout",
     "output_type": "stream",
     "text": [
      "12345678910\n"
     ]
    }
   ],
   "source": [
    "for i in range(1,11):\n",
    "    print(i,end='')\n",
    "print()"
   ]
  },
  {
   "cell_type": "code",
   "execution_count": 27,
   "metadata": {
    "scrolled": true
   },
   "outputs": [
    {
     "name": "stdout",
     "output_type": "stream",
     "text": [
      "1\n",
      "3\n",
      "5\n",
      "7\n",
      "9\n"
     ]
    }
   ],
   "source": [
    "for i in range(1,10,2):\n",
    "    print(i,end='')\n",
    "    print()"
   ]
  },
  {
   "cell_type": "code",
   "execution_count": 28,
   "metadata": {},
   "outputs": [
    {
     "name": "stdout",
     "output_type": "stream",
     "text": [
      "2018161412108642"
     ]
    }
   ],
   "source": [
    "for i in range(20,0,-2):\n",
    "    print(i,end='')"
   ]
  },
  {
   "cell_type": "code",
   "execution_count": 32,
   "metadata": {},
   "outputs": [
    {
     "name": "stdout",
     "output_type": "stream",
     "text": [
      "369121518212427303336394245485154576063666972757881848790939699/n --------------------------------------------------\n",
      "1~100에서 3의 배수의 합계:1683\n"
     ]
    }
   ],
   "source": [
    "#ex 4-5\n",
    "\n",
    "sum=0\n",
    "for i in range(1,101):\n",
    "    if i%3==0:\n",
    "        print('%d'%i,end='')\n",
    "        sum+=i\n",
    "        \n",
    "print('/n','-'*50)\n",
    "print('1~100에서 3의 배수의 합계:%d'%sum)"
   ]
  },
  {
   "cell_type": "code",
   "execution_count": null,
   "metadata": {},
   "outputs": [],
   "source": [
    "word=input('영어 문장을 입렵하세요.:')\n",
    "\n",
    "for x in word:\n",
    "    print(x)\n"
   ]
  },
  {
   "cell_type": "code",
   "execution_count": 12,
   "metadata": {},
   "outputs": [
    {
     "name": "stdout",
     "output_type": "stream",
     "text": [
      "------------------------------\n",
      "     섭씨      화씨\n",
      "------------------------------\n",
      "     -20   -4.0\n",
      "     -15    5.0\n",
      "     -10   14.0\n",
      "      -5   23.0\n",
      "       0   32.0\n",
      "       5   41.0\n",
      "      10   50.0\n",
      "      15   59.0\n",
      "      20   68.0\n",
      "      25   77.0\n",
      "      30   86.0\n",
      "------------------------------\n"
     ]
    }
   ],
   "source": [
    "print('-'*30)\n",
    "print('     섭씨      화씨')\n",
    "print('-'*30)\n",
    "\n",
    "for c in range(-20,31,5):\n",
    "    f=c*9.0/5.0+32.0\n",
    "    print('%8d %6.1f' %(c,f))\n",
    "    \n",
    "print('-'*30)"
   ]
  },
  {
   "cell_type": "code",
   "execution_count": 25,
   "metadata": {},
   "outputs": [
    {
     "name": "stdout",
     "output_type": "stream",
     "text": [
      "-----\n",
      "2 x 1= 2\n",
      "2 x 2= 4\n",
      "2 x 3= 6\n",
      "2 x 4= 8\n",
      "2 x 5= 10\n",
      "2 x 6= 12\n",
      "2 x 7= 14\n",
      "2 x 8= 16\n",
      "2 x 9= 18\n",
      "2 x 10= 20\n",
      "~~~~~~~~~~\n"
     ]
    }
   ],
   "source": [
    "print('-'*5)\n",
    "\n",
    "for a in range(2,3):\n",
    "    for b in range(1,11):\n",
    "        c=a * b\n",
    "        print('%d x %d= %d'% (a,b,c))\n",
    "        \n",
    "    print('~'*10)"
   ]
  },
  {
   "cell_type": "markdown",
   "metadata": {},
   "source": [
    "#while문 예시"
   ]
  },
  {
   "cell_type": "code",
   "execution_count": 28,
   "metadata": {},
   "outputs": [
    {
     "name": "stdout",
     "output_type": "stream",
     "text": [
      "i의 값:1=>합계:1\n",
      "i의 값:2=>합계:3\n",
      "i의 값:3=>합계:6\n",
      "i의 값:4=>합계:10\n",
      "i의 값:5=>합계:15\n",
      "i의 값:6=>합계:21\n",
      "i의 값:7=>합계:28\n",
      "i의 값:8=>합계:36\n",
      "i의 값:9=>합계:45\n",
      "i의 값:10=>합계:55\n"
     ]
    }
   ],
   "source": [
    "sum=0\n",
    "i=1\n",
    "\n",
    "while i<=10:\n",
    "    sum+=i\n",
    "    print('i의 값:%d=>합계:%d'%(i,sum))\n",
    "    i+=1"
   ]
  },
  {
   "cell_type": "code",
   "execution_count": 32,
   "metadata": {},
   "outputs": [
    {
     "name": "stdout",
     "output_type": "stream",
     "text": [
      "989 46\n"
     ]
    }
   ],
   "source": [
    "#합이 1000에 가장 가까운 경우는 1에서 부터 얼마까지 더한 경우인가\n",
    "sum=0\n",
    "count=1\n",
    "while sum <1000:\n",
    "        sum +=count\n",
    "        count+=1\n",
    "print(sum-count,count)"
   ]
  },
  {
   "cell_type": "code",
   "execution_count": 38,
   "metadata": {},
   "outputs": [
    {
     "ename": "IndentationError",
     "evalue": "unindent does not match any outer indentation level (<tokenize>, line 6)",
     "output_type": "error",
     "traceback": [
      "\u001b[1;36m  File \u001b[1;32m\"<tokenize>\"\u001b[1;36m, line \u001b[1;32m6\u001b[0m\n\u001b[1;33m    sum += count\u001b[0m\n\u001b[1;37m    ^\u001b[0m\n\u001b[1;31mIndentationError\u001b[0m\u001b[1;31m:\u001b[0m unindent does not match any outer indentation level\n"
     ]
    }
   ],
   "source": [
    "sum=0\n",
    "count=1\n",
    "while true:\n",
    "      if sum <1000:\n",
    "            break\n",
    "        sum += count\n",
    "        count+=1\n",
    "print(sum-count,count)"
   ]
  },
  {
   "cell_type": "markdown",
   "metadata": {},
   "source": [
    "#리스트 생성과 추출************\n"
   ]
  },
  {
   "cell_type": "code",
   "execution_count": 43,
   "metadata": {},
   "outputs": [
    {
     "ename": "NameError",
     "evalue": "name 'length' is not defined",
     "output_type": "error",
     "traceback": [
      "\u001b[1;31m---------------------------------------------------------------------------\u001b[0m",
      "\u001b[1;31mNameError\u001b[0m                                 Traceback (most recent call last)",
      "\u001b[1;32m<ipython-input-43-d3432dd8f287>\u001b[0m in \u001b[0;36m<module>\u001b[1;34m\u001b[0m\n\u001b[0;32m      4\u001b[0m \u001b[0mlenght\u001b[0m\u001b[1;33m=\u001b[0m\u001b[0mlist1\u001b[0m\u001b[1;33m.\u001b[0m\u001b[0mcount\u001b[0m\u001b[1;33m(\u001b[0m\u001b[1;34m'aaa'\u001b[0m\u001b[1;33m)\u001b[0m\u001b[1;33m\u001b[0m\u001b[1;33m\u001b[0m\u001b[0m\n\u001b[0;32m      5\u001b[0m \u001b[1;33m\u001b[0m\u001b[0m\n\u001b[1;32m----> 6\u001b[1;33m \u001b[0mprint\u001b[0m\u001b[1;33m(\u001b[0m\u001b[0mlength\u001b[0m\u001b[1;33m)\u001b[0m\u001b[1;33m\u001b[0m\u001b[1;33m\u001b[0m\u001b[0m\n\u001b[0m",
      "\u001b[1;31mNameError\u001b[0m: name 'length' is not defined"
     ]
    }
   ],
   "source": [
    "#ex 5-4\n",
    "\n",
    "list1=['a','bb','c','aaa','c','ddd','b','cc','d','aaa',]\n",
    "lenght=list1.count('aaa')\n",
    "\n",
    "print(length)"
   ]
  },
  {
   "cell_type": "code",
   "execution_count": 51,
   "metadata": {},
   "outputs": [
    {
     "name": "stdout",
     "output_type": "stream",
     "text": [
      "['h', 'e', 'l', 'l', 'o']\n"
     ]
    }
   ],
   "source": [
    "s=[]\n",
    "for c in 'hello':\n",
    "    s.append(c)\n",
    "print(s)"
   ]
  },
  {
   "cell_type": "code",
   "execution_count": 55,
   "metadata": {},
   "outputs": [
    {
     "name": "stdout",
     "output_type": "stream",
     "text": [
      "[-7, 1, 3, 5, 8, 9, 11, 13]\n",
      "[13, 11, 9, 8, 5, 3, 1, -7]\n"
     ]
    }
   ],
   "source": [
    "#5-5\n",
    "list2=[-7,1,5,8,3,9,11,13]\n",
    "list2.sort()               #오름차순으로\n",
    "print(list2)\n",
    "\n",
    "list2.sort(reverse=True)   \n",
    "print(list2)                 #내림차순으로"
   ]
  },
  {
   "cell_type": "code",
   "execution_count": 59,
   "metadata": {},
   "outputs": [
    {
     "name": "stdout",
     "output_type": "stream",
     "text": [
      "[1, 2, 3, 1, 2, 3, 1, 2, 3]\n"
     ]
    }
   ],
   "source": [
    "a=[1,2,3]\n",
    "print(a*3)"
   ]
  },
  {
   "cell_type": "code",
   "execution_count": 61,
   "metadata": {},
   "outputs": [
    {
     "name": "stdout",
     "output_type": "stream",
     "text": [
      "[1, 2, 3]\n",
      "10\n",
      "o\n"
     ]
    }
   ],
   "source": [
    "#ex 5-6\n",
    "fruits=[a,b,c]\n",
    "for fruit in fruits :\n",
    "    print(fruit)\n"
   ]
  },
  {
   "cell_type": "code",
   "execution_count": 78,
   "metadata": {
    "scrolled": true
   },
   "outputs": [
    {
     "ename": "TypeError",
     "evalue": "unsupported operand type(s) for +=: 'int' and 'list'",
     "output_type": "error",
     "traceback": [
      "\u001b[1;31m---------------------------------------------------------------------------\u001b[0m",
      "\u001b[1;31mTypeError\u001b[0m                                 Traceback (most recent call last)",
      "\u001b[1;32m<ipython-input-78-ff4492bff72f>\u001b[0m in \u001b[0;36m<module>\u001b[1;34m\u001b[0m\n\u001b[0;32m      3\u001b[0m \u001b[0msum\u001b[0m\u001b[1;33m=\u001b[0m\u001b[1;36m0\u001b[0m\u001b[1;33m\u001b[0m\u001b[1;33m\u001b[0m\u001b[0m\n\u001b[0;32m      4\u001b[0m \u001b[1;32mfor\u001b[0m \u001b[0mscore\u001b[0m \u001b[1;32min\u001b[0m \u001b[0mscores\u001b[0m\u001b[1;33m:\u001b[0m\u001b[1;33m\u001b[0m\u001b[1;33m\u001b[0m\u001b[0m\n\u001b[1;32m----> 5\u001b[1;33m     \u001b[0msum\u001b[0m\u001b[1;33m+=\u001b[0m \u001b[0mscores\u001b[0m\u001b[1;33m\u001b[0m\u001b[1;33m\u001b[0m\u001b[0m\n\u001b[0m\u001b[0;32m      6\u001b[0m \u001b[1;33m\u001b[0m\u001b[0m\n\u001b[0;32m      7\u001b[0m \u001b[0mprint\u001b[0m\u001b[1;33m(\u001b[0m\u001b[0msum\u001b[0m\u001b[1;33m,\u001b[0m \u001b[0msum\u001b[0m\u001b[1;33m/\u001b[0m\u001b[0mlen\u001b[0m\u001b[1;33m(\u001b[0m\u001b[0mscores\u001b[0m\u001b[1;33m)\u001b[0m\u001b[1;33m)\u001b[0m\u001b[1;33m\u001b[0m\u001b[1;33m\u001b[0m\u001b[0m\n",
      "\u001b[1;31mTypeError\u001b[0m: unsupported operand type(s) for +=: 'int' and 'list'"
     ]
    }
   ],
   "source": [
    "#ex 5-7\n",
    "scores=[88,75,92,95,77,69,80,92]\n",
    "sum=0\n",
    "for score in scores:\n",
    "    sum+= scores\n",
    "\n",
    "print(sum, sum/len(scores))"
   ]
  },
  {
   "cell_type": "code",
   "execution_count": 80,
   "metadata": {
    "scrolled": true
   },
   "outputs": [
    {
     "ename": "SyntaxError",
     "evalue": "unexpected character after line continuation character (<ipython-input-80-b1b35cd28cd4>, line 1)",
     "output_type": "error",
     "traceback": [
      "\u001b[1;36m  File \u001b[1;32m\"<ipython-input-80-b1b35cd28cd4>\"\u001b[1;36m, line \u001b[1;32m1\u001b[0m\n\u001b[1;33m    scores=[[96,84,80],[96,86,76],[76,95,83],[89,96,69],\\[90,76,91],[82,66,88],[83,86,79],[85,90,83]]\u001b[0m\n\u001b[1;37m                                                                                                     ^\u001b[0m\n\u001b[1;31mSyntaxError\u001b[0m\u001b[1;31m:\u001b[0m unexpected character after line continuation character\n"
     ]
    }
   ],
   "source": [
    "scores=[[96,84,80],[96,86,76],[76,95,83],[89,96,69],\\[90,76,91],[82,66,88],[83,86,79],[85,90,83]]\n",
    "for i in range(len(scores)):\n",
    "    sum=0\n",
    "    for j in range(len(scores[i])):\n",
    "        sum=sum+scores[i][j]\n",
    "        \n",
    "    avg=sum/len(scores[i])\n",
    "    print('%d번째 학생의 합계:%d',평균:%.2f'%(i+1,sum,avg))\n",
    "    "
   ]
  },
  {
   "cell_type": "markdown",
   "metadata": {},
   "source": [
    "# 리스트 표현식"
   ]
  },
  {
   "cell_type": "code",
   "execution_count": 82,
   "metadata": {},
   "outputs": [
    {
     "name": "stdout",
     "output_type": "stream",
     "text": [
      "[1, 4, 9, 16, 25]\n"
     ]
    }
   ],
   "source": [
    "a=[]\n",
    "for i in range(1,6):\n",
    "    a.append(i*i)\n",
    "print(a)"
   ]
  },
  {
   "cell_type": "code",
   "execution_count": 84,
   "metadata": {},
   "outputs": [
    {
     "name": "stdout",
     "output_type": "stream",
     "text": [
      "[1, 4, 9, 16, 25]\n"
     ]
    }
   ],
   "source": [
    "a=[i*i for i in range(1,6)]\n",
    "print(a)"
   ]
  },
  {
   "cell_type": "code",
   "execution_count": 86,
   "metadata": {},
   "outputs": [
    {
     "name": "stdout",
     "output_type": "stream",
     "text": [
      "[1, 9, 25, 49, 81]\n"
     ]
    }
   ],
   "source": [
    "b=[]\n",
    "for i in range(1,10,2):\n",
    "        b.append(i*i)\n",
    "print(b)        \n",
    "    \n"
   ]
  },
  {
   "cell_type": "code",
   "execution_count": 88,
   "metadata": {},
   "outputs": [
    {
     "ename": "SyntaxError",
     "evalue": "invalid syntax (<ipython-input-88-d10a02fbe297>, line 1)",
     "output_type": "error",
     "traceback": [
      "\u001b[1;36m  File \u001b[1;32m\"<ipython-input-88-d10a02fbe297>\"\u001b[1;36m, line \u001b[1;32m1\u001b[0m\n\u001b[1;33m    b=[i*ito i in range(1,10)if i%2=1]\u001b[0m\n\u001b[1;37m             ^\u001b[0m\n\u001b[1;31mSyntaxError\u001b[0m\u001b[1;31m:\u001b[0m invalid syntax\n"
     ]
    }
   ],
   "source": [
    "b=[i*ito i in range(1,10)if i%2=1]\n",
    "print(b)"
   ]
  },
  {
   "cell_type": "code",
   "execution_count": 90,
   "metadata": {},
   "outputs": [
    {
     "name": "stdout",
     "output_type": "stream",
     "text": [
      "[1, 9, 25, 49, 81]\n"
     ]
    }
   ],
   "source": [
    "b=[i*i for i in range(1,10,2)]\n",
    "print(b)"
   ]
  },
  {
   "cell_type": "code",
   "execution_count": 96,
   "metadata": {},
   "outputs": [
    {
     "name": "stdout",
     "output_type": "stream",
     "text": [
      "[2, 4, 6, 8, 10, 12, 14, 16, 18, 3, 6, 9, 12, 15, 18, 21, 24, 27, 4, 8, 12, 16, 20, 24, 28, 32, 36, 5, 10, 15, 20, 25, 30, 35, 40, 45, 6, 12, 18, 24, 30, 36, 42, 48, 54, 7, 14, 21, 28, 35, 42, 49, 56, 63, 8, 16, 24, 32, 40, 48, 56, 64, 72, 9, 18, 27, 36, 45, 54, 63, 72, 81]\n"
     ]
    }
   ],
   "source": [
    "gugudan=[i* k for i in range(2,10)\n",
    "            for k in range(1,10)]\n",
    "\n",
    "print(gugudan)"
   ]
  },
  {
   "cell_type": "markdown",
   "metadata": {},
   "source": [
    "## 항수 결과"
   ]
  },
  {
   "cell_type": "code",
   "execution_count": 97,
   "metadata": {},
   "outputs": [
    {
     "data": {
      "text/plain": [
       "['i', 'love', 'you']"
      ]
     },
     "execution_count": 97,
     "metadata": {},
     "output_type": "execute_result"
    }
   ],
   "source": [
    "'i love you'.split(' ')"
   ]
  }
 ],
 "metadata": {
  "kernelspec": {
   "display_name": "Python 3",
   "language": "python",
   "name": "python3"
  },
  "language_info": {
   "codemirror_mode": {
    "name": "ipython",
    "version": 3
   },
   "file_extension": ".py",
   "mimetype": "text/x-python",
   "name": "python",
   "nbconvert_exporter": "python",
   "pygments_lexer": "ipython3",
   "version": "3.7.6"
  }
 },
 "nbformat": 4,
 "nbformat_minor": 4
}
