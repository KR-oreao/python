{
 "cells": [
  {
   "cell_type": "markdown",
   "metadata": {},
   "source": [
    "# 보충수업 정리"
   ]
  },
  {
   "cell_type": "markdown",
   "metadata": {},
   "source": [
    "#######################코딩해석하는 능력 키우기##########################"
   ]
  },
  {
   "cell_type": "markdown",
   "metadata": {},
   "source": [
    "1번............\n",
    "다음과 같이 n! = 1 * 2 * 3 * ... * n-1 * n을 계산하는 프로그램을 만들기 위하여 factorial() \n",
    "함수를 포함하는 factorial 모듈을 만드시오. 이때 factorial \n",
    "함수는 재귀 호출을 사용하지 않는 함수로 구성하시오. (주석을 작성하세요.)"
   ]
  },
  {
   "cell_type": "markdown",
   "metadata": {},
   "source": [
    "## factorial() 에 대한 개념 정리하기****\n"
   ]
  },
  {
   "cell_type": "markdown",
   "metadata": {},
   "source": [
    "2번.........................\n",
    "1487, 4817, 8147은 3330씩 증가하는 등차수열(arithmetic sequence)이다. 이 세 개의 수는 특이한 점이 있는데, 셋 다 소수이면서, 셋은 서로 자리에 있는 숫자만 바꾼 수들이라는 것이다.\n",
    "\n",
    "이러한 특성(+-3330 등차수열, 소수, 자리만 바꾼 수)을 보이는 한 자리, 두 자리, 세 자리인 소수는 없다. 그러나 네 자리 숫자 중 이러한 특성을 보이는 숫자들이 한 세트 더 있다.\n",
    "\n",
    "이 숫자들을 작은 것부터 순서대로 연결하여 만들 수 있는 12자리 숫자는 무엇인가? 예) 1487, 4817, 8147 -> 148748178147"
   ]
  },
  {
   "cell_type": "code",
   "execution_count": 4,
   "metadata": {},
   "outputs": [
    {
     "name": "stdout",
     "output_type": "stream",
     "text": [
      "1049 1499 1949\n",
      "1063 3613 6163\n",
      "1259 2129 2999\n",
      "1279 1999 2719\n",
      "1321 2221 3121\n",
      "1427 2777 4127\n",
      "1439 3191 4943\n",
      "1453 3433 5413\n",
      "1471 4441 7411\n",
      "1487 4817 8147 *\n",
      "2063 2633 3203\n",
      "2131 2221 2311\n",
      "2243 2333 2423\n",
      "2417 2447 2477\n",
      "2467 4447 6427\n",
      "2473 3373 4273\n",
      "2543 3533 4523\n",
      "2609 6269 9929\n",
      "2647 4447 6247\n",
      "2969 6299 9629 *\n",
      "3169 3391 3613\n",
      "3457 4447 5437\n",
      "3469 4969 6469\n",
      "3547 4447 5347\n",
      "3659 6599 9539\n",
      "3691 6661 9631\n",
      "3697 3733 3769\n",
      "3697 6733 9769\n",
      "3769 6733 9697\n",
      "3947 4373 4799\n",
      "3967 6967 9967\n",
      "4021 4111 4201\n",
      "4057 5557 7057\n",
      "4261 4441 4621\n",
      "4549 4999 5449\n",
      "4567 5557 6547\n",
      "4861 6661 8461\n",
      "5197 7177 9157\n",
      "5281 5581 5881\n",
      "5641 6151 6661\n",
      "5821 5851 5881\n",
      "5897 7877 9857\n",
      "5927 7577 9227\n",
      "6037 6337 6637\n",
      "6053 6353 6653\n",
      "6073 6373 6673\n",
      "6073 6703 7333\n",
      "6203 6263 6323\n",
      "6359 6659 6959\n",
      "6379 6673 6967\n",
      "6481 6661 6841\n",
      "6703 6733 6763\n",
      "6793 7393 7993\n",
      "6803 6833 6863\n",
      "6827 7727 8627\n",
      "7481 8111 8741\n",
      "7639 7669 7699\n",
      "8147 8447 8747\n",
      "8369 8669 8969\n",
      "8467 8677 8887\n",
      "9041 9491 9941\n"
     ]
    }
   ],
   "source": [
    "\n",
    "#소수찾는 함수 찾기\n",
    "#함수 구성 찾기\n",
    "\n",
    "\n",
    "\n",
    "\n",
    "\n",
    "\n",
    "#***for문에 대해서 공부해두기 \n",
    "#***해당하는 데이터를 찾는방법이 중요하다\n",
    "#***이중for문장 방법을 알아야한다!!!!!\n",
    "#파이썬\n",
    "#소수, 자리만 바꾼수 조건은 동일하며,\n",
    "#+-3330 등차수열 대신 모든 가능한 등차수열을 출력해보았습니다.\n",
    "#단, 3330에는 * 표시가 되도록 하였습니다\n",
    "\n",
    "def sosu_check(x):      #소수이면 True 반환\n",
    "    i=2\n",
    "    while(i<=x):        \n",
    "        if x%i==0:\n",
    "            result=False\n",
    "            break\n",
    "        else:\n",
    "            i+=1\n",
    "    if i==x:\n",
    "        result=True\n",
    "    return result\n",
    "\n",
    "def check_num(a,b):     #두번째 입력값이 첫번째 입력값의 각 숫자로만 구성되어 있으면 True 반환\n",
    "    a,b,a_num,b_num,num=str(a),str(b),[],[],0\n",
    "    for i in range (len(a)):\n",
    "        a_num.append(int(a[i]))\n",
    "        b_num.append(int(b[i]))\n",
    "    for i in range (len(a)):\n",
    "        if b_num[i] in a_num:\n",
    "            num+=1\n",
    "    if num==4:\n",
    "        return (True)\n",
    "\n",
    "sosu_group=[]\n",
    "for i in range (1000,10000):\n",
    "    if sosu_check(i)==True:\n",
    "        sosu_group.append(i)\n",
    "\n",
    "for i in range (len(sosu_group)-2):\n",
    "    for j in range (i+1,len(sosu_group)-2):\n",
    "        if check_num(sosu_group[i],sosu_group[j])==True:\n",
    "            inc=sosu_group[j]-sosu_group[i]\n",
    "            if sosu_group[j]+inc in sosu_group:\n",
    "                if check_num(sosu_group[i],sosu_group[j]+inc)==True:\n",
    "                    if inc==3330:\n",
    "                        print (sosu_group[i],sosu_group[j],sosu_group[j]+inc,'*')\n",
    "                    else:\n",
    "                        print (sosu_group[i],sosu_group[j],sosu_group[j]+inc)\n",
    "                        \n",
    "                        \n",
    "                        \n",
    "                        \n",
    "                        \n",
    "                        ##가장 이상적인 코드\n",
    "                        "
   ]
  },
  {
   "cell_type": "code",
   "execution_count": 5,
   "metadata": {},
   "outputs": [
    {
     "data": {
      "text/plain": [
       "1227365"
      ]
     },
     "execution_count": 5,
     "metadata": {},
     "output_type": "execute_result"
    }
   ],
   "source": []
  }
 ],
 "metadata": {
  "kernelspec": {
   "display_name": "Python 3",
   "language": "python",
   "name": "python3"
  },
  "language_info": {
   "codemirror_mode": {
    "name": "ipython",
    "version": 3
   },
   "file_extension": ".py",
   "mimetype": "text/x-python",
   "name": "python",
   "nbconvert_exporter": "python",
   "pygments_lexer": "ipython3",
   "version": "3.7.6"
  }
 },
 "nbformat": 4,
 "nbformat_minor": 4
}
