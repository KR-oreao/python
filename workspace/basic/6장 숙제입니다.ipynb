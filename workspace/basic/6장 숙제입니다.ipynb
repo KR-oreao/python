{
 "cells": [
  {
   "cell_type": "code",
   "execution_count": 52,
   "metadata": {},
   "outputs": [
    {
     "name": "stdout",
     "output_type": "stream",
     "text": [
      "{'kim99': '12000', 'lee66': 11000, 'han55': 3000, 'hong77': 5000, 'hwnag33': 18000}\n"
     ]
    }
   ],
   "source": [
    "mileage={'kim99':12000,'lee66':11000,'han55':3000,'hong77':5000,'hwnag33':18000}\n",
    "print(mileage) "
   ]
  },
  {
   "cell_type": "code",
   "execution_count": 80,
   "metadata": {},
   "outputs": [
    {
     "name": "stdout",
     "output_type": "stream",
     "text": [
      "1.아이디:kim99,마일리지:12000점\n",
      "2.아이디:lee66,마일리지:11000점\n",
      "3.아이디:han55,마일리지:3000점\n",
      "4.아이디:hong77,마일리지:5000점\n",
      "5.아이디:hwnag33,마일리지:18000점\n",
      "6.아이디:jang88,마일리지:7000점\n"
     ]
    }
   ],
   "source": [
    "sum=0\n",
    "for key in mileage:\n",
    "    sum +=1\n",
    "    print('{}.아이디:{},마일리지:{}점'.format(sum,key,mileage[key]))"
   ]
  },
  {
   "cell_type": "code",
   "execution_count": 94,
   "metadata": {},
   "outputs": [
    {
     "name": "stdout",
     "output_type": "stream",
     "text": [
      "전체 딕셔너리: {'kim99': 12000, 'lee66': 11000, 'han55': 3000, 'hong77': 5000, 'hwnag33': 18000, 'jang88': 7000}\n",
      "jang88님의 마일리지(7000점)가 추가되었습니다.\n"
     ]
    }
   ],
   "source": [
    "mileage['jang88']=7000\n",
    "\n",
    "print('전체 딕셔너리:',mileage)\n",
    "\n",
    "print('jang88님의 마일리지(%d점)가 추가되었습니다.'% (mileage['jang88']))"
   ]
  },
  {
   "cell_type": "code",
   "execution_count": 97,
   "metadata": {},
   "outputs": [
    {
     "name": "stdout",
     "output_type": "stream",
     "text": [
      "{'월': 25.5, '화': 28.3, '수': 33.2, '목': 32.1, '금': 17.3, '토': 35.3, '일': 33.3}\n"
     ]
    }
   ],
   "source": [
    "temp={'월':25.5,'화':28.3,'수':33.2,'목':32.1,'금':17.3,'토':35.3,'일':33.3}\n",
    "print(temp)"
   ]
  },
  {
   "cell_type": "code",
   "execution_count": 122,
   "metadata": {},
   "outputs": [
    {
     "name": "stdout",
     "output_type": "stream",
     "text": [
      "--------------------------------------------------\n",
      "월   화   수   목   금   토   일\n",
      "--------------------------------------------------\n",
      " 25.5  28.3  33.2  32.1  17.3  35.3  33.3 \n",
      " -------------------------------------------------\n"
     ]
    }
   ],
   "source": [
    "print('-'*50)\n",
    "print('월   화   수   목   금   토   일')\n",
    "print('-'*50)\n",
    "\n",
    "\n",
    "for key in temp.values():\n",
    "    print('',key, end=' ')\n",
    "print('\\n','-'*49)"
   ]
  },
  {
   "cell_type": "code",
   "execution_count": 194,
   "metadata": {},
   "outputs": [
    {
     "name": "stdout",
     "output_type": "stream",
     "text": [
      "기온이 30˚이상인 요일:수목토일"
     ]
    }
   ],
   "source": [
    "max=[]\n",
    "for key, values in temp.items():\n",
    "    if values > 30:\n",
    "        max.append(key)\n",
    "     \n",
    "print('기온이 30˚이상인 요일:', end='')\n",
    "for x in max:\n",
    "    print(x,end='')"
   ]
  },
  {
   "cell_type": "markdown",
   "metadata": {},
   "source": [
    "## 7장 문제"
   ]
  },
  {
   "cell_type": "code",
   "execution_count": 198,
   "metadata": {},
   "outputs": [
    {
     "name": "stdout",
     "output_type": "stream",
     "text": [
      "20,10\n"
     ]
    }
   ],
   "source": [
    "def f1(a):\n",
    "    a+=10\n",
    "    print(a,end=',')\n",
    "    \n",
    "a=10\n",
    "f1(a)\n",
    "print(a)"
   ]
  },
  {
   "cell_type": "code",
   "execution_count": 4,
   "metadata": {},
   "outputs": [
    {
     "name": "stdout",
     "output_type": "stream",
     "text": [
      "n의 값을 입력하세요 : 20\n",
      "2 3 5 7 11 13 17 19 "
     ]
    }
   ],
   "source": [
    "def prime_number(n):\n",
    "    for i in range(2, n+1):\n",
    "        for j in range(2, i+1):\n",
    "            if i == j:\n",
    "                print(i, end=' ')\n",
    "            elif i % j == 0:\n",
    "                break\n",
    "\n",
    "n = int(input(\"n의 값을 입력하세요 : \"))\n",
    "prime_number(n)"
   ]
  },
  {
   "cell_type": "code",
   "execution_count": 8,
   "metadata": {},
   "outputs": [
    {
     "name": "stdout",
     "output_type": "stream",
     "text": [
      "[1, 4, 9, 16, 25]\n"
     ]
    }
   ],
   "source": [
    "def numSquare(num):\n",
    "    list_new=[]\n",
    "    for i in range(1,num+1):\n",
    "        list_new.append(i**2)\n",
    "        \n",
    "    return list_new\n",
    "\n",
    "n=5\n",
    "result=numSquare(n)\n",
    "print(result)"
   ]
  },
  {
   "cell_type": "code",
   "execution_count": 3,
   "metadata": {},
   "outputs": [
    {
     "name": "stdout",
     "output_type": "stream",
     "text": [
      "※ 비밀번호는 10자리 이상, 영문 대문자를 포함하여야합니다.\n",
      "비밀번호 : 3677848\n",
      "비밀번호 확인 : 3677848\n",
      "비밀번호가 잘못 되었습니다! 다시 입력해주세요\n",
      "비밀번호 : A123456789\n",
      "비밀번호 확인 : asdfsadf\n",
      "비밀번호와 비밀번호 확인이 서로 다릅니다! 다시 입력해주세요!\n",
      "비밀번호 : A123456789\n",
      "비밀번호 확인 : A123456789\n",
      "유효한 비밀번호입니다.\n"
     ]
    }
   ],
   "source": [
    "def checks(a, b):\n",
    "    for uppercheck in a:\n",
    "        if uppercheck.isupper() == True:\n",
    "            break\n",
    "\n",
    "    if a.isdigit() == True or a.islower() == True or len(a) < 10:\n",
    "        return 1\n",
    "    elif a == b:\n",
    "        return 2\n",
    "    else :\n",
    "        return 3\n",
    "\n",
    "print('※ 비밀번호는 10자리 이상, 영문 대문자를 포함하여야합니다.')\n",
    "while True:\n",
    "    passwd = input('비밀번호 : ')\n",
    "    passwd_check = input('비밀번호 확인 : ')\n",
    "\n",
    "\n",
    "    if checks(passwd, passwd_check) == 1 :\n",
    "        print('비밀번호가 잘못 되었습니다! 다시 입력해주세요')\n",
    "    elif checks(passwd, passwd_check) == 2 :\n",
    "        print('유효한 비밀번호입니다.')\n",
    "        break\n",
    "    else :\n",
    "        print('비밀번호와 비밀번호 확인이 서로 다릅니다! 다시 입력해주세요!')\n"
   ]
  }
 ],
 "metadata": {
  "kernelspec": {
   "display_name": "Python 3",
   "language": "python",
   "name": "python3"
  },
  "language_info": {
   "codemirror_mode": {
    "name": "ipython",
    "version": 3
   },
   "file_extension": ".py",
   "mimetype": "text/x-python",
   "name": "python",
   "nbconvert_exporter": "python",
   "pygments_lexer": "ipython3",
   "version": "3.7.6"
  }
 },
 "nbformat": 4,
 "nbformat_minor": 4
}
