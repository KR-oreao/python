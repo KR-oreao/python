{
 "cells": [
  {
   "cell_type": "markdown",
   "metadata": {},
   "source": [
    "# chapter 07 함수"
   ]
  },
  {
   "cell_type": "code",
   "execution_count": 6,
   "metadata": {},
   "outputs": [
    {
     "name": "stdout",
     "output_type": "stream",
     "text": [
      "30\n"
     ]
    }
   ],
   "source": [
    "def add(a, b):\n",
    "    print(a + b)\n",
    "add(10,20)"
   ]
  },
  {
   "cell_type": "code",
   "execution_count": 8,
   "metadata": {},
   "outputs": [
    {
     "name": "stdout",
     "output_type": "stream",
     "text": [
      "30\n",
      "200\n"
     ]
    }
   ],
   "source": [
    "def mul(a, b):\n",
    "    c = a * b\n",
    "    return c\n",
    " \n",
    "def add(a, b):\n",
    "    c = a + b\n",
    "    print(c)\n",
    "    d = mul(a, b)\n",
    "    print(d)\n",
    "    \n",
    "x=10\n",
    "y=20\n",
    "add(x,y)"
   ]
  },
  {
   "cell_type": "code",
   "execution_count": null,
   "metadata": {},
   "outputs": [],
   "source": [
    "def circle_area(r):\n",
    "    area=r*r*3.14\n",
    "    \n",
    "    return area\n",
    "\n",
    "radius=int(input('원의 반지름을 일렵하세요.:'))\n",
    "result=circle_area(radius)\n",
    "print('반지름:%d,원의 면적:%.2f'%(radius,result))\n",
    "\n",
    "radius=int(input('원의 반지름을 일렵하세요.:'))\n",
    "result=circle_area(radius)\n",
    "print('반지름:%d,원의 면적:%.2f'%(radius,result))\n",
    "\n"
   ]
  },
  {
   "cell_type": "code",
   "execution_count": 11,
   "metadata": {},
   "outputs": [
    {
     "name": "stdout",
     "output_type": "stream",
     "text": [
      "10~100의 정수 합계:5005\n",
      "100~1000의 정수 합계:495550\n",
      "1000~10000의 정수 합계:49505500\n"
     ]
    }
   ],
   "source": [
    "#q7-1\n",
    "def sum(start,end):\n",
    "    total=0\n",
    "    for i in range(start,end+1):\n",
    "        total+=i\n",
    "    print('%d~%d의 정수 합계:%d'% (start,end,total))\n",
    "        \n",
    "sum(10,100)\n",
    "sum(100,1000)\n",
    "sum(1000,10000)"
   ]
  },
  {
   "cell_type": "code",
   "execution_count": null,
   "metadata": {},
   "outputs": [],
   "source": [
    "def computeMaxGong(x,y):\n",
    "    if x>y:\n",
    "        small=y\n",
    "    else:\n",
    "        small=x\n",
    "    for i in range(1,small+1):\n",
    "        if((x%i==0)and(y%i==0)):\n",
    "            result=i\n",
    "            return result\n",
    "\n",
    "num1=int(input('첫번째 수를 입력하세요.:'))\n",
    "num2=int(input('두번째 수를 입력하세요.:'))\n",
    "\n"
   ]
  },
  {
   "cell_type": "code",
   "execution_count": 1,
   "metadata": {},
   "outputs": [
    {
     "name": "stdout",
     "output_type": "stream",
     "text": [
      "6\n",
      "28\n",
      "496\n",
      "8128\n"
     ]
    }
   ],
   "source": [
    "for x in range(1, 10000):\n",
    "    sum = 0\n",
    "    for i in range(1, x):\n",
    "        if x % i == 0:\n",
    "            sum += i\n",
    "    if sum == x:\n",
    "        print(sum)"
   ]
  },
  {
   "cell_type": "code",
   "execution_count": null,
   "metadata": {},
   "outputs": [],
   "source": [
    "#약수의 합 구하기"
   ]
  }
 ],
 "metadata": {
  "kernelspec": {
   "display_name": "Python 3",
   "language": "python",
   "name": "python3"
  },
  "language_info": {
   "codemirror_mode": {
    "name": "ipython",
    "version": 3
   },
   "file_extension": ".py",
   "mimetype": "text/x-python",
   "name": "python",
   "nbconvert_exporter": "python",
   "pygments_lexer": "ipython3",
   "version": "3.7.6"
  }
 },
 "nbformat": 4,
 "nbformat_minor": 4
}
