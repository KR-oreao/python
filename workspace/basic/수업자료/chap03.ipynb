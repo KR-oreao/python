{
 "cells": [
  {
   "cell_type": "markdown",
   "metadata": {},
   "source": [
    "chapter03 . 조건문 입니다 어렵네요 하하 :("
   ]
  },
  {
   "cell_type": "code",
   "execution_count": null,
   "metadata": {},
   "outputs": [],
   "source": [
    "#ex 3-1\n",
    "x=int(input('숫자를 입력하세요 :'))\n",
    "if x>0:\n",
    "    print('양수')\n",
    "else:\n",
    "    print('0 또는 음수')"
   ]
  },
  {
   "cell_type": "code",
   "execution_count": null,
   "metadata": {},
   "outputs": [],
   "source": [
    "x=int(input('숫자를 입력하세요 :'))\n",
    "if x>0:\n",
    "    print('양수')\n",
    "else:\n",
    "    if x<0: \n",
    "         print('음수')\n",
    "    else:\n",
    "             print('0')"
   ]
  },
  {
   "cell_type": "code",
   "execution_count": null,
   "metadata": {},
   "outputs": [],
   "source": [
    "if x>50 and x<=70:"
   ]
  },
  {
   "cell_type": "code",
   "execution_count": null,
   "metadata": {},
   "outputs": [],
   "source": [
    "#ex 3-4\n",
    "score1=int(input('필기성적을 입력하세요 :'))\n",
    "score2=int(input('실기성적을 입력하세요 :'))\n",
    "if score1>=80 and score2>=80:\n",
    "    print=('합격!')\n",
    "else:\n",
    "    print('불합격!')"
   ]
  },
  {
   "cell_type": "code",
   "execution_count": null,
   "metadata": {},
   "outputs": [],
   "source": [
    "#ex 3-6\n",
    "name=input('이름을 입력하세요 :')\n",
    "if not name:\n",
    "    print('이름이 입력되지 않았다:')\n",
    "else:\n",
    "    print('이름%s'%name)"
   ]
  },
  {
   "cell_type": "code",
   "execution_count": null,
   "metadata": {},
   "outputs": [],
   "source": [
    "t=0.1                              #0, 00, none은 false,그외는 true....\n",
    "if t:\n",
    "    print('ture')\n",
    "else:\n",
    "    print('false')\n",
    "    "
   ]
  },
  {
   "cell_type": "code",
   "execution_count": null,
   "metadata": {},
   "outputs": [],
   "source": [
    "sum= 0\n",
    "sum+= True\n",
    "print(sum)"
   ]
  },
  {
   "cell_type": "code",
   "execution_count": 3,
   "metadata": {},
   "outputs": [
    {
     "name": "stdout",
     "output_type": "stream",
     "text": [
      "나이를 입력하세요 :5\n",
      "입장료:무료\n"
     ]
    }
   ],
   "source": [
    "#ex 3-8\n",
    "age=int(input('나이를 입력하세요 :'))\n",
    "pay='3000원'\n",
    "if age>=65 or age<7:\n",
    "    pay='무료'\n",
    "    print('입장료:%s'%pay)"
   ]
  },
  {
   "cell_type": "code",
   "execution_count": 5,
   "metadata": {},
   "outputs": [
    {
     "name": "stdout",
     "output_type": "stream",
     "text": [
      "나이를 입력하세요 :5\n",
      "입장료:무료\n"
     ]
    }
   ],
   "source": [
    "#ex 3-8\n",
    "age=int(input('나이를 입력하세요 :'))\n",
    "pay='3000원'\n",
    "if age>=65 or age<7:\n",
    "    pay='무료'\n",
    "    print('입장료:%s'%pay)"
   ]
  },
  {
   "cell_type": "code",
   "execution_count": 7,
   "metadata": {},
   "outputs": [
    {
     "name": "stdout",
     "output_type": "stream",
     "text": [
      "나이를 입력하세요 :5\n"
     ]
    }
   ],
   "source": [
    "age=int(input('나이를 입력하세요 :'))\n",
    "pay='3000원'\n",
    "if age>=65 or age<7:\n",
    "    pay='무료'\n",
    "    \n",
    "elif age <18:\n",
    "    pay='무료'\n",
    "else:\n",
    "    pay= '공짜'\n",
    "\n",
    "    print('입장료:%s'%pay)"
   ]
  },
  {
   "cell_type": "code",
   "execution_count": null,
   "metadata": {},
   "outputs": [],
   "source": [
    "#x3-10\n",
    "score=int(input('점수를 입력하세요 :'))\n",
    "\n",
    "if score>=90:\n",
    "    grade='A'\n",
    "elif score>=80:\n",
    "    grade='B'\n",
    "elif score>=70:\n",
    "    grade='C'\n",
    "elif score>=60:\n",
    "    grade='D'\n",
    "else:\n",
    "    grade='F'\n",
    "print('성적:%d점'%score)\n",
    "print('등급:%s'%grade)"
   ]
  },
  {
   "cell_type": "code",
   "execution_count": 39,
   "metadata": {},
   "outputs": [
    {
     "name": "stdout",
     "output_type": "stream",
     "text": [
      "first, second\n",
      "third\n"
     ]
    }
   ],
   "source": [
    "print(\"first\", end=\", \"); print(\"second\");print('third')"
   ]
  },
  {
   "cell_type": "code",
   "execution_count": 34,
   "metadata": {},
   "outputs": [
    {
     "name": "stdout",
     "output_type": "stream",
     "text": [
      "짝홀짝홀짝홀짝홀\n"
     ]
    }
   ],
   "source": [
    "string=\"홀짝홀짝홀짝홀짝\"\n",
    "\n",
    "print(string[::-1])"
   ]
  },
  {
   "cell_type": "code",
   "execution_count": 44,
   "metadata": {},
   "outputs": [
    {
     "data": {
      "text/plain": [
       "720"
      ]
     },
     "execution_count": 44,
     "metadata": {},
     "output_type": "execute_result"
    }
   ],
   "source": [
    "num_str=\"720\"\n",
    "int(num_str)\n"
   ]
  },
  {
   "cell_type": "code",
   "execution_count": 42,
   "metadata": {
    "scrolled": true
   },
   "outputs": [
    {
     "data": {
      "text/plain": [
       "'100'"
      ]
     },
     "execution_count": 42,
     "metadata": {},
     "output_type": "execute_result"
    }
   ],
   "source": [
    "num=100\n",
    "str(num)"
   ]
  },
  {
   "cell_type": "code",
   "execution_count": 63,
   "metadata": {},
   "outputs": [
    {
     "data": {
      "text/plain": [
       "800"
      ]
     },
     "execution_count": 63,
     "metadata": {},
     "output_type": "execute_result"
    }
   ],
   "source": [
    "a='500'\n",
    "b='300'\n",
    "\n",
    "\n",
    "\n",
    "int(a)+int(b)\n"
   ]
  },
  {
   "cell_type": "code",
   "execution_count": 65,
   "metadata": {},
   "outputs": [
    {
     "name": "stdout",
     "output_type": "stream",
     "text": [
      "3 * 1 = 3\n",
      "3 * 2 = 6\n",
      "3 * 3 = 9\n"
     ]
    }
   ],
   "source": [
    "list=[1,2,3]\n",
    "for i in list:\n",
    "    print('3 *',i, '=', 3 * i)"
   ]
  },
  {
   "cell_type": "code",
   "execution_count": 107,
   "metadata": {},
   "outputs": [
    {
     "name": "stdout",
     "output_type": "stream",
     "text": [
      "-20 -3\n"
     ]
    }
   ],
   "source": [
    "list = [3, -20, -3, 44]\n",
    "print(list[1], list[2])\n",
    "\n"
   ]
  },
  {
   "cell_type": "code",
   "execution_count": 108,
   "metadata": {},
   "outputs": [
    {
     "name": "stdout",
     "output_type": "stream",
     "text": [
      "-20\n",
      "-3\n"
     ]
    }
   ],
   "source": [
    "a = [3, -20, -3, 44]\n",
    "for i in a:\n",
    "    if i < 0:\n",
    "        print(i)"
   ]
  },
  {
   "cell_type": "code",
   "execution_count": null,
   "metadata": {},
   "outputs": [],
   "source": [
    "list = [3, -20, -3, 44]\n",
    "\n",
    "for i in list[]\n",
    "    "
   ]
  }
 ],
 "metadata": {
  "kernelspec": {
   "display_name": "Python 3",
   "language": "python",
   "name": "python3"
  },
  "language_info": {
   "codemirror_mode": {
    "name": "ipython",
    "version": 3
   },
   "file_extension": ".py",
   "mimetype": "text/x-python",
   "name": "python",
   "nbconvert_exporter": "python",
   "pygments_lexer": "ipython3",
   "version": "3.7.6"
  }
 },
 "nbformat": 4,
 "nbformat_minor": 4
}
