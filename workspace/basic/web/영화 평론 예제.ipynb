{
 "cells": [
  {
   "cell_type": "code",
   "execution_count": 2,
   "metadata": {},
   "outputs": [],
   "source": [
    "from bs4 import BeautifulSoup\n",
    "from urllib.request import urlopen"
   ]
  },
  {
   "cell_type": "code",
   "execution_count": 13,
   "metadata": {},
   "outputs": [],
   "source": [
    "url_base = \"http://www.menupan.com\"\n",
    "url_sub = '/restaurant/search/search_main_sub_area.asp?areacode=dj202'\n",
    "url = url_base + url_sub\n",
    "\n",
    "html = urlopen(url)\n",
    "soup = BeautifulSoup(html, 'html.parser')\n",
    "\n",
    "\n",
    "\n",
    "\n",
    "\n",
    "\n",
    "\n",
    "\n",
    "\n",
    "\n",
    "\n",
    "\n",
    "\n",
    "name[]\n",
    "score[]\n",
    "cateagory\n",
    "addir\n",
    "fel\n",
    "\n",
    "\n",
    "for page in range(1,4):\n",
    "    url=url_front+str(page)+url_back\n",
    "    html=urlopen(url)\n",
    "    soup=beatifulsoup()"
   ]
  },
  {
   "cell_type": "code",
   "execution_count": 14,
   "metadata": {},
   "outputs": [
    {
     "data": {
      "text/plain": [
       "<ul class=\"areaList\">\n",
       "<li>\n",
       "<div class=\"pho\">\n",
       "<p class=\"zoom\"><img id=\"zoomImg_0\" src=\"/restaurant/restimg/004/menuimg/b3000044.jpg\"/></p>\n",
       "<div class=\"thum\">\n",
       "<p class=\"sthum\"><a class=\"ov\" href=\"javascript:;\" onmouseover=\"javascript:chgImg('/restaurant/restimg/004/menuimg/b3000044.jpg','0');\"><img id=\"restphoto_img_0\" src=\"/restaurant/restimg/004/menuimg/b3000044.jpg\"/></a></p>\n",
       "<p class=\"sthum\"><a class=\"ov\" href=\"javascript:;\" onmouseover=\"javascript:chgImg('/restaurant/restimg/004/menuimg/b3000047.jpg','0');\"><img id=\"restphoto_img_1\" src=\"/restaurant/restimg/004/menuimg/b3000047.jpg\"/></a></p>\n",
       "<p class=\"sthum\"><a class=\"ov\" href=\"javascript:;\" onmouseover=\"javascript:chgImg('/restaurant/restimg/004/menuimg/b3000046.jpg','0');\"><img id=\"restphoto_img_2\" src=\"/restaurant/restimg/004/menuimg/b3000046.jpg\"/></a></p>\n",
       "</div>\n",
       "</div>\n",
       "<div class=\"ifo\">\n",
       "<dl>\n",
       "<dt><a href=\"/restaurant/onepage.asp?acode=B300004\" target=\"_blank\">라라랄라어은점</a><p class=\"btn\"><a class=\"detBtn\" href=\"/restaurant/onepage.asp?acode=B300004\" target=\"_blank\">자세히보기</a></p></dt>\n",
       "<dd class=\"rate\">\n",
       "<p class=\"point\"><span class=\"star\" style=\"width:83.125%\"></span><!-- ☆☆☆☆☆ //--></p>\n",
       "<p class=\"score\"><span class=\"total\">4.2</span><span class=\"line\">|</span><span class=\"count\">16명 참여</span></p>\n",
       "</dd>\n",
       "<dd>분식<span class=\"barr\">|</span> 대전 유성구 어은동 108-3</dd>\n",
       "<dd>(042)862-3838</dd>\n",
       "<dd class=\"ic\"><img alt=\"프리쿠폰\" class=\"ico_type\" src=\"/image/restaurant/bestrest/ic_coupon.gif\"/><span class=\"typeadd\">도도김밥 한줄 제공</span></dd>\n",
       "<dd class=\"comnt\"><a href=\"/restaurant/onepage.asp?acode=B300004\" target=\"_blank\">라라랄라의 모든 음식에는 원가절감을 위해, \n",
       "\n",
       "혹은 미각을 교란시켜 맛있는 척 하기 위해 사용하는 \n",
       "\n",
       "조미료 및 어떠한 화학첨가물도 들어가지 않는다. \n",
       "\n",
       "오로지 자연에서...</a></dd>\n",
       "</dl>\n",
       "</div>\n",
       "</li>\n",
       "<li>\n",
       "<div class=\"pho\">\n",
       "<p class=\"zoom\"><img id=\"zoomImg_1\" src=\"/restaurant/restimg/002/menuimg/c30006220.jpg\"/></p>\n",
       "<div class=\"thum\">\n",
       "<p class=\"sthum\"><a class=\"ov\" href=\"javascript:;\" onmouseover=\"javascript:chgImg('/restaurant/restimg/002/menuimg/c30006220.jpg','1');\"><img id=\"restphoto_img_0\" src=\"/restaurant/restimg/002/menuimg/c30006220.jpg\"/></a></p>\n",
       "<p class=\"sthum\"><a class=\"ov\" href=\"javascript:;\" onmouseover=\"javascript:chgImg('/restaurant/restimg/002/menuimg/c30006215.jpg','1');\"><img id=\"restphoto_img_1\" src=\"/restaurant/restimg/002/menuimg/c30006215.jpg\"/></a></p>\n",
       "<p class=\"sthum\"><a class=\"ov\" href=\"javascript:;\" onmouseover=\"javascript:chgImg('/restaurant/restimg/002/menuimg/c30006216.jpg','1');\"><img id=\"restphoto_img_2\" src=\"/restaurant/restimg/002/menuimg/c30006216.jpg\"/></a></p>\n",
       "</div>\n",
       "</div>\n",
       "<div class=\"ifo\">\n",
       "<dl>\n",
       "<dt><a href=\"/restaurant/onepage.asp?acode=C300062\" target=\"_blank\">리엔차이</a><p class=\"btn\"><a class=\"detBtn\" href=\"/restaurant/onepage.asp?acode=C300062\" target=\"_blank\">자세히보기</a></p></dt>\n",
       "<dd class=\"rate\">\n",
       "<p class=\"point\"><span class=\"star\" style=\"width:76.8421052631579%\"></span><!-- ☆☆☆☆☆ //--></p>\n",
       "<p class=\"score\"><span class=\"total\">3.8</span><span class=\"line\">|</span><span class=\"count\">19명 참여</span></p>\n",
       "</dd>\n",
       "<dd>중식<span class=\"barr\">|</span> 대전 유성구 죽동 627-1</dd>\n",
       "<dd>(042)824-4499</dd>\n",
       "<dd class=\"comnt\"><a href=\"/restaurant/onepage.asp?acode=C300062\" target=\"_blank\">클래식한 분위기의 퓨전 차이니즈 레스토랑으로 특선 메뉴와 중국 코스요리를 전문으로 하고 있다. \n",
       "\n",
       "그 중에서도 바삭한 튀김 옷의 쫄깃한 탕수육과 해산물을 푸짐하게 넣은 얼큰한 ...</a></dd>\n",
       "</dl>\n",
       "</div>\n",
       "</li>\n",
       "<li>\n",
       "<div class=\"pho\">\n",
       "<p class=\"zoom\"><img id=\"zoomImg_2\" src=\"/restaurant/restimg/003/menuimg/d3008634.jpg\"/></p>\n",
       "<div class=\"thum\">\n",
       "<p class=\"sthum\"><a class=\"ov\" href=\"javascript:;\" onmouseover=\"javascript:chgImg('/restaurant/restimg/003/menuimg/d3008634.jpg','2');\"><img id=\"restphoto_img_0\" src=\"/restaurant/restimg/003/menuimg/d3008634.jpg\"/></a></p>\n",
       "<p class=\"sthum\"><a class=\"ov\" href=\"javascript:;\" onmouseover=\"javascript:chgImg('/restaurant/restimg/003/menuimg/d30086327.jpg','2');\"><img id=\"restphoto_img_1\" src=\"/restaurant/restimg/003/menuimg/d30086327.jpg\"/></a></p>\n",
       "<p class=\"sthum\"><a class=\"ov\" href=\"javascript:;\" onmouseover=\"javascript:chgImg('/restaurant/restimg/003/menuimg/d30086342.jpg','2');\"><img id=\"restphoto_img_2\" src=\"/restaurant/restimg/003/menuimg/d30086342.jpg\"/></a></p>\n",
       "</div>\n",
       "</div>\n",
       "<div class=\"ifo\">\n",
       "<dl>\n",
       "<dt><a href=\"/restaurant/onepage.asp?acode=D300863\" target=\"_blank\">메이드바이 더초콜릿</a><p class=\"btn\"><a class=\"detBtn\" href=\"/restaurant/onepage.asp?acode=D300863\" target=\"_blank\">자세히보기</a></p></dt>\n",
       "<dd class=\"rate\">\n",
       "<p class=\"point\"><span class=\"star\" style=\"width:80.9375%\"></span><!-- ☆☆☆☆☆ //--></p>\n",
       "<p class=\"score\"><span class=\"total\">4.0</span><span class=\"line\">|</span><span class=\"count\">32명 참여</span></p>\n",
       "</dd>\n",
       "<dd>카페/주점<span class=\"barr\">|</span> 대전 유성구 궁동 419-2 1층</dd>\n",
       "<dd>(042)823-7779</dd>\n",
       "<dd class=\"ic\"><img alt=\"프리쿠폰\" class=\"ico_type\" src=\"/image/restaurant/bestrest/ic_coupon.gif\"/><span class=\"typeadd\">오늘의 '차' 제공</span></dd>\n",
       "<dd class=\"comnt\"><a href=\"/restaurant/onepage.asp?acode=D300863\" target=\"_blank\">개성만점 외관으로 눈에 띄는 더 '메이드 바이 더 초콜릿'.\n",
       "핫초코, 초코케익, 수제 초콜릿 등 초콜릿을 전문으로하는 카페다.\n",
       "\n",
       "모든 디저트를 좋은 재료를 사용해 직접 만들어...</a></dd>\n",
       "</dl>\n",
       "</div>\n",
       "</li>\n",
       "<li>\n",
       "<div class=\"pho\">\n",
       "<p class=\"zoom\"><img id=\"zoomImg_3\" src=\"/restaurant/restimg/003/menuimg/d3009632.jpg\"/></p>\n",
       "<div class=\"thum\">\n",
       "<p class=\"sthum\"><a class=\"ov\" href=\"javascript:;\" onmouseover=\"javascript:chgImg('/restaurant/restimg/003/menuimg/d3009632.jpg','3');\"><img id=\"restphoto_img_0\" src=\"/restaurant/restimg/003/menuimg/d3009632.jpg\"/></a></p>\n",
       "<p class=\"sthum\"><a class=\"ov\" href=\"javascript:;\" onmouseover=\"javascript:chgImg('/restaurant/restimg/003/menuimg/d30096312.jpg','3');\"><img id=\"restphoto_img_1\" src=\"/restaurant/restimg/003/menuimg/d30096312.jpg\"/></a></p>\n",
       "<p class=\"sthum\"><a class=\"ov\" href=\"javascript:;\" onmouseover=\"javascript:chgImg('/restaurant/restimg/003/menuimg/d30096328.jpg','3');\"><img id=\"restphoto_img_2\" src=\"/restaurant/restimg/003/menuimg/d30096328.jpg\"/></a></p>\n",
       "</div>\n",
       "</div>\n",
       "<div class=\"ifo\">\n",
       "<dl>\n",
       "<dt><a href=\"/restaurant/onepage.asp?acode=D300963\" target=\"_blank\">로아커피</a><p class=\"btn\"><a class=\"detBtn\" href=\"/restaurant/onepage.asp?acode=D300963\" target=\"_blank\">자세히보기</a></p></dt>\n",
       "<dd class=\"rate\">\n",
       "<p class=\"point\"><span class=\"star\" style=\"width:80.8333333333333%\"></span><!-- ☆☆☆☆☆ //--></p>\n",
       "<p class=\"score\"><span class=\"total\">4.0</span><span class=\"line\">|</span><span class=\"count\">6명 참여</span></p>\n",
       "</dd>\n",
       "<dd>카페/주점<span class=\"barr\">|</span> 대전 유성구 죽동 614-3</dd>\n",
       "<dd>(042)826-7599</dd>\n",
       "<dd class=\"comnt\"><a href=\"/restaurant/onepage.asp?acode=D300963\" target=\"_blank\">대전 죽동에 위치한 예쁜 카페 로아커피(로아스토리)를 소개한다. \n",
       "\n",
       "로아스토리는 수제롤케익, 수제마카롱으로 유명하다. 특히 롤케익은 하루 전에 예약을 받을 정도로 유명하다고 한...</a></dd>\n",
       "</dl>\n",
       "</div>\n",
       "</li>\n",
       "<li>\n",
       "<div class=\"pho\">\n",
       "<p class=\"zoom\"><img id=\"zoomImg_4\" src=\"/restaurant/restimg/000/menuimg/d30097011.jpg\"/></p>\n",
       "<div class=\"thum\">\n",
       "<p class=\"sthum\"><a class=\"ov\" href=\"javascript:;\" onmouseover=\"javascript:chgImg('/restaurant/restimg/000/menuimg/d30097011.jpg','4');\"><img id=\"restphoto_img_0\" src=\"/restaurant/restimg/000/menuimg/d30097011.jpg\"/></a></p>\n",
       "<p class=\"sthum\"><a class=\"ov\" href=\"javascript:;\" onmouseover=\"javascript:chgImg('/restaurant/restimg/000/menuimg/d30097015.jpg','4');\"><img id=\"restphoto_img_1\" src=\"/restaurant/restimg/000/menuimg/d30097015.jpg\"/></a></p>\n",
       "<p class=\"sthum\"><a class=\"ov\" href=\"javascript:;\" onmouseover=\"javascript:chgImg('/restaurant/restimg/000/menuimg/d30097016.jpg','4');\"><img id=\"restphoto_img_2\" src=\"/restaurant/restimg/000/menuimg/d30097016.jpg\"/></a></p>\n",
       "</div>\n",
       "</div>\n",
       "<div class=\"ifo\">\n",
       "<dl>\n",
       "<dt><a href=\"/restaurant/onepage.asp?acode=D300970\" target=\"_blank\">호텔리베라유성 카페엘루스</a><p class=\"btn\"><a class=\"detBtn\" href=\"/restaurant/onepage.asp?acode=D300970\" target=\"_blank\">자세히보기</a></p></dt>\n",
       "<dd class=\"rate\">\n",
       "<p class=\"point\"><span class=\"star\" style=\"width:65%\"></span><!-- ☆☆☆☆☆ //--></p>\n",
       "<p class=\"score\"><span class=\"total\">3.3</span><span class=\"line\">|</span><span class=\"count\">3명 참여</span></p>\n",
       "</dd>\n",
       "<dd>카페/주점<span class=\"barr\">|</span> 대전 유성구 봉명동 444-5</dd>\n",
       "<dd>(042)828-4034</dd>\n",
       "<dd class=\"comnt\"><a href=\"/restaurant/onepage.asp?acode=D300970\" target=\"_blank\">카페엘루스는 호텔 1층에 위치하고 있으며, 넓은 공간과 안락한 분위기로 격조있는 서비스와 함께 성공 비지니스를 위한 사교의 장소이다. \n",
       "\n",
       "</a></dd>\n",
       "</dl>\n",
       "</div>\n",
       "</li>\n",
       "<li>\n",
       "<div class=\"pho\">\n",
       "<p class=\"zoom\"><img id=\"zoomImg_5\" src=\"/restaurant/restimg/000/menuimg/e3002706.jpg\"/></p>\n",
       "<div class=\"thum\">\n",
       "<p class=\"sthum\"><a class=\"ov\" href=\"javascript:;\" onmouseover=\"javascript:chgImg('/restaurant/restimg/000/menuimg/e3002706.jpg','5');\"><img id=\"restphoto_img_0\" src=\"/restaurant/restimg/000/menuimg/e3002706.jpg\"/></a></p>\n",
       "<p class=\"sthum\"><a class=\"ov\" href=\"javascript:;\" onmouseover=\"javascript:chgImg('/restaurant/restimg/000/menuimg/e3002707.jpg','5');\"><img id=\"restphoto_img_1\" src=\"/restaurant/restimg/000/menuimg/e3002707.jpg\"/></a></p>\n",
       "<p class=\"sthum\"><a class=\"ov\" href=\"javascript:;\" onmouseover=\"javascript:chgImg('/restaurant/restimg/000/menuimg/e3002708.jpg','5');\"><img id=\"restphoto_img_2\" src=\"/restaurant/restimg/000/menuimg/e3002708.jpg\"/></a></p>\n",
       "</div>\n",
       "</div>\n",
       "<div class=\"ifo\">\n",
       "<dl>\n",
       "<dt><a href=\"/restaurant/onepage.asp?acode=E300270\" target=\"_blank\">제이부페</a><p class=\"btn\"><a class=\"detBtn\" href=\"/restaurant/onepage.asp?acode=E300270\" target=\"_blank\">자세히보기</a></p></dt>\n",
       "<dd class=\"rate\">\n",
       "<p class=\"point\"><span class=\"star\" style=\"width:68.5135135135135%\"></span><!-- ☆☆☆☆☆ //--></p>\n",
       "<p class=\"score\"><span class=\"total\">3.4</span><span class=\"line\">|</span><span class=\"count\">37명 참여</span></p>\n",
       "</dd>\n",
       "<dd>뷔페<span class=\"barr\">|</span> 대전 유성구 봉명동 469-46 유성 자이아파트 상가 3층</dd>\n",
       "<dd>(042)824-8833</dd>\n",
       "<dd class=\"comnt\"><a href=\"/restaurant/onepage.asp?acode=E300270\" target=\"_blank\">해물, 바비큐 전문 뷔페.\n",
       "\n",
       "여러 개의 소규모 룸이 많아 단촐한 모임이나 데이트 장소로 인기가 많은 뷔페 레스토랑이다.\n",
       "\n",
       "제이부페의 케이크와 후식 종류는 전문 파티쉐가 직접...</a></dd>\n",
       "</dl>\n",
       "</div>\n",
       "</li>\n",
       "<li>\n",
       "<div class=\"pho\">\n",
       "<p class=\"zoom\"><img id=\"zoomImg_6\" src=\"/restaurant/restimg/004/menuimg/f3002443.jpg\"/></p>\n",
       "<div class=\"thum\">\n",
       "<p class=\"sthum\"><a class=\"ov\" href=\"javascript:;\" onmouseover=\"javascript:chgImg('/restaurant/restimg/004/menuimg/f3002443.jpg','6');\"><img id=\"restphoto_img_0\" src=\"/restaurant/restimg/004/menuimg/f3002443.jpg\"/></a></p>\n",
       "<p class=\"sthum\"><a class=\"ov\" href=\"javascript:;\" onmouseover=\"javascript:chgImg('/restaurant/restimg/004/menuimg/f30024419.jpg','6');\"><img id=\"restphoto_img_1\" src=\"/restaurant/restimg/004/menuimg/f30024419.jpg\"/></a></p>\n",
       "<p class=\"sthum\"><a class=\"ov\" href=\"javascript:;\" onmouseover=\"javascript:chgImg('/restaurant/restimg/004/menuimg/f30024425.jpg','6');\"><img id=\"restphoto_img_2\" src=\"/restaurant/restimg/004/menuimg/f30024425.jpg\"/></a></p>\n",
       "</div>\n",
       "</div>\n",
       "<div class=\"ifo\">\n",
       "<dl>\n",
       "<dt><a href=\"/restaurant/onepage.asp?acode=F300244\" target=\"_blank\">피제리아614 죽동점</a><p class=\"btn\"><a class=\"detBtn\" href=\"/restaurant/onepage.asp?acode=F300244\" target=\"_blank\">자세히보기</a></p></dt>\n",
       "<dd class=\"rate\">\n",
       "<p class=\"point\"><span class=\"star\" style=\"width:73.125%\"></span><!-- ☆☆☆☆☆ //--></p>\n",
       "<p class=\"score\"><span class=\"total\">3.7</span><span class=\"line\">|</span><span class=\"count\">8명 참여</span></p>\n",
       "</dd>\n",
       "<dd>양식<span class=\"barr\">|</span> 대전 유성구 죽동 614-7</dd>\n",
       "<dd>(042)826-6147</dd>\n",
       "<dd class=\"comnt\"><a href=\"/restaurant/onepage.asp?acode=F300244\" target=\"_blank\">대전의 유명한 피자전문점 피제리아614 죽동점을 소개한다. \n",
       "\n",
       "피제리아는 참나무 화덕을 이용하는 피자 전문점으로써 다른 양식메뉴들 보다 피자메뉴만을 중점적으로 파는 곳이다. \n",
       "...</a></dd>\n",
       "</dl>\n",
       "</div>\n",
       "</li>\n",
       "<li>\n",
       "<div class=\"pho\">\n",
       "<p class=\"zoom\"><img id=\"zoomImg_7\" src=\"/restaurant/restimg/008/menuimg/g3000784.jpg\"/></p>\n",
       "<div class=\"thum\">\n",
       "<p class=\"sthum\"><a class=\"ov\" href=\"javascript:;\" onmouseover=\"javascript:chgImg('/restaurant/restimg/008/menuimg/g3000784.jpg','7');\"><img id=\"restphoto_img_0\" src=\"/restaurant/restimg/008/menuimg/g3000784.jpg\"/></a></p>\n",
       "<p class=\"sthum\"><a class=\"ov\" href=\"javascript:;\" onmouseover=\"javascript:chgImg('/restaurant/restimg/008/menuimg/g3000785.jpg','7');\"><img id=\"restphoto_img_1\" src=\"/restaurant/restimg/008/menuimg/g3000785.jpg\"/></a></p>\n",
       "<p class=\"sthum\"><a class=\"ov\" href=\"javascript:;\" onmouseover=\"javascript:chgImg('/restaurant/restimg/008/menuimg/g30007811.jpg','7');\"><img id=\"restphoto_img_2\" src=\"/restaurant/restimg/008/menuimg/g30007811.jpg\"/></a></p>\n",
       "</div>\n",
       "</div>\n",
       "<div class=\"ifo\">\n",
       "<dl>\n",
       "<dt><a href=\"/restaurant/onepage.asp?acode=G300078\" target=\"_blank\">마들렌과자점</a><p class=\"btn\"><a class=\"detBtn\" href=\"/restaurant/onepage.asp?acode=G300078\" target=\"_blank\">자세히보기</a></p></dt>\n",
       "<dd class=\"rate\">\n",
       "<p class=\"point\"><span class=\"star\" style=\"width:78%\"></span><!-- ☆☆☆☆☆ //--></p>\n",
       "<p class=\"score\"><span class=\"total\">3.9</span><span class=\"line\">|</span><span class=\"count\">10명 참여</span></p>\n",
       "</dd>\n",
       "<dd>베이커리<span class=\"barr\">|</span> 대전 유성구 지족동 910-14</dd>\n",
       "<dd>(042)476-1948</dd>\n",
       "<dd class=\"ic\"><img alt=\"프리쿠폰\" class=\"ico_type\" src=\"/image/restaurant/bestrest/ic_coupon.gif\"/><span class=\"typeadd\">케이크 주문시, 쿠키 1개 제공</span></dd>\n",
       "<dd class=\"comnt\"><a href=\"/restaurant/onepage.asp?acode=G300078\" target=\"_blank\">직장인들이 출근하기 전부터, 학생들이 등교하기 전부터 신선하고 새로운 빵을 매일같이 만들어 내는 '마들렌 과자점'\n",
       "\n",
       "마들렌은 화학첨가제를 사용하지 않고 유네스코 지정 신안에서 ...</a></dd>\n",
       "</dl>\n",
       "</div>\n",
       "</li>\n",
       "<li>\n",
       "<div class=\"pho\">\n",
       "<p class=\"zoom\"><img id=\"zoomImg_8\" src=\"/restaurant/restimg/003/menuimg/g30009329.jpg\"/></p>\n",
       "<div class=\"thum\">\n",
       "<p class=\"sthum\"><a class=\"ov\" href=\"javascript:;\" onmouseover=\"javascript:chgImg('/restaurant/restimg/003/menuimg/g30009329.jpg','8');\"><img id=\"restphoto_img_0\" src=\"/restaurant/restimg/003/menuimg/g30009329.jpg\"/></a></p>\n",
       "<p class=\"sthum\"><a class=\"ov\" href=\"javascript:;\" onmouseover=\"javascript:chgImg('/restaurant/restimg/003/menuimg/g30009330.jpg','8');\"><img id=\"restphoto_img_1\" src=\"/restaurant/restimg/003/menuimg/g30009330.jpg\"/></a></p>\n",
       "<p class=\"sthum\"><a class=\"ov\" href=\"javascript:;\" onmouseover=\"javascript:chgImg('/restaurant/restimg/003/menuimg/g30009331.jpg','8');\"><img id=\"restphoto_img_2\" src=\"/restaurant/restimg/003/menuimg/g30009331.jpg\"/></a></p>\n",
       "</div>\n",
       "</div>\n",
       "<div class=\"ifo\">\n",
       "<dl>\n",
       "<dt><a href=\"/restaurant/onepage.asp?acode=G300093\" target=\"_blank\">호텔리베라유성 델리샵</a><p class=\"btn\"><a class=\"detBtn\" href=\"/restaurant/onepage.asp?acode=G300093\" target=\"_blank\">자세히보기</a></p></dt>\n",
       "<dd class=\"rate\">\n",
       "<p class=\"point\"><span class=\"star\" style=\"width:87.5%\"></span><!-- ☆☆☆☆☆ //--></p>\n",
       "<p class=\"score\"><span class=\"total\">4.4</span><span class=\"line\">|</span><span class=\"count\">2명 참여</span></p>\n",
       "</dd>\n",
       "<dd>베이커리<span class=\"barr\">|</span> 대전 유성구 봉명동 444-5 리베라관광호텔</dd>\n",
       "<dd>(042)828-4035</dd>\n",
       "<dd class=\"comnt\"><a href=\"/restaurant/onepage.asp?acode=G300093\" target=\"_blank\">우수한 경력의 리베라 제과주방장이 갓 구워낸 신선한 빵과 케익, 와인, 초코렛기획상품을 판매하고 있다. \n",
       "\n",
       "오전시간에 방문하면 즉석에서 구워져 나온 따끈하고 부드러운 빵을 맛볼...</a></dd>\n",
       "</dl>\n",
       "</div>\n",
       "</li>\n",
       "<li>\n",
       "<div class=\"pho\">\n",
       "<p class=\"zoom\"><img id=\"zoomImg_9\" src=\"/restaurant/restimg/000/menuimg/h1198804.jpg\"/></p>\n",
       "<div class=\"thum\">\n",
       "<p class=\"sthum\"><a class=\"ov\" href=\"javascript:;\" onmouseover=\"javascript:chgImg('/restaurant/restimg/000/menuimg/h1198804.jpg','9');\"><img id=\"restphoto_img_0\" src=\"/restaurant/restimg/000/menuimg/h1198804.jpg\"/></a></p>\n",
       "<p class=\"sthum\"><a class=\"ov\" href=\"javascript:;\" onmouseover=\"javascript:chgImg('/restaurant/restimg/000/menuimg/h1198807.jpg','9');\"><img id=\"restphoto_img_1\" src=\"/restaurant/restimg/000/menuimg/h1198807.jpg\"/></a></p>\n",
       "<p class=\"sthum\"><a class=\"ov\" href=\"javascript:;\" onmouseover=\"javascript:chgImg('/restaurant/restimg/000/menuimg/h1198809.jpg','9');\"><img id=\"restphoto_img_2\" src=\"/restaurant/restimg/000/menuimg/h1198809.jpg\"/></a></p>\n",
       "</div>\n",
       "</div>\n",
       "<div class=\"ifo\">\n",
       "<dl>\n",
       "<dt><a href=\"/restaurant/onepage.asp?acode=H119880\" target=\"_blank\">대사봉무쇠솥밥</a><p class=\"btn\"><a class=\"detBtn\" href=\"/restaurant/onepage.asp?acode=H119880\" target=\"_blank\">자세히보기</a></p></dt>\n",
       "<dd class=\"rate\">\n",
       "<p class=\"point\"><span class=\"star\" style=\"width:61.6666666666667%\"></span><!-- ☆☆☆☆☆ //--></p>\n",
       "<p class=\"score\"><span class=\"total\">3.1</span><span class=\"line\">|</span><span class=\"count\">12명 참여</span></p>\n",
       "</dd>\n",
       "<dd>한식<span class=\"barr\">|</span> 대전 유성구 갑동 327-9</dd>\n",
       "<dd>(042)825-8803</dd>\n",
       "<dd class=\"comnt\"><a href=\"/restaurant/onepage.asp?acode=H119880\" target=\"_blank\">계룡 휴게소 인근에 무쇠솥에 지은 밥을 선보이는 한식당이 바로 '대사봉무쇠솥밥'이다.\n",
       "\n",
       "인기메뉴 무쇠솥밥 청국장정식은 10가지 이상의 밑반찬을 제공하고 흑미를 섞어 지은 무쇠솥...</a></dd>\n",
       "</dl>\n",
       "</div>\n",
       "</li>\n",
       "</ul>"
      ]
     },
     "execution_count": 14,
     "metadata": {},
     "output_type": "execute_result"
    }
   ],
   "source": [
    "rest_list = soup.find_all(class_= 'areaList')\n",
    "rest_list[0]"
   ]
  },
  {
   "cell_type": "code",
   "execution_count": null,
   "metadata": {},
   "outputs": [],
   "source": []
  },
  {
   "cell_type": "markdown",
   "metadata": {},
   "source": [
    "#    영화관람 관련!"
   ]
  },
  {
   "cell_type": "code",
   "execution_count": null,
   "metadata": {},
   "outputs": [],
   "source": []
  },
  {
   "cell_type": "code",
   "execution_count": 45,
   "metadata": {},
   "outputs": [],
   "source": [
    "from bs4 import BeautifulSoup\n",
    "from urllib.request import urlopen"
   ]
  },
  {
   "cell_type": "code",
   "execution_count": 53,
   "metadata": {},
   "outputs": [],
   "source": [
    "url_base = \"https://movie.naver.com\"\n",
    "url_sub = '/movie/bi/mi/point.nhn?code=186615'\n",
    "url = url_base + url_sub\n",
    "html = urlopen(url)\n",
    "soup = BeautifulSoup(html, 'html.parser')\n"
   ]
  },
  {
   "cell_type": "code",
   "execution_count": 54,
   "metadata": {},
   "outputs": [
    {
     "data": {
      "text/plain": [
       "'/movie/bi/mi/pointWriteFormList.nhn?code=186615&type=after&isActualPointWriteExecute=false&isMileageSubscriptionAlready=false&isMileageSubscriptionReject=false'"
      ]
     },
     "execution_count": 54,
     "metadata": {},
     "output_type": "execute_result"
    }
   ],
   "source": [
    "ifr_url = soup.find('iframe')['src']\n",
    "ifr_url"
   ]
  },
  {
   "cell_type": "code",
   "execution_count": 58,
   "metadata": {},
   "outputs": [],
   "source": [
    "url=url_base+ifr_url\n",
    "html=urlopen(url)\n",
    "soup=BeautifulSoup(html,'html.parser')"
   ]
  },
  {
   "cell_type": "code",
   "execution_count": 72,
   "metadata": {},
   "outputs": [
    {
     "data": {
      "text/plain": [
       "<strong class=\"total\">관람객 평점 <em>4,813</em>건<button class=\"btn_review\" id=\"open-form-btn\">내 평점 등록</button></strong>"
      ]
     },
     "execution_count": 72,
     "metadata": {},
     "output_type": "execute_result"
    }
   ],
   "source": [
    "count=soup.find('strong','total')\n",
    "count"
   ]
  },
  {
   "cell_type": "code",
   "execution_count": 73,
   "metadata": {},
   "outputs": [
    {
     "data": {
      "text/plain": [
       "'4,813'"
      ]
     },
     "execution_count": 73,
     "metadata": {},
     "output_type": "execute_result"
    }
   ],
   "source": [
    "count= count.find('em').string\n",
    "count"
   ]
  },
  {
   "cell_type": "code",
   "execution_count": 74,
   "metadata": {},
   "outputs": [
    {
     "data": {
      "text/plain": [
       "4813"
      ]
     },
     "execution_count": 74,
     "metadata": {},
     "output_type": "execute_result"
    }
   ],
   "source": [
    "count= int(count.replace(',',''))\n",
    "count"
   ]
  },
  {
   "cell_type": "code",
   "execution_count": 77,
   "metadata": {},
   "outputs": [
    {
     "data": {
      "text/plain": [
       "482"
      ]
     },
     "execution_count": 77,
     "metadata": {},
     "output_type": "execute_result"
    }
   ],
   "source": [
    "import math\n",
    "loop_count=math.ceil(count/10)\n",
    "loop_count"
   ]
  },
  {
   "cell_type": "markdown",
   "metadata": {},
   "source": [
    "# 첫 페이지 에서 리뷰 평점 날짜 구하기"
   ]
  },
  {
   "cell_type": "code",
   "execution_count": 79,
   "metadata": {},
   "outputs": [],
   "source": [
    "results= soup.find(class_='score_result')"
   ]
  },
  {
   "cell_type": "code",
   "execution_count": 84,
   "metadata": {},
   "outputs": [
    {
     "data": {
      "text/plain": [
       "<li>\n",
       "<div class=\"star_score\">\n",
       "<span class=\"st_off\"><span class=\"st_on\" style=\"width:90.0%\"></span></span><em>9</em>\n",
       "</div>\n",
       "<div class=\"score_reple\">\n",
       "<p>\n",
       "<!-- 스포일러 컨텐츠로 처리되는지 여부 -->\n",
       "<span id=\"_filtered_ment_0\">\n",
       "\t\t\t\t\t\t\t\t\t\t\t\t\t\t\n",
       "\t\t\t\t\t\t\t\t\t\t\t\t\t\t\t\n",
       "\t\t\t\t\t\t\t\t\t\t\t\t\t\t\t\n",
       "\t\t\t\t\t\t\t\t\t\t\t\t\t\t\t\t미드웨이가 재밌으면 추천 백두산이 재밌으면 비추 \n",
       "\t\t\t\t\t\t\t\t\t\t\t\t\t\t\t\n",
       "\t\t\t\t\t\t\t\t\t\t\t\t\t\t\n",
       "\t\t\t\t\t\t\t\t\t\t\t\t\t\t\n",
       "\t\t\t\t\t\t\t\t\t\t\t\t\t</span>\n",
       "</p>\n",
       "<dl>\n",
       "<dt>\n",
       "<em>\n",
       "<a href=\"#\" onclick=\"javascript:showPointListByNid(16564107, 'after');parent.clickcr(this, 'ara.uid', '', '', event); return false;\" target=\"_top\">\n",
       "<span>낄낄쿨레(sunj****)</span>\n",
       "</a>\n",
       "</em>\n",
       "<em>2019.12.31 09:48</em>\n",
       "</dt>\n",
       "<dd>\n",
       "<a class=\"go_report2\" href=\"#\" onclick=\"parent.clickcr(this, 'ara.report', '', '', event); common.report('false','sunj****', 'KT8lgN4pe9mzxJnFncm+BzRLunMQZVZeJFMIPN8vdVI=', '미드웨이가 재밌으면 추천 백두산이 재밌으면 비추 ', '16564107', 'point_after', false);return false;\"><em>신고</em></a>\n",
       "</dd>\n",
       "</dl>\n",
       "</div>\n",
       "<div class=\"btn_area\">\n",
       "<a class=\"_sympathyButton\" href=\"#\" onclick=\"parent.clickcr(this, 'ara.sym', '', '', event);\">\n",
       "<span class=\"ico_up\"></span>\n",
       "<span class=\"blind\">공감</span>\n",
       "<strong class=\"sympathy_16564107\">3372</strong>\n",
       "</a>\n",
       "<a class=\"_notSympathyButton\" href=\"#\" onclick=\"parent.clickcr(this, 'ara.opp', '', '', event);\">\n",
       "<span class=\"ico_down\"></span>\n",
       "<span class=\"blind\">비공감</span>\n",
       "<strong class=\"notSympathy_16564107\">341</strong>\n",
       "</a>\n",
       "</div>\n",
       "</li>"
      ]
     },
     "execution_count": 84,
     "metadata": {},
     "output_type": "execute_result"
    }
   ],
   "source": [
    "lis= results.find_all('li')\n",
    "li=lis[0]\n",
    "li"
   ]
  },
  {
   "cell_type": "code",
   "execution_count": 90,
   "metadata": {},
   "outputs": [
    {
     "data": {
      "text/plain": [
       "9"
      ]
     },
     "execution_count": 90,
     "metadata": {},
     "output_type": "execute_result"
    }
   ],
   "source": [
    "score=li.find(class_='star_score').find('em').get_text()\n",
    "score=int(score)\n",
    "score"
   ]
  },
  {
   "cell_type": "code",
   "execution_count": 121,
   "metadata": {},
   "outputs": [
    {
     "data": {
      "text/plain": [
       "'미드웨이가 재밌으면 추천 백두산이 재밌으면 비추'"
      ]
     },
     "execution_count": 121,
     "metadata": {},
     "output_type": "execute_result"
    }
   ],
   "source": [
    "li.find(class_='score_reple').find('p').find('span').get_text().strip()"
   ]
  },
  {
   "cell_type": "code",
   "execution_count": 122,
   "metadata": {},
   "outputs": [
    {
     "data": {
      "text/plain": [
       "'미드웨이가 재밌으면 추천 백두산이 재밌으면 비추'"
      ]
     },
     "execution_count": 122,
     "metadata": {},
     "output_type": "execute_result"
    }
   ],
   "source": [
    "review=li.find(class_='score_reple').find('p').find('span').string.strip()\n",
    "review"
   ]
  },
  {
   "cell_type": "code",
   "execution_count": 125,
   "metadata": {},
   "outputs": [
    {
     "data": {
      "text/plain": [
       "[<em>\n",
       " <a href=\"#\" onclick=\"javascript:showPointListByNid(16564107, 'after');parent.clickcr(this, 'ara.uid', '', '', event); return false;\" target=\"_top\">\n",
       " <span>낄낄쿨레(sunj****)</span>\n",
       " </a>\n",
       " </em>,\n",
       " <em>2019.12.31 09:48</em>,\n",
       " <em>신고</em>]"
      ]
     },
     "execution_count": 125,
     "metadata": {},
     "output_type": "execute_result"
    }
   ],
   "source": [
    "li.find(class_='score_reple').find_all('em')"
   ]
  },
  {
   "cell_type": "code",
   "execution_count": 131,
   "metadata": {},
   "outputs": [
    {
     "data": {
      "text/plain": [
       "'2019.12.31 09:48'"
      ]
     },
     "execution_count": 131,
     "metadata": {},
     "output_type": "execute_result"
    }
   ],
   "source": [
    "date=li.find(class_='score_reple').find_all('em')[1].get_text()                ########## 가져오데이터 찾는방법\n",
    "date"
   ]
  },
  {
   "cell_type": "markdown",
   "metadata": {},
   "source": [
    "# 10개의 데이터 가져오기"
   ]
  },
  {
   "cell_type": "code",
   "execution_count": 155,
   "metadata": {},
   "outputs": [],
   "source": [
    "point=[]\n",
    "review=[]\n",
    "date=[]"
   ]
  },
  {
   "cell_type": "code",
   "execution_count": 183,
   "metadata": {},
   "outputs": [
    {
     "name": "stdout",
     "output_type": "stream",
     "text": [
      "9\n",
      "10\n",
      "10\n",
      "10\n",
      "10\n",
      "10\n",
      "10\n",
      "10\n",
      "10\n",
      "8\n"
     ]
    },
    {
     "ename": "AttributeError",
     "evalue": "'NoneType' object has no attribute 'strip'",
     "output_type": "error",
     "traceback": [
      "\u001b[1;31m---------------------------------------------------------------------------\u001b[0m",
      "\u001b[1;31mAttributeError\u001b[0m                            Traceback (most recent call last)",
      "\u001b[1;32m<ipython-input-183-9fab02b952c8>\u001b[0m in \u001b[0;36m<module>\u001b[1;34m\u001b[0m\n\u001b[0;32m      4\u001b[0m     \u001b[0mprint\u001b[0m\u001b[1;33m(\u001b[0m\u001b[0mscore\u001b[0m\u001b[1;33m)\u001b[0m\u001b[1;33m\u001b[0m\u001b[1;33m\u001b[0m\u001b[0m\n\u001b[0;32m      5\u001b[0m     \u001b[0mpoint\u001b[0m\u001b[1;33m.\u001b[0m\u001b[0mappend\u001b[0m\u001b[1;33m(\u001b[0m\u001b[0mscore\u001b[0m\u001b[1;33m)\u001b[0m\u001b[1;33m\u001b[0m\u001b[1;33m\u001b[0m\u001b[0m\n\u001b[1;32m----> 6\u001b[1;33m     \u001b[0mreview\u001b[0m\u001b[1;33m.\u001b[0m\u001b[0mappend\u001b[0m\u001b[1;33m(\u001b[0m\u001b[0mli\u001b[0m\u001b[1;33m.\u001b[0m\u001b[0mfind\u001b[0m\u001b[1;33m(\u001b[0m\u001b[0mclass_\u001b[0m\u001b[1;33m=\u001b[0m\u001b[1;34m'score_reple'\u001b[0m\u001b[1;33m)\u001b[0m\u001b[1;33m.\u001b[0m\u001b[0mfind\u001b[0m\u001b[1;33m(\u001b[0m\u001b[1;34m'p'\u001b[0m\u001b[1;33m)\u001b[0m\u001b[1;33m.\u001b[0m\u001b[0mfind\u001b[0m\u001b[1;33m(\u001b[0m\u001b[1;34m'span'\u001b[0m\u001b[1;33m)\u001b[0m\u001b[1;33m.\u001b[0m\u001b[0mstring\u001b[0m\u001b[1;33m.\u001b[0m\u001b[0mstrip\u001b[0m\u001b[1;33m(\u001b[0m\u001b[1;34m' \\t\\r\\n'\u001b[0m\u001b[1;33m)\u001b[0m\u001b[1;33m)\u001b[0m\u001b[1;33m\u001b[0m\u001b[1;33m\u001b[0m\u001b[0m\n\u001b[0m\u001b[0;32m      7\u001b[0m     \u001b[0mdate\u001b[0m\u001b[1;33m.\u001b[0m\u001b[0mappend\u001b[0m\u001b[1;33m(\u001b[0m\u001b[0mli\u001b[0m\u001b[1;33m.\u001b[0m\u001b[0mfind\u001b[0m\u001b[1;33m(\u001b[0m\u001b[0mclass_\u001b[0m\u001b[1;33m=\u001b[0m\u001b[1;34m'score_reple'\u001b[0m\u001b[1;33m)\u001b[0m\u001b[1;33m.\u001b[0m\u001b[0mfind_all\u001b[0m\u001b[1;33m(\u001b[0m\u001b[1;34m'em'\u001b[0m\u001b[1;33m)\u001b[0m\u001b[1;33m[\u001b[0m\u001b[1;36m1\u001b[0m\u001b[1;33m]\u001b[0m\u001b[1;33m.\u001b[0m\u001b[0mget_text\u001b[0m\u001b[1;33m(\u001b[0m\u001b[1;33m)\u001b[0m\u001b[1;33m)\u001b[0m\u001b[1;33m\u001b[0m\u001b[1;33m\u001b[0m\u001b[0m\n",
      "\u001b[1;31mAttributeError\u001b[0m: 'NoneType' object has no attribute 'strip'"
     ]
    }
   ],
   "source": [
    "for li in lis:\n",
    "    score = li.find(class_='star_score').find('em').get_text()\n",
    "    score = int(score)\n",
    "    print(score)\n",
    "    point.append(score)\n",
    "    review.append(li.find(class_='score_reple').find('p').find('span').string.strip(' \\t\\r\\n'))\n",
    "    date.append(li.find(class_='score_reple').find_all('em')[1].get_text())"
   ]
  },
  {
   "cell_type": "code",
   "execution_count": 157,
   "metadata": {},
   "outputs": [
    {
     "data": {
      "text/plain": [
       "<li class=\"last\">\n",
       "<div class=\"star_score\">\n",
       "<span class=\"st_off\"><span class=\"st_on\" style=\"width:80.0%\"></span></span><em>8</em>\n",
       "</div>\n",
       "<div class=\"score_reple\">\n",
       "<p>\n",
       "<!-- 스포일러 컨텐츠로 처리되는지 여부 -->\n",
       "<span id=\"_filtered_ment_9\">\n",
       "<span class=\"_unfold_ment\" id=\"_unfold_ment9\">\n",
       "<a data-src=\"아니 에머리히 감독이 스토리에 고증을 철저히 지키다니 안믿긴다..(진짜 실제인물에 장면 하나하나가 거의 다 사실인건 솔직히 놀랍네요)(영화에 대한 팩트들)1.제작비는 500억이 아니라 1100억이고 2.소니가 진짜로 20년전에 미드웨이 영화화 반대했고3.평론가 평가가 안좋다?..진주만 보다 20점 높은 44점입니다.(전쟁 영화로써 좋은 점수입니다)4.고증이 안좋다?..스토리 고증은 정말 철저하고 전투기 등등의 디테일은 비슷하지만 완전 정확하진 않음5.중국이 나온다?:나옵니다..하지만 역사적 사실이고 일본은 당시에 미군을 도와준 중국을 보복했죠.(영화는 소니의 반대로 뒤늦게 20년만에 독립영화로 만들어졌는데 1100억의 제작비로 이정도로 강렬한 운명의 5분 미드웨이 해전을 보여준건 놀랍네요) \" href=\"javascript:void(0);\" onclick=\"unfoldPointMent(this);\">\n",
       "\t\t\t\t\t\t\t\t\t\t\t\t\t\t\t\t\t\t아니 에머리히 감독이 스토리에 고증을 철저히 지키다니 안믿긴다..(진짜 실제인물에 장면 하나하나가 거의 다 사실인건 솔직히 놀랍네요)(영화에 대한 팩트들)1.제작비는 500억이 아니라 1100억이고 2.소니가 진짜로...\n",
       "\t\t\t\t\t\t\t\t\t\t\t\t\t\t\t\t\t</a>\n",
       "</span>\n",
       "</span>\n",
       "</p>\n",
       "<dl>\n",
       "<dt>\n",
       "<em>\n",
       "<a href=\"#\" onclick=\"javascript:showPointListByNid(16564157, 'after');parent.clickcr(this, 'ara.uid', '', '', event); return false;\" target=\"_top\">\n",
       "<span>이조이(joyl****)</span>\n",
       "</a>\n",
       "</em>\n",
       "<em>2019.12.31 10:14</em>\n",
       "</dt>\n",
       "<dd>\n",
       "<a class=\"go_report2\" href=\"#\" onclick=\"parent.clickcr(this, 'ara.report', '', '', event); common.report('false','joyl****', 'lREM5M2EjTiZuxkSMBgiu92EYOzQ6fDL0fN/JWMNGCw=', '아니 에머리히 감독이 스토리에 고증을 철저히 지키다니 안믿긴다..(진짜 실제인물에 장면 하나하나가 거의 다 사실인건 솔직히 놀랍네요)(영화에 대한 팩트들)1.제작비는 500억이 아니라 1100억이고 2.소니가 진짜로 20년전에 미드웨이 영화화 반대했고3.평론가 평가가 안좋다?..진주만 보다 20점 높은 44점입니다.(전쟁 영화로써 좋은 점수입니다)4.고증이 안좋다?..스토리 고증은 정말 철저하고 전투기 등등의 디테일은 비슷하지만 완전 정확하진 않음5.중국이 나온다?:나옵니다..하지만 역사적 사실이고 일본은 당시에 미군을 도와준 중국을 보복했죠.(영화는 소니의 반대로 뒤늦게 20년만에 독립영화로 만들어졌는데 1100억의 제작비로 이정도로 강렬한 운명의 5분 미드웨이 해전을 보여준건 놀랍네요) ', '16564157', 'point_after', false);return false;\"><em>신고</em></a>\n",
       "</dd>\n",
       "</dl>\n",
       "</div>\n",
       "<div class=\"btn_area\">\n",
       "<a class=\"_sympathyButton\" href=\"#\" onclick=\"parent.clickcr(this, 'ara.sym', '', '', event);\">\n",
       "<span class=\"ico_up\"></span>\n",
       "<span class=\"blind\">공감</span>\n",
       "<strong class=\"sympathy_16564157\">655</strong>\n",
       "</a>\n",
       "<a class=\"_notSympathyButton\" href=\"#\" onclick=\"parent.clickcr(this, 'ara.opp', '', '', event);\">\n",
       "<span class=\"ico_down\"></span>\n",
       "<span class=\"blind\">비공감</span>\n",
       "<strong class=\"notSympathy_16564157\">28</strong>\n",
       "</a>\n",
       "</div>\n",
       "</li>"
      ]
     },
     "execution_count": 157,
     "metadata": {},
     "output_type": "execute_result"
    }
   ],
   "source": [
    "li9=lis[9]\n",
    "li9"
   ]
  },
  {
   "cell_type": "code",
   "execution_count": 158,
   "metadata": {},
   "outputs": [
    {
     "data": {
      "text/plain": [
       "'아니 에머리히 감독이 스토리에 고증을 철저히 지키다니 안믿긴다..(진짜 실제인물에 장면 하나하나가 거의 다 사실인건 솔직히 놀랍네요)(영화에 대한 팩트들)1.제작비는 500억이 아니라 1100억이고 2.소니가 진짜로...'"
      ]
     },
     "execution_count": 158,
     "metadata": {},
     "output_type": "execute_result"
    }
   ],
   "source": [
    "li9.find(class_='score_reple').find('a').string.strip(' \\t\\r\\n')"
   ]
  },
  {
   "cell_type": "markdown",
   "metadata": {},
   "source": [
    "######('\\t\\r\\n')"
   ]
  },
  {
   "cell_type": "code",
   "execution_count": 148,
   "metadata": {},
   "outputs": [
    {
     "ename": "AttributeError",
     "evalue": "'NoneType' object has no attribute 'find_all'",
     "output_type": "error",
     "traceback": [
      "\u001b[1;31m---------------------------------------------------------------------------\u001b[0m",
      "\u001b[1;31mAttributeError\u001b[0m                            Traceback (most recent call last)",
      "\u001b[1;32m<ipython-input-148-a38c093b45e4>\u001b[0m in \u001b[0;36m<module>\u001b[1;34m\u001b[0m\n\u001b[1;32m----> 1\u001b[1;33m \u001b[0mlen\u001b[0m\u001b[1;33m(\u001b[0m\u001b[0mli\u001b[0m\u001b[1;33m.\u001b[0m\u001b[0mfind\u001b[0m\u001b[1;33m(\u001b[0m\u001b[0mclass_\u001b[0m\u001b[1;33m=\u001b[0m\u001b[1;34m'str_reple'\u001b[0m\u001b[1;33m)\u001b[0m\u001b[1;33m.\u001b[0m\u001b[0mfind_all\u001b[0m\u001b[1;33m(\u001b[0m\u001b[1;34m'span'\u001b[0m\u001b[1;33m)\u001b[0m\u001b[1;33m)\u001b[0m\u001b[1;33m\u001b[0m\u001b[1;33m\u001b[0m\u001b[0m\n\u001b[0m",
      "\u001b[1;31mAttributeError\u001b[0m: 'NoneType' object has no attribute 'find_all'"
     ]
    }
   ],
   "source": [
    "len(li.find(class_='str_reple').find_all('span'))"
   ]
  },
  {
   "cell_type": "code",
   "execution_count": 159,
   "metadata": {},
   "outputs": [
    {
     "data": {
      "text/plain": [
       "3"
      ]
     },
     "execution_count": 159,
     "metadata": {},
     "output_type": "execute_result"
    }
   ],
   "source": [
    "len(li.find(class_='score_reple').find_all('span'))"
   ]
  },
  {
   "cell_type": "code",
   "execution_count": 160,
   "metadata": {},
   "outputs": [
    {
     "data": {
      "text/plain": [
       "3"
      ]
     },
     "execution_count": 160,
     "metadata": {},
     "output_type": "execute_result"
    }
   ],
   "source": [
    "\n",
    "len(li9.find(class_='score_reple').find_all('span'))"
   ]
  },
  {
   "cell_type": "code",
   "execution_count": 161,
   "metadata": {},
   "outputs": [
    {
     "data": {
      "text/plain": [
       "3"
      ]
     },
     "execution_count": 161,
     "metadata": {},
     "output_type": "execute_result"
    }
   ],
   "source": [
    "len(li.find(class_='score_reple').find_all('span'))"
   ]
  },
  {
   "cell_type": "code",
   "execution_count": 162,
   "metadata": {},
   "outputs": [
    {
     "data": {
      "text/plain": [
       "3"
      ]
     },
     "execution_count": 162,
     "metadata": {},
     "output_type": "execute_result"
    }
   ],
   "source": [
    "\n",
    "len(li.find(class_='score_reple').find_all('span'))"
   ]
  },
  {
   "cell_type": "code",
   "execution_count": 163,
   "metadata": {},
   "outputs": [
    {
     "name": "stdout",
     "output_type": "stream",
     "text": [
      "9\n",
      "10\n",
      "10\n",
      "10\n",
      "10\n"
     ]
    },
    {
     "ename": "AttributeError",
     "evalue": "'NoneType' object has no attribute 'strip'",
     "output_type": "error",
     "traceback": [
      "\u001b[1;31m---------------------------------------------------------------------------\u001b[0m",
      "\u001b[1;31mAttributeError\u001b[0m                            Traceback (most recent call last)",
      "\u001b[1;32m<ipython-input-163-8d2bfcf601cf>\u001b[0m in \u001b[0;36m<module>\u001b[1;34m\u001b[0m\n\u001b[0;32m     12\u001b[0m         \u001b[0mreview\u001b[0m\u001b[1;33m.\u001b[0m\u001b[0mappend\u001b[0m\u001b[1;33m(\u001b[0m\u001b[0mr\u001b[0m\u001b[1;33m)\u001b[0m\u001b[1;33m\u001b[0m\u001b[1;33m\u001b[0m\u001b[0m\n\u001b[0;32m     13\u001b[0m     \u001b[1;32melse\u001b[0m\u001b[1;33m:\u001b[0m\u001b[1;33m\u001b[0m\u001b[1;33m\u001b[0m\u001b[0m\n\u001b[1;32m---> 14\u001b[1;33m         \u001b[0mr\u001b[0m \u001b[1;33m=\u001b[0m \u001b[0mli\u001b[0m\u001b[1;33m.\u001b[0m\u001b[0mfind\u001b[0m\u001b[1;33m(\u001b[0m\u001b[0mclass_\u001b[0m\u001b[1;33m=\u001b[0m\u001b[1;34m'score_reple'\u001b[0m\u001b[1;33m)\u001b[0m\u001b[1;33m.\u001b[0m\u001b[0mfind\u001b[0m\u001b[1;33m(\u001b[0m\u001b[1;34m'a'\u001b[0m\u001b[1;33m)\u001b[0m\u001b[1;33m.\u001b[0m\u001b[0mstring\u001b[0m\u001b[1;33m.\u001b[0m\u001b[0mstrip\u001b[0m\u001b[1;33m(\u001b[0m\u001b[1;34m' \\t\\r\\n'\u001b[0m\u001b[1;33m)\u001b[0m\u001b[1;33m\u001b[0m\u001b[1;33m\u001b[0m\u001b[0m\n\u001b[0m\u001b[0;32m     15\u001b[0m         \u001b[0mreview\u001b[0m\u001b[1;33m.\u001b[0m\u001b[0mappend\u001b[0m\u001b[1;33m(\u001b[0m\u001b[0mr\u001b[0m\u001b[1;33m)\u001b[0m\u001b[1;33m\u001b[0m\u001b[1;33m\u001b[0m\u001b[0m\n\u001b[0;32m     16\u001b[0m     \u001b[0mdate\u001b[0m\u001b[1;33m.\u001b[0m\u001b[0mappend\u001b[0m\u001b[1;33m(\u001b[0m\u001b[0mli\u001b[0m\u001b[1;33m.\u001b[0m\u001b[0mfind\u001b[0m\u001b[1;33m(\u001b[0m\u001b[0mclass_\u001b[0m\u001b[1;33m=\u001b[0m\u001b[1;34m'score_reple'\u001b[0m\u001b[1;33m)\u001b[0m\u001b[1;33m.\u001b[0m\u001b[0mfind_all\u001b[0m\u001b[1;33m(\u001b[0m\u001b[1;34m'em'\u001b[0m\u001b[1;33m)\u001b[0m\u001b[1;33m[\u001b[0m\u001b[1;36m1\u001b[0m\u001b[1;33m]\u001b[0m\u001b[1;33m.\u001b[0m\u001b[0mget_text\u001b[0m\u001b[1;33m(\u001b[0m\u001b[1;33m)\u001b[0m\u001b[1;33m)\u001b[0m\u001b[1;33m\u001b[0m\u001b[1;33m\u001b[0m\u001b[0m\n",
      "\u001b[1;31mAttributeError\u001b[0m: 'NoneType' object has no attribute 'strip'"
     ]
    }
   ],
   "source": [
    "point = []\n",
    "review = []\n",
    "date = []\n",
    "for li in lis:\n",
    "    score = li.find(class_='star_score').find('em').get_text()\n",
    "    score = int(score)\n",
    "    print(score)\n",
    "    point.append(score)\n",
    "    count_span = len(li.find(class_='score_reple').find_all('span'))\n",
    "    if count_span == 2:\n",
    "        r = li.find(class_='score_reple').find('p').find('span').string.strip(' \\t\\r\\n')\n",
    "        review.append(r)\n",
    "    else:\n",
    "        r = li.find(class_='score_reple').find('a').string.strip(' \\t\\r\\n')\n",
    "        review.append(r)\n",
    "    date.append(li.find(class_='score_reple').find_all('em')[1].get_text())"
   ]
  },
  {
   "cell_type": "code",
   "execution_count": 164,
   "metadata": {},
   "outputs": [
    {
     "data": {
      "text/plain": [
       "<li>\n",
       "<div class=\"star_score\">\n",
       "<span class=\"st_off\"><span class=\"st_on\" style=\"width:100.0%\"></span></span><em>10</em>\n",
       "</div>\n",
       "<div class=\"score_reple\">\n",
       "<p>\n",
       "<span class=\"ico_viewer\">관람객</span>\n",
       "<!-- 스포일러 컨텐츠로 처리되는지 여부 -->\n",
       "<span id=\"_filtered_ment_4\">\n",
       "\t\t\t\t\t\t\t\t\t\t\t\t\t\t\n",
       "\t\t\t\t\t\t\t\t\t\t\t\t\t\t\t\n",
       "\t\t\t\t\t\t\t\t\t\t\t\t\t\t\t\n",
       "\t\t\t\t\t\t\t\t\t\t\t\t\t\t\t\t교과서에는 미드웨이 해전에서 미국이 승리했다고 한 줄로 서술되어 있지만 단순히 한 줄로 설명할 수 없는 파란만장했던 전쟁. \n",
       "\t\t\t\t\t\t\t\t\t\t\t\t\t\t\t\n",
       "\t\t\t\t\t\t\t\t\t\t\t\t\t\t\n",
       "\t\t\t\t\t\t\t\t\t\t\t\t\t\t\n",
       "\t\t\t\t\t\t\t\t\t\t\t\t\t</span>\n",
       "</p>\n",
       "<dl>\n",
       "<dt>\n",
       "<em>\n",
       "<a href=\"#\" onclick=\"javascript:showPointListByNid(16566092, 'after');parent.clickcr(this, 'ara.uid', '', '', event); return false;\" target=\"_top\">\n",
       "<span>꼬깔콘의마술사(topm****)</span>\n",
       "</a>\n",
       "</em>\n",
       "<em>2019.12.31 19:58</em>\n",
       "</dt>\n",
       "<dd>\n",
       "<a class=\"go_report2\" href=\"#\" onclick=\"parent.clickcr(this, 'ara.report', '', '', event); common.report('false','topm****', 'BF75e8sxECtyehnKgzKWZ1+2NzljbtAI3DSoAU8eSy0=', '교과서에는 미드웨이 해전에서 미국이 승리했다고 한 줄로 서술되어 있지만 단순히 한 줄로 설명할 수 없는 파란만장했던 전쟁. ', '16566092', 'point_after', false);return false;\"><em>신고</em></a>\n",
       "</dd>\n",
       "</dl>\n",
       "</div>\n",
       "<div class=\"btn_area\">\n",
       "<a class=\"_sympathyButton\" href=\"#\" onclick=\"parent.clickcr(this, 'ara.sym', '', '', event);\">\n",
       "<span class=\"ico_up\"></span>\n",
       "<span class=\"blind\">공감</span>\n",
       "<strong class=\"sympathy_16566092\">1046</strong>\n",
       "</a>\n",
       "<a class=\"_notSympathyButton\" href=\"#\" onclick=\"parent.clickcr(this, 'ara.opp', '', '', event);\">\n",
       "<span class=\"ico_down\"></span>\n",
       "<span class=\"blind\">비공감</span>\n",
       "<strong class=\"notSympathy_16566092\">34</strong>\n",
       "</a>\n",
       "</div>\n",
       "</li>"
      ]
     },
     "execution_count": 164,
     "metadata": {},
     "output_type": "execute_result"
    }
   ],
   "source": [
    "li4 = lis[4]\n",
    "li4\n"
   ]
  },
  {
   "cell_type": "code",
   "execution_count": 166,
   "metadata": {},
   "outputs": [
    {
     "data": {
      "text/plain": [
       "<li class=\"last\">\n",
       "<div class=\"star_score\">\n",
       "<span class=\"st_off\"><span class=\"st_on\" style=\"width:80.0%\"></span></span><em>8</em>\n",
       "</div>\n",
       "<div class=\"score_reple\">\n",
       "<p>\n",
       "<!-- 스포일러 컨텐츠로 처리되는지 여부 -->\n",
       "<span id=\"_filtered_ment_9\">\n",
       "<span class=\"_unfold_ment\" id=\"_unfold_ment9\">\n",
       "<a data-src=\"아니 에머리히 감독이 스토리에 고증을 철저히 지키다니 안믿긴다..(진짜 실제인물에 장면 하나하나가 거의 다 사실인건 솔직히 놀랍네요)(영화에 대한 팩트들)1.제작비는 500억이 아니라 1100억이고 2.소니가 진짜로 20년전에 미드웨이 영화화 반대했고3.평론가 평가가 안좋다?..진주만 보다 20점 높은 44점입니다.(전쟁 영화로써 좋은 점수입니다)4.고증이 안좋다?..스토리 고증은 정말 철저하고 전투기 등등의 디테일은 비슷하지만 완전 정확하진 않음5.중국이 나온다?:나옵니다..하지만 역사적 사실이고 일본은 당시에 미군을 도와준 중국을 보복했죠.(영화는 소니의 반대로 뒤늦게 20년만에 독립영화로 만들어졌는데 1100억의 제작비로 이정도로 강렬한 운명의 5분 미드웨이 해전을 보여준건 놀랍네요) \" href=\"javascript:void(0);\" onclick=\"unfoldPointMent(this);\">\n",
       "\t\t\t\t\t\t\t\t\t\t\t\t\t\t\t\t\t\t아니 에머리히 감독이 스토리에 고증을 철저히 지키다니 안믿긴다..(진짜 실제인물에 장면 하나하나가 거의 다 사실인건 솔직히 놀랍네요)(영화에 대한 팩트들)1.제작비는 500억이 아니라 1100억이고 2.소니가 진짜로...\n",
       "\t\t\t\t\t\t\t\t\t\t\t\t\t\t\t\t\t</a>\n",
       "</span>\n",
       "</span>\n",
       "</p>\n",
       "<dl>\n",
       "<dt>\n",
       "<em>\n",
       "<a href=\"#\" onclick=\"javascript:showPointListByNid(16564157, 'after');parent.clickcr(this, 'ara.uid', '', '', event); return false;\" target=\"_top\">\n",
       "<span>이조이(joyl****)</span>\n",
       "</a>\n",
       "</em>\n",
       "<em>2019.12.31 10:14</em>\n",
       "</dt>\n",
       "<dd>\n",
       "<a class=\"go_report2\" href=\"#\" onclick=\"parent.clickcr(this, 'ara.report', '', '', event); common.report('false','joyl****', 'lREM5M2EjTiZuxkSMBgiu92EYOzQ6fDL0fN/JWMNGCw=', '아니 에머리히 감독이 스토리에 고증을 철저히 지키다니 안믿긴다..(진짜 실제인물에 장면 하나하나가 거의 다 사실인건 솔직히 놀랍네요)(영화에 대한 팩트들)1.제작비는 500억이 아니라 1100억이고 2.소니가 진짜로 20년전에 미드웨이 영화화 반대했고3.평론가 평가가 안좋다?..진주만 보다 20점 높은 44점입니다.(전쟁 영화로써 좋은 점수입니다)4.고증이 안좋다?..스토리 고증은 정말 철저하고 전투기 등등의 디테일은 비슷하지만 완전 정확하진 않음5.중국이 나온다?:나옵니다..하지만 역사적 사실이고 일본은 당시에 미군을 도와준 중국을 보복했죠.(영화는 소니의 반대로 뒤늦게 20년만에 독립영화로 만들어졌는데 1100억의 제작비로 이정도로 강렬한 운명의 5분 미드웨이 해전을 보여준건 놀랍네요) ', '16564157', 'point_after', false);return false;\"><em>신고</em></a>\n",
       "</dd>\n",
       "</dl>\n",
       "</div>\n",
       "<div class=\"btn_area\">\n",
       "<a class=\"_sympathyButton\" href=\"#\" onclick=\"parent.clickcr(this, 'ara.sym', '', '', event);\">\n",
       "<span class=\"ico_up\"></span>\n",
       "<span class=\"blind\">공감</span>\n",
       "<strong class=\"sympathy_16564157\">655</strong>\n",
       "</a>\n",
       "<a class=\"_notSympathyButton\" href=\"#\" onclick=\"parent.clickcr(this, 'ara.opp', '', '', event);\">\n",
       "<span class=\"ico_down\"></span>\n",
       "<span class=\"blind\">비공감</span>\n",
       "<strong class=\"notSympathy_16564157\">28</strong>\n",
       "</a>\n",
       "</div>\n",
       "</li>"
      ]
     },
     "execution_count": 166,
     "metadata": {},
     "output_type": "execute_result"
    }
   ],
   "source": [
    "\n",
    "li9 = lis[9]\n",
    "li9"
   ]
  },
  {
   "cell_type": "code",
   "execution_count": 167,
   "metadata": {},
   "outputs": [
    {
     "data": {
      "text/plain": [
       "'아니 에머리히 감독이 스토리에 고증을 철저히 지키다니 안믿긴다..(진짜 실제인물에 장면 하나하나가 거의 다 사실인건 솔직히 놀랍네요)(영화에 대한 팩트들)1.제작비는 500억이 아니라 1100억이고 2.소니가 진짜로...'"
      ]
     },
     "execution_count": 167,
     "metadata": {},
     "output_type": "execute_result"
    }
   ],
   "source": [
    "li9.find(class_='score_reple').find('a').string.strip(' \\t\\r\\n')"
   ]
  },
  {
   "cell_type": "code",
   "execution_count": 168,
   "metadata": {},
   "outputs": [
    {
     "data": {
      "text/plain": [
       "'관람객'"
      ]
     },
     "execution_count": 168,
     "metadata": {},
     "output_type": "execute_result"
    }
   ],
   "source": [
    "li.find(class_='score_reple').find('p').find('span').string.strip(' \\t\\r\\n')\n"
   ]
  },
  {
   "cell_type": "code",
   "execution_count": 169,
   "metadata": {},
   "outputs": [
    {
     "data": {
      "text/plain": [
       "3"
      ]
     },
     "execution_count": 169,
     "metadata": {},
     "output_type": "execute_result"
    }
   ],
   "source": [
    "len(li.find(class_='score_reple').find_all('span'))"
   ]
  },
  {
   "cell_type": "code",
   "execution_count": 170,
   "metadata": {},
   "outputs": [
    {
     "data": {
      "text/plain": [
       "3"
      ]
     },
     "execution_count": 170,
     "metadata": {},
     "output_type": "execute_result"
    }
   ],
   "source": [
    "len(li9.find(class_='score_reple').find_all('span'))"
   ]
  },
  {
   "cell_type": "code",
   "execution_count": 171,
   "metadata": {},
   "outputs": [
    {
     "name": "stdout",
     "output_type": "stream",
     "text": [
      "9\n",
      "10\n",
      "10\n",
      "10\n",
      "10\n"
     ]
    },
    {
     "ename": "AttributeError",
     "evalue": "'NoneType' object has no attribute 'strip'",
     "output_type": "error",
     "traceback": [
      "\u001b[1;31m---------------------------------------------------------------------------\u001b[0m",
      "\u001b[1;31mAttributeError\u001b[0m                            Traceback (most recent call last)",
      "\u001b[1;32m<ipython-input-171-8d2bfcf601cf>\u001b[0m in \u001b[0;36m<module>\u001b[1;34m\u001b[0m\n\u001b[0;32m     12\u001b[0m         \u001b[0mreview\u001b[0m\u001b[1;33m.\u001b[0m\u001b[0mappend\u001b[0m\u001b[1;33m(\u001b[0m\u001b[0mr\u001b[0m\u001b[1;33m)\u001b[0m\u001b[1;33m\u001b[0m\u001b[1;33m\u001b[0m\u001b[0m\n\u001b[0;32m     13\u001b[0m     \u001b[1;32melse\u001b[0m\u001b[1;33m:\u001b[0m\u001b[1;33m\u001b[0m\u001b[1;33m\u001b[0m\u001b[0m\n\u001b[1;32m---> 14\u001b[1;33m         \u001b[0mr\u001b[0m \u001b[1;33m=\u001b[0m \u001b[0mli\u001b[0m\u001b[1;33m.\u001b[0m\u001b[0mfind\u001b[0m\u001b[1;33m(\u001b[0m\u001b[0mclass_\u001b[0m\u001b[1;33m=\u001b[0m\u001b[1;34m'score_reple'\u001b[0m\u001b[1;33m)\u001b[0m\u001b[1;33m.\u001b[0m\u001b[0mfind\u001b[0m\u001b[1;33m(\u001b[0m\u001b[1;34m'a'\u001b[0m\u001b[1;33m)\u001b[0m\u001b[1;33m.\u001b[0m\u001b[0mstring\u001b[0m\u001b[1;33m.\u001b[0m\u001b[0mstrip\u001b[0m\u001b[1;33m(\u001b[0m\u001b[1;34m' \\t\\r\\n'\u001b[0m\u001b[1;33m)\u001b[0m\u001b[1;33m\u001b[0m\u001b[1;33m\u001b[0m\u001b[0m\n\u001b[0m\u001b[0;32m     15\u001b[0m         \u001b[0mreview\u001b[0m\u001b[1;33m.\u001b[0m\u001b[0mappend\u001b[0m\u001b[1;33m(\u001b[0m\u001b[0mr\u001b[0m\u001b[1;33m)\u001b[0m\u001b[1;33m\u001b[0m\u001b[1;33m\u001b[0m\u001b[0m\n\u001b[0;32m     16\u001b[0m     \u001b[0mdate\u001b[0m\u001b[1;33m.\u001b[0m\u001b[0mappend\u001b[0m\u001b[1;33m(\u001b[0m\u001b[0mli\u001b[0m\u001b[1;33m.\u001b[0m\u001b[0mfind\u001b[0m\u001b[1;33m(\u001b[0m\u001b[0mclass_\u001b[0m\u001b[1;33m=\u001b[0m\u001b[1;34m'score_reple'\u001b[0m\u001b[1;33m)\u001b[0m\u001b[1;33m.\u001b[0m\u001b[0mfind_all\u001b[0m\u001b[1;33m(\u001b[0m\u001b[1;34m'em'\u001b[0m\u001b[1;33m)\u001b[0m\u001b[1;33m[\u001b[0m\u001b[1;36m1\u001b[0m\u001b[1;33m]\u001b[0m\u001b[1;33m.\u001b[0m\u001b[0mget_text\u001b[0m\u001b[1;33m(\u001b[0m\u001b[1;33m)\u001b[0m\u001b[1;33m)\u001b[0m\u001b[1;33m\u001b[0m\u001b[1;33m\u001b[0m\u001b[0m\n",
      "\u001b[1;31mAttributeError\u001b[0m: 'NoneType' object has no attribute 'strip'"
     ]
    }
   ],
   "source": [
    "point = []\n",
    "review = []\n",
    "date = []\n",
    "for li in lis:\n",
    "    score = li.find(class_='star_score').find('em').get_text()\n",
    "    score = int(score)\n",
    "    print(score)\n",
    "    point.append(score)\n",
    "    count_span = len(li.find(class_='score_reple').find_all('span'))\n",
    "    if count_span == 2:\n",
    "        r = li.find(class_='score_reple').find('p').find('span').string.strip(' \\t\\r\\n')\n",
    "        review.append(r)\n",
    "    else:\n",
    "        r = li.find(class_='score_reple').find('a').string.strip(' \\t\\r\\n')\n",
    "        review.append(r)\n",
    "    date.append(li.find(class_='score_reple').find_all('em')[1].get_text())"
   ]
  },
  {
   "cell_type": "code",
   "execution_count": 172,
   "metadata": {},
   "outputs": [
    {
     "data": {
      "text/plain": [
       "'교과서에는 미드웨이 해전에서 미국이 승리했다고 한 줄로 서술되어 있지만 단순히 한 줄로 설명할 수 없는 파란만장했던 전쟁.'"
      ]
     },
     "execution_count": 172,
     "metadata": {},
     "output_type": "execute_result"
    }
   ],
   "source": [
    "li4.find(class_='score_reple').find('p').find_all('span')[1].string.strip(' \\t\\r\\n')"
   ]
  },
  {
   "cell_type": "code",
   "execution_count": 173,
   "metadata": {},
   "outputs": [
    {
     "name": "stdout",
     "output_type": "stream",
     "text": [
      "9\n",
      "10\n",
      "10\n",
      "10\n",
      "10\n",
      "10\n",
      "10\n",
      "10\n",
      "10\n",
      "8\n"
     ]
    }
   ],
   "source": [
    "point = []\n",
    "review = []\n",
    "date = []\n",
    "for li in lis:\n",
    "    score = li.find(class_='star_score').find('em').get_text()\n",
    "    score = int(score)\n",
    "    print(score)\n",
    "    point.append(score)\n",
    "    count_span = len(li.find(class_='score_reple').find_all('span'))\n",
    "    count_icon = len(li.find_all(class_='ico_viewer'))\n",
    "    if count_span == 2:\n",
    "        r = li.find(class_='score_reple').find('p').find('span').string.strip(' \\t\\r\\n')\n",
    "    elif count_icon == 1:\n",
    "        r = li.find(class_='score_reple').find('p').find_all('span')[1].string.strip(' \\t\\r\\n')\n",
    "    else:\n",
    "        r = li.find(class_='score_reple').find('a').string.strip(' \\t\\r\\n')\n",
    "    review.append(r)\n",
    "    date.append(li.find(class_='score_reple').find_all('em')[1].get_text())"
   ]
  },
  {
   "cell_type": "code",
   "execution_count": 174,
   "metadata": {},
   "outputs": [
    {
     "data": {
      "text/html": [
       "<div>\n",
       "<style scoped>\n",
       "    .dataframe tbody tr th:only-of-type {\n",
       "        vertical-align: middle;\n",
       "    }\n",
       "\n",
       "    .dataframe tbody tr th {\n",
       "        vertical-align: top;\n",
       "    }\n",
       "\n",
       "    .dataframe thead th {\n",
       "        text-align: right;\n",
       "    }\n",
       "</style>\n",
       "<table border=\"1\" class=\"dataframe\">\n",
       "  <thead>\n",
       "    <tr style=\"text-align: right;\">\n",
       "      <th></th>\n",
       "      <th>평점</th>\n",
       "      <th>일시</th>\n",
       "      <th>감상평</th>\n",
       "    </tr>\n",
       "  </thead>\n",
       "  <tbody>\n",
       "    <tr>\n",
       "      <th>0</th>\n",
       "      <td>9</td>\n",
       "      <td>2019.12.31 09:48</td>\n",
       "      <td>미드웨이가 재밌으면 추천 백두산이 재밌으면 비추</td>\n",
       "    </tr>\n",
       "    <tr>\n",
       "      <th>1</th>\n",
       "      <td>10</td>\n",
       "      <td>2019.12.31 10:41</td>\n",
       "      <td>저 해전이 있었기에 우리나라 광복도 가능 했음</td>\n",
       "    </tr>\n",
       "    <tr>\n",
       "      <th>2</th>\n",
       "      <td>10</td>\n",
       "      <td>2019.12.31 09:38</td>\n",
       "      <td>백두산 상영관 대폭줄이고 미드웨이 상영관 대폭늘려라</td>\n",
       "    </tr>\n",
       "    <tr>\n",
       "      <th>3</th>\n",
       "      <td>10</td>\n",
       "      <td>2019.12.31 09:14</td>\n",
       "      <td>방금 개봉했는데 1점 준애는 뭐냐 ㅋㅋ 일본놈이냐? 이제 광고돌고 있을 시간이다.</td>\n",
       "    </tr>\n",
       "    <tr>\n",
       "      <th>4</th>\n",
       "      <td>10</td>\n",
       "      <td>2019.12.31 19:58</td>\n",
       "      <td>교과서에는 미드웨이 해전에서 미국이 승리했다고 한 줄로 서술되어 있지만 단순히 한 ...</td>\n",
       "    </tr>\n",
       "    <tr>\n",
       "      <th>5</th>\n",
       "      <td>10</td>\n",
       "      <td>2019.12.31 09:29</td>\n",
       "      <td>스케일 겁나커서 보는내내 입벌리고 봣네욬ㅋㅋ재밋습니다</td>\n",
       "    </tr>\n",
       "    <tr>\n",
       "      <th>6</th>\n",
       "      <td>10</td>\n",
       "      <td>2019.12.31 09:52</td>\n",
       "      <td>안보면후회함 백두산보다낫다</td>\n",
       "    </tr>\n",
       "    <tr>\n",
       "      <th>7</th>\n",
       "      <td>10</td>\n",
       "      <td>2019.12.31 09:01</td>\n",
       "      <td>재밌으면 추천 재미없으면 비추천 눌러주십쇼 형님들</td>\n",
       "    </tr>\n",
       "    <tr>\n",
       "      <th>8</th>\n",
       "      <td>10</td>\n",
       "      <td>2019.12.31 16:37</td>\n",
       "      <td>일본의 최대 실수는 미국을 건드린거다 그 대가로 원폭 처맞고 멸망함ㅋㅋㅋ지금 하는 ...</td>\n",
       "    </tr>\n",
       "    <tr>\n",
       "      <th>9</th>\n",
       "      <td>8</td>\n",
       "      <td>2019.12.31 10:14</td>\n",
       "      <td>아니 에머리히 감독이 스토리에 고증을 철저히 지키다니 안믿긴다..(진짜 실제인물에 ...</td>\n",
       "    </tr>\n",
       "  </tbody>\n",
       "</table>\n",
       "</div>"
      ],
      "text/plain": [
       "   평점                일시                                                감상평\n",
       "0   9  2019.12.31 09:48                         미드웨이가 재밌으면 추천 백두산이 재밌으면 비추\n",
       "1  10  2019.12.31 10:41                          저 해전이 있었기에 우리나라 광복도 가능 했음\n",
       "2  10  2019.12.31 09:38                       백두산 상영관 대폭줄이고 미드웨이 상영관 대폭늘려라\n",
       "3  10  2019.12.31 09:14      방금 개봉했는데 1점 준애는 뭐냐 ㅋㅋ 일본놈이냐? 이제 광고돌고 있을 시간이다.\n",
       "4  10  2019.12.31 19:58  교과서에는 미드웨이 해전에서 미국이 승리했다고 한 줄로 서술되어 있지만 단순히 한 ...\n",
       "5  10  2019.12.31 09:29                      스케일 겁나커서 보는내내 입벌리고 봣네욬ㅋㅋ재밋습니다\n",
       "6  10  2019.12.31 09:52                                     안보면후회함 백두산보다낫다\n",
       "7  10  2019.12.31 09:01                        재밌으면 추천 재미없으면 비추천 눌러주십쇼 형님들\n",
       "8  10  2019.12.31 16:37  일본의 최대 실수는 미국을 건드린거다 그 대가로 원폭 처맞고 멸망함ㅋㅋㅋ지금 하는 ...\n",
       "9   8  2019.12.31 10:14  아니 에머리히 감독이 스토리에 고증을 철저히 지키다니 안믿긴다..(진짜 실제인물에 ..."
      ]
     },
     "execution_count": 174,
     "metadata": {},
     "output_type": "execute_result"
    }
   ],
   "source": [
    "\n",
    "import pandas as pd\n",
    "df = pd.DataFrame({'평점':point, '일시':date, '감상평':review})\n",
    "df"
   ]
  },
  {
   "cell_type": "code",
   "execution_count": null,
   "metadata": {},
   "outputs": [],
   "source": []
  },
  {
   "cell_type": "code",
   "execution_count": 175,
   "metadata": {},
   "outputs": [
    {
     "name": "stdout",
     "output_type": "stream",
     "text": [
      "9\n",
      "10\n",
      "10\n",
      "10\n",
      "10\n",
      "10\n",
      "10\n",
      "10\n",
      "10\n",
      "8\n"
     ]
    }
   ],
   "source": [
    "point = []\n",
    "review = []\n",
    "date = []\n",
    "for li in lis:\n",
    "    score = li.find(class_='star_score').find('em').get_text()\n",
    "    score = int(score)\n",
    "    print(score)\n",
    "    point.append(score)\n",
    "    count_span = len(li.find(class_='score_reple').find_all('span'))\n",
    "    count_icon = len(li.find_all(class_='ico_viewer'))\n",
    "    if count_span == 2:\n",
    "        r = li.find(class_='score_reple').find('p').find('span').string.strip(' \\t\\r\\n')\n",
    "    elif count_icon == 1:\n",
    "        r = li.find(class_='score_reple').find('p').find_all('span')[1].string.strip(' \\t\\r\\n')\n",
    "    else:\n",
    "        r = li.find(class_='score_reple').find('a').string.strip(' \\t\\r\\n')\n",
    "    review.append(r)\n",
    "    date.append(li.find(class_='score_reple').find_all('em')[1].get_text())"
   ]
  },
  {
   "cell_type": "code",
   "execution_count": 177,
   "metadata": {},
   "outputs": [
    {
     "data": {
      "text/plain": [
       "<li>\n",
       "<div class=\"star_score\">\n",
       "<span class=\"st_off\"><span class=\"st_on\" style=\"width:100.0%\"></span></span><em>10</em>\n",
       "</div>\n",
       "<div class=\"score_reple\">\n",
       "<p>\n",
       "<span class=\"ico_viewer\">관람객</span>\n",
       "<!-- 스포일러 컨텐츠로 처리되는지 여부 -->\n",
       "<span id=\"_filtered_ment_4\">\n",
       "\t\t\t\t\t\t\t\t\t\t\t\t\t\t\n",
       "\t\t\t\t\t\t\t\t\t\t\t\t\t\t\t\n",
       "\t\t\t\t\t\t\t\t\t\t\t\t\t\t\t\n",
       "\t\t\t\t\t\t\t\t\t\t\t\t\t\t\t\t교과서에는 미드웨이 해전에서 미국이 승리했다고 한 줄로 서술되어 있지만 단순히 한 줄로 설명할 수 없는 파란만장했던 전쟁. \n",
       "\t\t\t\t\t\t\t\t\t\t\t\t\t\t\t\n",
       "\t\t\t\t\t\t\t\t\t\t\t\t\t\t\n",
       "\t\t\t\t\t\t\t\t\t\t\t\t\t\t\n",
       "\t\t\t\t\t\t\t\t\t\t\t\t\t</span>\n",
       "</p>\n",
       "<dl>\n",
       "<dt>\n",
       "<em>\n",
       "<a href=\"#\" onclick=\"javascript:showPointListByNid(16566092, 'after');parent.clickcr(this, 'ara.uid', '', '', event); return false;\" target=\"_top\">\n",
       "<span>꼬깔콘의마술사(topm****)</span>\n",
       "</a>\n",
       "</em>\n",
       "<em>2019.12.31 19:58</em>\n",
       "</dt>\n",
       "<dd>\n",
       "<a class=\"go_report2\" href=\"#\" onclick=\"parent.clickcr(this, 'ara.report', '', '', event); common.report('false','topm****', 'BF75e8sxECtyehnKgzKWZ1+2NzljbtAI3DSoAU8eSy0=', '교과서에는 미드웨이 해전에서 미국이 승리했다고 한 줄로 서술되어 있지만 단순히 한 줄로 설명할 수 없는 파란만장했던 전쟁. ', '16566092', 'point_after', false);return false;\"><em>신고</em></a>\n",
       "</dd>\n",
       "</dl>\n",
       "</div>\n",
       "<div class=\"btn_area\">\n",
       "<a class=\"_sympathyButton\" href=\"#\" onclick=\"parent.clickcr(this, 'ara.sym', '', '', event);\">\n",
       "<span class=\"ico_up\"></span>\n",
       "<span class=\"blind\">공감</span>\n",
       "<strong class=\"sympathy_16566092\">1046</strong>\n",
       "</a>\n",
       "<a class=\"_notSympathyButton\" href=\"#\" onclick=\"parent.clickcr(this, 'ara.opp', '', '', event);\">\n",
       "<span class=\"ico_down\"></span>\n",
       "<span class=\"blind\">비공감</span>\n",
       "<strong class=\"notSympathy_16566092\">34</strong>\n",
       "</a>\n",
       "</div>\n",
       "</li>"
      ]
     },
     "execution_count": 177,
     "metadata": {},
     "output_type": "execute_result"
    }
   ],
   "source": [
    "li4=lis[4]\n",
    "li4"
   ]
  },
  {
   "cell_type": "code",
   "execution_count": 178,
   "metadata": {},
   "outputs": [
    {
     "ename": "IndexError",
     "evalue": "list index out of range",
     "output_type": "error",
     "traceback": [
      "\u001b[1;31m---------------------------------------------------------------------------\u001b[0m",
      "\u001b[1;31mIndexError\u001b[0m                                Traceback (most recent call last)",
      "\u001b[1;32m<ipython-input-178-423163ba3be5>\u001b[0m in \u001b[0;36m<module>\u001b[1;34m\u001b[0m\n\u001b[0;32m      1\u001b[0m \u001b[0mrest_list\u001b[0m \u001b[1;33m=\u001b[0m \u001b[0msoup\u001b[0m\u001b[1;33m.\u001b[0m\u001b[0mfind_all\u001b[0m\u001b[1;33m(\u001b[0m\u001b[0mclass_\u001b[0m\u001b[1;33m=\u001b[0m \u001b[1;34m'areaList'\u001b[0m\u001b[1;33m)\u001b[0m\u001b[1;33m\u001b[0m\u001b[1;33m\u001b[0m\u001b[0m\n\u001b[1;32m----> 2\u001b[1;33m \u001b[0mrest_list\u001b[0m\u001b[1;33m[\u001b[0m\u001b[1;36m0\u001b[0m\u001b[1;33m]\u001b[0m\u001b[1;33m\u001b[0m\u001b[1;33m\u001b[0m\u001b[0m\n\u001b[0m",
      "\u001b[1;31mIndexError\u001b[0m: list index out of range"
     ]
    }
   ],
   "source": [
    "rest_list = soup.find_all(class_= 'areaList')\n",
    "rest_list[0]"
   ]
  },
  {
   "cell_type": "code",
   "execution_count": 179,
   "metadata": {},
   "outputs": [],
   "source": [
    "url_base = \"http://www.menupan.com\"\n",
    "url_sub = '/restaurant/search/search_main_sub_area.asp?areacode=dj202'\n",
    "url = url_base + url_sub\n",
    "\n",
    "html = urlopen(url)\n",
    "soup = BeautifulSoup(html, 'html.parser')\n"
   ]
  },
  {
   "cell_type": "code",
   "execution_count": 180,
   "metadata": {},
   "outputs": [
    {
     "data": {
      "text/plain": [
       "<ul class=\"areaList\">\n",
       "<li>\n",
       "<div class=\"pho\">\n",
       "<p class=\"zoom\"><img id=\"zoomImg_0\" src=\"/restaurant/restimg/004/menuimg/b3000044.jpg\"/></p>\n",
       "<div class=\"thum\">\n",
       "<p class=\"sthum\"><a class=\"ov\" href=\"javascript:;\" onmouseover=\"javascript:chgImg('/restaurant/restimg/004/menuimg/b3000044.jpg','0');\"><img id=\"restphoto_img_0\" src=\"/restaurant/restimg/004/menuimg/b3000044.jpg\"/></a></p>\n",
       "<p class=\"sthum\"><a class=\"ov\" href=\"javascript:;\" onmouseover=\"javascript:chgImg('/restaurant/restimg/004/menuimg/b3000047.jpg','0');\"><img id=\"restphoto_img_1\" src=\"/restaurant/restimg/004/menuimg/b3000047.jpg\"/></a></p>\n",
       "<p class=\"sthum\"><a class=\"ov\" href=\"javascript:;\" onmouseover=\"javascript:chgImg('/restaurant/restimg/004/menuimg/b3000046.jpg','0');\"><img id=\"restphoto_img_2\" src=\"/restaurant/restimg/004/menuimg/b3000046.jpg\"/></a></p>\n",
       "</div>\n",
       "</div>\n",
       "<div class=\"ifo\">\n",
       "<dl>\n",
       "<dt><a href=\"/restaurant/onepage.asp?acode=B300004\" target=\"_blank\">라라랄라어은점</a><p class=\"btn\"><a class=\"detBtn\" href=\"/restaurant/onepage.asp?acode=B300004\" target=\"_blank\">자세히보기</a></p></dt>\n",
       "<dd class=\"rate\">\n",
       "<p class=\"point\"><span class=\"star\" style=\"width:83.125%\"></span><!-- ☆☆☆☆☆ //--></p>\n",
       "<p class=\"score\"><span class=\"total\">4.2</span><span class=\"line\">|</span><span class=\"count\">16명 참여</span></p>\n",
       "</dd>\n",
       "<dd>분식<span class=\"barr\">|</span> 대전 유성구 어은동 108-3</dd>\n",
       "<dd>(042)862-3838</dd>\n",
       "<dd class=\"ic\"><img alt=\"프리쿠폰\" class=\"ico_type\" src=\"/image/restaurant/bestrest/ic_coupon.gif\"/><span class=\"typeadd\">도도김밥 한줄 제공</span></dd>\n",
       "<dd class=\"comnt\"><a href=\"/restaurant/onepage.asp?acode=B300004\" target=\"_blank\">라라랄라의 모든 음식에는 원가절감을 위해, \n",
       "\n",
       "혹은 미각을 교란시켜 맛있는 척 하기 위해 사용하는 \n",
       "\n",
       "조미료 및 어떠한 화학첨가물도 들어가지 않는다. \n",
       "\n",
       "오로지 자연에서...</a></dd>\n",
       "</dl>\n",
       "</div>\n",
       "</li>\n",
       "<li>\n",
       "<div class=\"pho\">\n",
       "<p class=\"zoom\"><img id=\"zoomImg_1\" src=\"/restaurant/restimg/002/menuimg/c30006220.jpg\"/></p>\n",
       "<div class=\"thum\">\n",
       "<p class=\"sthum\"><a class=\"ov\" href=\"javascript:;\" onmouseover=\"javascript:chgImg('/restaurant/restimg/002/menuimg/c30006220.jpg','1');\"><img id=\"restphoto_img_0\" src=\"/restaurant/restimg/002/menuimg/c30006220.jpg\"/></a></p>\n",
       "<p class=\"sthum\"><a class=\"ov\" href=\"javascript:;\" onmouseover=\"javascript:chgImg('/restaurant/restimg/002/menuimg/c30006215.jpg','1');\"><img id=\"restphoto_img_1\" src=\"/restaurant/restimg/002/menuimg/c30006215.jpg\"/></a></p>\n",
       "<p class=\"sthum\"><a class=\"ov\" href=\"javascript:;\" onmouseover=\"javascript:chgImg('/restaurant/restimg/002/menuimg/c30006216.jpg','1');\"><img id=\"restphoto_img_2\" src=\"/restaurant/restimg/002/menuimg/c30006216.jpg\"/></a></p>\n",
       "</div>\n",
       "</div>\n",
       "<div class=\"ifo\">\n",
       "<dl>\n",
       "<dt><a href=\"/restaurant/onepage.asp?acode=C300062\" target=\"_blank\">리엔차이</a><p class=\"btn\"><a class=\"detBtn\" href=\"/restaurant/onepage.asp?acode=C300062\" target=\"_blank\">자세히보기</a></p></dt>\n",
       "<dd class=\"rate\">\n",
       "<p class=\"point\"><span class=\"star\" style=\"width:76.8421052631579%\"></span><!-- ☆☆☆☆☆ //--></p>\n",
       "<p class=\"score\"><span class=\"total\">3.8</span><span class=\"line\">|</span><span class=\"count\">19명 참여</span></p>\n",
       "</dd>\n",
       "<dd>중식<span class=\"barr\">|</span> 대전 유성구 죽동 627-1</dd>\n",
       "<dd>(042)824-4499</dd>\n",
       "<dd class=\"comnt\"><a href=\"/restaurant/onepage.asp?acode=C300062\" target=\"_blank\">클래식한 분위기의 퓨전 차이니즈 레스토랑으로 특선 메뉴와 중국 코스요리를 전문으로 하고 있다. \n",
       "\n",
       "그 중에서도 바삭한 튀김 옷의 쫄깃한 탕수육과 해산물을 푸짐하게 넣은 얼큰한 ...</a></dd>\n",
       "</dl>\n",
       "</div>\n",
       "</li>\n",
       "<li>\n",
       "<div class=\"pho\">\n",
       "<p class=\"zoom\"><img id=\"zoomImg_2\" src=\"/restaurant/restimg/003/menuimg/d3008634.jpg\"/></p>\n",
       "<div class=\"thum\">\n",
       "<p class=\"sthum\"><a class=\"ov\" href=\"javascript:;\" onmouseover=\"javascript:chgImg('/restaurant/restimg/003/menuimg/d3008634.jpg','2');\"><img id=\"restphoto_img_0\" src=\"/restaurant/restimg/003/menuimg/d3008634.jpg\"/></a></p>\n",
       "<p class=\"sthum\"><a class=\"ov\" href=\"javascript:;\" onmouseover=\"javascript:chgImg('/restaurant/restimg/003/menuimg/d30086327.jpg','2');\"><img id=\"restphoto_img_1\" src=\"/restaurant/restimg/003/menuimg/d30086327.jpg\"/></a></p>\n",
       "<p class=\"sthum\"><a class=\"ov\" href=\"javascript:;\" onmouseover=\"javascript:chgImg('/restaurant/restimg/003/menuimg/d30086342.jpg','2');\"><img id=\"restphoto_img_2\" src=\"/restaurant/restimg/003/menuimg/d30086342.jpg\"/></a></p>\n",
       "</div>\n",
       "</div>\n",
       "<div class=\"ifo\">\n",
       "<dl>\n",
       "<dt><a href=\"/restaurant/onepage.asp?acode=D300863\" target=\"_blank\">메이드바이 더초콜릿</a><p class=\"btn\"><a class=\"detBtn\" href=\"/restaurant/onepage.asp?acode=D300863\" target=\"_blank\">자세히보기</a></p></dt>\n",
       "<dd class=\"rate\">\n",
       "<p class=\"point\"><span class=\"star\" style=\"width:80.9375%\"></span><!-- ☆☆☆☆☆ //--></p>\n",
       "<p class=\"score\"><span class=\"total\">4.0</span><span class=\"line\">|</span><span class=\"count\">32명 참여</span></p>\n",
       "</dd>\n",
       "<dd>카페/주점<span class=\"barr\">|</span> 대전 유성구 궁동 419-2 1층</dd>\n",
       "<dd>(042)823-7779</dd>\n",
       "<dd class=\"ic\"><img alt=\"프리쿠폰\" class=\"ico_type\" src=\"/image/restaurant/bestrest/ic_coupon.gif\"/><span class=\"typeadd\">오늘의 '차' 제공</span></dd>\n",
       "<dd class=\"comnt\"><a href=\"/restaurant/onepage.asp?acode=D300863\" target=\"_blank\">개성만점 외관으로 눈에 띄는 더 '메이드 바이 더 초콜릿'.\n",
       "핫초코, 초코케익, 수제 초콜릿 등 초콜릿을 전문으로하는 카페다.\n",
       "\n",
       "모든 디저트를 좋은 재료를 사용해 직접 만들어...</a></dd>\n",
       "</dl>\n",
       "</div>\n",
       "</li>\n",
       "<li>\n",
       "<div class=\"pho\">\n",
       "<p class=\"zoom\"><img id=\"zoomImg_3\" src=\"/restaurant/restimg/003/menuimg/d3009632.jpg\"/></p>\n",
       "<div class=\"thum\">\n",
       "<p class=\"sthum\"><a class=\"ov\" href=\"javascript:;\" onmouseover=\"javascript:chgImg('/restaurant/restimg/003/menuimg/d3009632.jpg','3');\"><img id=\"restphoto_img_0\" src=\"/restaurant/restimg/003/menuimg/d3009632.jpg\"/></a></p>\n",
       "<p class=\"sthum\"><a class=\"ov\" href=\"javascript:;\" onmouseover=\"javascript:chgImg('/restaurant/restimg/003/menuimg/d30096312.jpg','3');\"><img id=\"restphoto_img_1\" src=\"/restaurant/restimg/003/menuimg/d30096312.jpg\"/></a></p>\n",
       "<p class=\"sthum\"><a class=\"ov\" href=\"javascript:;\" onmouseover=\"javascript:chgImg('/restaurant/restimg/003/menuimg/d30096328.jpg','3');\"><img id=\"restphoto_img_2\" src=\"/restaurant/restimg/003/menuimg/d30096328.jpg\"/></a></p>\n",
       "</div>\n",
       "</div>\n",
       "<div class=\"ifo\">\n",
       "<dl>\n",
       "<dt><a href=\"/restaurant/onepage.asp?acode=D300963\" target=\"_blank\">로아커피</a><p class=\"btn\"><a class=\"detBtn\" href=\"/restaurant/onepage.asp?acode=D300963\" target=\"_blank\">자세히보기</a></p></dt>\n",
       "<dd class=\"rate\">\n",
       "<p class=\"point\"><span class=\"star\" style=\"width:80.8333333333333%\"></span><!-- ☆☆☆☆☆ //--></p>\n",
       "<p class=\"score\"><span class=\"total\">4.0</span><span class=\"line\">|</span><span class=\"count\">6명 참여</span></p>\n",
       "</dd>\n",
       "<dd>카페/주점<span class=\"barr\">|</span> 대전 유성구 죽동 614-3</dd>\n",
       "<dd>(042)826-7599</dd>\n",
       "<dd class=\"comnt\"><a href=\"/restaurant/onepage.asp?acode=D300963\" target=\"_blank\">대전 죽동에 위치한 예쁜 카페 로아커피(로아스토리)를 소개한다. \n",
       "\n",
       "로아스토리는 수제롤케익, 수제마카롱으로 유명하다. 특히 롤케익은 하루 전에 예약을 받을 정도로 유명하다고 한...</a></dd>\n",
       "</dl>\n",
       "</div>\n",
       "</li>\n",
       "<li>\n",
       "<div class=\"pho\">\n",
       "<p class=\"zoom\"><img id=\"zoomImg_4\" src=\"/restaurant/restimg/000/menuimg/d30097011.jpg\"/></p>\n",
       "<div class=\"thum\">\n",
       "<p class=\"sthum\"><a class=\"ov\" href=\"javascript:;\" onmouseover=\"javascript:chgImg('/restaurant/restimg/000/menuimg/d30097011.jpg','4');\"><img id=\"restphoto_img_0\" src=\"/restaurant/restimg/000/menuimg/d30097011.jpg\"/></a></p>\n",
       "<p class=\"sthum\"><a class=\"ov\" href=\"javascript:;\" onmouseover=\"javascript:chgImg('/restaurant/restimg/000/menuimg/d30097015.jpg','4');\"><img id=\"restphoto_img_1\" src=\"/restaurant/restimg/000/menuimg/d30097015.jpg\"/></a></p>\n",
       "<p class=\"sthum\"><a class=\"ov\" href=\"javascript:;\" onmouseover=\"javascript:chgImg('/restaurant/restimg/000/menuimg/d30097016.jpg','4');\"><img id=\"restphoto_img_2\" src=\"/restaurant/restimg/000/menuimg/d30097016.jpg\"/></a></p>\n",
       "</div>\n",
       "</div>\n",
       "<div class=\"ifo\">\n",
       "<dl>\n",
       "<dt><a href=\"/restaurant/onepage.asp?acode=D300970\" target=\"_blank\">호텔리베라유성 카페엘루스</a><p class=\"btn\"><a class=\"detBtn\" href=\"/restaurant/onepage.asp?acode=D300970\" target=\"_blank\">자세히보기</a></p></dt>\n",
       "<dd class=\"rate\">\n",
       "<p class=\"point\"><span class=\"star\" style=\"width:65%\"></span><!-- ☆☆☆☆☆ //--></p>\n",
       "<p class=\"score\"><span class=\"total\">3.3</span><span class=\"line\">|</span><span class=\"count\">3명 참여</span></p>\n",
       "</dd>\n",
       "<dd>카페/주점<span class=\"barr\">|</span> 대전 유성구 봉명동 444-5</dd>\n",
       "<dd>(042)828-4034</dd>\n",
       "<dd class=\"comnt\"><a href=\"/restaurant/onepage.asp?acode=D300970\" target=\"_blank\">카페엘루스는 호텔 1층에 위치하고 있으며, 넓은 공간과 안락한 분위기로 격조있는 서비스와 함께 성공 비지니스를 위한 사교의 장소이다. \n",
       "\n",
       "</a></dd>\n",
       "</dl>\n",
       "</div>\n",
       "</li>\n",
       "<li>\n",
       "<div class=\"pho\">\n",
       "<p class=\"zoom\"><img id=\"zoomImg_5\" src=\"/restaurant/restimg/000/menuimg/e3002706.jpg\"/></p>\n",
       "<div class=\"thum\">\n",
       "<p class=\"sthum\"><a class=\"ov\" href=\"javascript:;\" onmouseover=\"javascript:chgImg('/restaurant/restimg/000/menuimg/e3002706.jpg','5');\"><img id=\"restphoto_img_0\" src=\"/restaurant/restimg/000/menuimg/e3002706.jpg\"/></a></p>\n",
       "<p class=\"sthum\"><a class=\"ov\" href=\"javascript:;\" onmouseover=\"javascript:chgImg('/restaurant/restimg/000/menuimg/e3002707.jpg','5');\"><img id=\"restphoto_img_1\" src=\"/restaurant/restimg/000/menuimg/e3002707.jpg\"/></a></p>\n",
       "<p class=\"sthum\"><a class=\"ov\" href=\"javascript:;\" onmouseover=\"javascript:chgImg('/restaurant/restimg/000/menuimg/e3002708.jpg','5');\"><img id=\"restphoto_img_2\" src=\"/restaurant/restimg/000/menuimg/e3002708.jpg\"/></a></p>\n",
       "</div>\n",
       "</div>\n",
       "<div class=\"ifo\">\n",
       "<dl>\n",
       "<dt><a href=\"/restaurant/onepage.asp?acode=E300270\" target=\"_blank\">제이부페</a><p class=\"btn\"><a class=\"detBtn\" href=\"/restaurant/onepage.asp?acode=E300270\" target=\"_blank\">자세히보기</a></p></dt>\n",
       "<dd class=\"rate\">\n",
       "<p class=\"point\"><span class=\"star\" style=\"width:68.5135135135135%\"></span><!-- ☆☆☆☆☆ //--></p>\n",
       "<p class=\"score\"><span class=\"total\">3.4</span><span class=\"line\">|</span><span class=\"count\">37명 참여</span></p>\n",
       "</dd>\n",
       "<dd>뷔페<span class=\"barr\">|</span> 대전 유성구 봉명동 469-46 유성 자이아파트 상가 3층</dd>\n",
       "<dd>(042)824-8833</dd>\n",
       "<dd class=\"comnt\"><a href=\"/restaurant/onepage.asp?acode=E300270\" target=\"_blank\">해물, 바비큐 전문 뷔페.\n",
       "\n",
       "여러 개의 소규모 룸이 많아 단촐한 모임이나 데이트 장소로 인기가 많은 뷔페 레스토랑이다.\n",
       "\n",
       "제이부페의 케이크와 후식 종류는 전문 파티쉐가 직접...</a></dd>\n",
       "</dl>\n",
       "</div>\n",
       "</li>\n",
       "<li>\n",
       "<div class=\"pho\">\n",
       "<p class=\"zoom\"><img id=\"zoomImg_6\" src=\"/restaurant/restimg/004/menuimg/f3002443.jpg\"/></p>\n",
       "<div class=\"thum\">\n",
       "<p class=\"sthum\"><a class=\"ov\" href=\"javascript:;\" onmouseover=\"javascript:chgImg('/restaurant/restimg/004/menuimg/f3002443.jpg','6');\"><img id=\"restphoto_img_0\" src=\"/restaurant/restimg/004/menuimg/f3002443.jpg\"/></a></p>\n",
       "<p class=\"sthum\"><a class=\"ov\" href=\"javascript:;\" onmouseover=\"javascript:chgImg('/restaurant/restimg/004/menuimg/f30024419.jpg','6');\"><img id=\"restphoto_img_1\" src=\"/restaurant/restimg/004/menuimg/f30024419.jpg\"/></a></p>\n",
       "<p class=\"sthum\"><a class=\"ov\" href=\"javascript:;\" onmouseover=\"javascript:chgImg('/restaurant/restimg/004/menuimg/f30024425.jpg','6');\"><img id=\"restphoto_img_2\" src=\"/restaurant/restimg/004/menuimg/f30024425.jpg\"/></a></p>\n",
       "</div>\n",
       "</div>\n",
       "<div class=\"ifo\">\n",
       "<dl>\n",
       "<dt><a href=\"/restaurant/onepage.asp?acode=F300244\" target=\"_blank\">피제리아614 죽동점</a><p class=\"btn\"><a class=\"detBtn\" href=\"/restaurant/onepage.asp?acode=F300244\" target=\"_blank\">자세히보기</a></p></dt>\n",
       "<dd class=\"rate\">\n",
       "<p class=\"point\"><span class=\"star\" style=\"width:73.125%\"></span><!-- ☆☆☆☆☆ //--></p>\n",
       "<p class=\"score\"><span class=\"total\">3.7</span><span class=\"line\">|</span><span class=\"count\">8명 참여</span></p>\n",
       "</dd>\n",
       "<dd>양식<span class=\"barr\">|</span> 대전 유성구 죽동 614-7</dd>\n",
       "<dd>(042)826-6147</dd>\n",
       "<dd class=\"comnt\"><a href=\"/restaurant/onepage.asp?acode=F300244\" target=\"_blank\">대전의 유명한 피자전문점 피제리아614 죽동점을 소개한다. \n",
       "\n",
       "피제리아는 참나무 화덕을 이용하는 피자 전문점으로써 다른 양식메뉴들 보다 피자메뉴만을 중점적으로 파는 곳이다. \n",
       "...</a></dd>\n",
       "</dl>\n",
       "</div>\n",
       "</li>\n",
       "<li>\n",
       "<div class=\"pho\">\n",
       "<p class=\"zoom\"><img id=\"zoomImg_7\" src=\"/restaurant/restimg/008/menuimg/g3000784.jpg\"/></p>\n",
       "<div class=\"thum\">\n",
       "<p class=\"sthum\"><a class=\"ov\" href=\"javascript:;\" onmouseover=\"javascript:chgImg('/restaurant/restimg/008/menuimg/g3000784.jpg','7');\"><img id=\"restphoto_img_0\" src=\"/restaurant/restimg/008/menuimg/g3000784.jpg\"/></a></p>\n",
       "<p class=\"sthum\"><a class=\"ov\" href=\"javascript:;\" onmouseover=\"javascript:chgImg('/restaurant/restimg/008/menuimg/g3000785.jpg','7');\"><img id=\"restphoto_img_1\" src=\"/restaurant/restimg/008/menuimg/g3000785.jpg\"/></a></p>\n",
       "<p class=\"sthum\"><a class=\"ov\" href=\"javascript:;\" onmouseover=\"javascript:chgImg('/restaurant/restimg/008/menuimg/g30007811.jpg','7');\"><img id=\"restphoto_img_2\" src=\"/restaurant/restimg/008/menuimg/g30007811.jpg\"/></a></p>\n",
       "</div>\n",
       "</div>\n",
       "<div class=\"ifo\">\n",
       "<dl>\n",
       "<dt><a href=\"/restaurant/onepage.asp?acode=G300078\" target=\"_blank\">마들렌과자점</a><p class=\"btn\"><a class=\"detBtn\" href=\"/restaurant/onepage.asp?acode=G300078\" target=\"_blank\">자세히보기</a></p></dt>\n",
       "<dd class=\"rate\">\n",
       "<p class=\"point\"><span class=\"star\" style=\"width:78%\"></span><!-- ☆☆☆☆☆ //--></p>\n",
       "<p class=\"score\"><span class=\"total\">3.9</span><span class=\"line\">|</span><span class=\"count\">10명 참여</span></p>\n",
       "</dd>\n",
       "<dd>베이커리<span class=\"barr\">|</span> 대전 유성구 지족동 910-14</dd>\n",
       "<dd>(042)476-1948</dd>\n",
       "<dd class=\"ic\"><img alt=\"프리쿠폰\" class=\"ico_type\" src=\"/image/restaurant/bestrest/ic_coupon.gif\"/><span class=\"typeadd\">케이크 주문시, 쿠키 1개 제공</span></dd>\n",
       "<dd class=\"comnt\"><a href=\"/restaurant/onepage.asp?acode=G300078\" target=\"_blank\">직장인들이 출근하기 전부터, 학생들이 등교하기 전부터 신선하고 새로운 빵을 매일같이 만들어 내는 '마들렌 과자점'\n",
       "\n",
       "마들렌은 화학첨가제를 사용하지 않고 유네스코 지정 신안에서 ...</a></dd>\n",
       "</dl>\n",
       "</div>\n",
       "</li>\n",
       "<li>\n",
       "<div class=\"pho\">\n",
       "<p class=\"zoom\"><img id=\"zoomImg_8\" src=\"/restaurant/restimg/003/menuimg/g30009329.jpg\"/></p>\n",
       "<div class=\"thum\">\n",
       "<p class=\"sthum\"><a class=\"ov\" href=\"javascript:;\" onmouseover=\"javascript:chgImg('/restaurant/restimg/003/menuimg/g30009329.jpg','8');\"><img id=\"restphoto_img_0\" src=\"/restaurant/restimg/003/menuimg/g30009329.jpg\"/></a></p>\n",
       "<p class=\"sthum\"><a class=\"ov\" href=\"javascript:;\" onmouseover=\"javascript:chgImg('/restaurant/restimg/003/menuimg/g30009330.jpg','8');\"><img id=\"restphoto_img_1\" src=\"/restaurant/restimg/003/menuimg/g30009330.jpg\"/></a></p>\n",
       "<p class=\"sthum\"><a class=\"ov\" href=\"javascript:;\" onmouseover=\"javascript:chgImg('/restaurant/restimg/003/menuimg/g30009331.jpg','8');\"><img id=\"restphoto_img_2\" src=\"/restaurant/restimg/003/menuimg/g30009331.jpg\"/></a></p>\n",
       "</div>\n",
       "</div>\n",
       "<div class=\"ifo\">\n",
       "<dl>\n",
       "<dt><a href=\"/restaurant/onepage.asp?acode=G300093\" target=\"_blank\">호텔리베라유성 델리샵</a><p class=\"btn\"><a class=\"detBtn\" href=\"/restaurant/onepage.asp?acode=G300093\" target=\"_blank\">자세히보기</a></p></dt>\n",
       "<dd class=\"rate\">\n",
       "<p class=\"point\"><span class=\"star\" style=\"width:87.5%\"></span><!-- ☆☆☆☆☆ //--></p>\n",
       "<p class=\"score\"><span class=\"total\">4.4</span><span class=\"line\">|</span><span class=\"count\">2명 참여</span></p>\n",
       "</dd>\n",
       "<dd>베이커리<span class=\"barr\">|</span> 대전 유성구 봉명동 444-5 리베라관광호텔</dd>\n",
       "<dd>(042)828-4035</dd>\n",
       "<dd class=\"comnt\"><a href=\"/restaurant/onepage.asp?acode=G300093\" target=\"_blank\">우수한 경력의 리베라 제과주방장이 갓 구워낸 신선한 빵과 케익, 와인, 초코렛기획상품을 판매하고 있다. \n",
       "\n",
       "오전시간에 방문하면 즉석에서 구워져 나온 따끈하고 부드러운 빵을 맛볼...</a></dd>\n",
       "</dl>\n",
       "</div>\n",
       "</li>\n",
       "<li>\n",
       "<div class=\"pho\">\n",
       "<p class=\"zoom\"><img id=\"zoomImg_9\" src=\"/restaurant/restimg/000/menuimg/h1198804.jpg\"/></p>\n",
       "<div class=\"thum\">\n",
       "<p class=\"sthum\"><a class=\"ov\" href=\"javascript:;\" onmouseover=\"javascript:chgImg('/restaurant/restimg/000/menuimg/h1198804.jpg','9');\"><img id=\"restphoto_img_0\" src=\"/restaurant/restimg/000/menuimg/h1198804.jpg\"/></a></p>\n",
       "<p class=\"sthum\"><a class=\"ov\" href=\"javascript:;\" onmouseover=\"javascript:chgImg('/restaurant/restimg/000/menuimg/h1198807.jpg','9');\"><img id=\"restphoto_img_1\" src=\"/restaurant/restimg/000/menuimg/h1198807.jpg\"/></a></p>\n",
       "<p class=\"sthum\"><a class=\"ov\" href=\"javascript:;\" onmouseover=\"javascript:chgImg('/restaurant/restimg/000/menuimg/h1198809.jpg','9');\"><img id=\"restphoto_img_2\" src=\"/restaurant/restimg/000/menuimg/h1198809.jpg\"/></a></p>\n",
       "</div>\n",
       "</div>\n",
       "<div class=\"ifo\">\n",
       "<dl>\n",
       "<dt><a href=\"/restaurant/onepage.asp?acode=H119880\" target=\"_blank\">대사봉무쇠솥밥</a><p class=\"btn\"><a class=\"detBtn\" href=\"/restaurant/onepage.asp?acode=H119880\" target=\"_blank\">자세히보기</a></p></dt>\n",
       "<dd class=\"rate\">\n",
       "<p class=\"point\"><span class=\"star\" style=\"width:61.6666666666667%\"></span><!-- ☆☆☆☆☆ //--></p>\n",
       "<p class=\"score\"><span class=\"total\">3.1</span><span class=\"line\">|</span><span class=\"count\">12명 참여</span></p>\n",
       "</dd>\n",
       "<dd>한식<span class=\"barr\">|</span> 대전 유성구 갑동 327-9</dd>\n",
       "<dd>(042)825-8803</dd>\n",
       "<dd class=\"comnt\"><a href=\"/restaurant/onepage.asp?acode=H119880\" target=\"_blank\">계룡 휴게소 인근에 무쇠솥에 지은 밥을 선보이는 한식당이 바로 '대사봉무쇠솥밥'이다.\n",
       "\n",
       "인기메뉴 무쇠솥밥 청국장정식은 10가지 이상의 밑반찬을 제공하고 흑미를 섞어 지은 무쇠솥...</a></dd>\n",
       "</dl>\n",
       "</div>\n",
       "</li>\n",
       "</ul>"
      ]
     },
     "execution_count": 180,
     "metadata": {},
     "output_type": "execute_result"
    }
   ],
   "source": [
    "rest_list = soup.find_all(class_= 'areaList')\n",
    "rest_list[0]"
   ]
  },
  {
   "cell_type": "code",
   "execution_count": 181,
   "metadata": {},
   "outputs": [
    {
     "data": {
      "text/plain": [
       "<li>\n",
       "<div class=\"star_score\">\n",
       "<span class=\"st_off\"><span class=\"st_on\" style=\"width:100.0%\"></span></span><em>10</em>\n",
       "</div>\n",
       "<div class=\"score_reple\">\n",
       "<p>\n",
       "<span class=\"ico_viewer\">관람객</span>\n",
       "<!-- 스포일러 컨텐츠로 처리되는지 여부 -->\n",
       "<span id=\"_filtered_ment_4\">\n",
       "\t\t\t\t\t\t\t\t\t\t\t\t\t\t\n",
       "\t\t\t\t\t\t\t\t\t\t\t\t\t\t\t\n",
       "\t\t\t\t\t\t\t\t\t\t\t\t\t\t\t\n",
       "\t\t\t\t\t\t\t\t\t\t\t\t\t\t\t\t교과서에는 미드웨이 해전에서 미국이 승리했다고 한 줄로 서술되어 있지만 단순히 한 줄로 설명할 수 없는 파란만장했던 전쟁. \n",
       "\t\t\t\t\t\t\t\t\t\t\t\t\t\t\t\n",
       "\t\t\t\t\t\t\t\t\t\t\t\t\t\t\n",
       "\t\t\t\t\t\t\t\t\t\t\t\t\t\t\n",
       "\t\t\t\t\t\t\t\t\t\t\t\t\t</span>\n",
       "</p>\n",
       "<dl>\n",
       "<dt>\n",
       "<em>\n",
       "<a href=\"#\" onclick=\"javascript:showPointListByNid(16566092, 'after');parent.clickcr(this, 'ara.uid', '', '', event); return false;\" target=\"_top\">\n",
       "<span>꼬깔콘의마술사(topm****)</span>\n",
       "</a>\n",
       "</em>\n",
       "<em>2019.12.31 19:58</em>\n",
       "</dt>\n",
       "<dd>\n",
       "<a class=\"go_report2\" href=\"#\" onclick=\"parent.clickcr(this, 'ara.report', '', '', event); common.report('false','topm****', 'BF75e8sxECtyehnKgzKWZ1+2NzljbtAI3DSoAU8eSy0=', '교과서에는 미드웨이 해전에서 미국이 승리했다고 한 줄로 서술되어 있지만 단순히 한 줄로 설명할 수 없는 파란만장했던 전쟁. ', '16566092', 'point_after', false);return false;\"><em>신고</em></a>\n",
       "</dd>\n",
       "</dl>\n",
       "</div>\n",
       "<div class=\"btn_area\">\n",
       "<a class=\"_sympathyButton\" href=\"#\" onclick=\"parent.clickcr(this, 'ara.sym', '', '', event);\">\n",
       "<span class=\"ico_up\"></span>\n",
       "<span class=\"blind\">공감</span>\n",
       "<strong class=\"sympathy_16566092\">1046</strong>\n",
       "</a>\n",
       "<a class=\"_notSympathyButton\" href=\"#\" onclick=\"parent.clickcr(this, 'ara.opp', '', '', event);\">\n",
       "<span class=\"ico_down\"></span>\n",
       "<span class=\"blind\">비공감</span>\n",
       "<strong class=\"notSympathy_16566092\">34</strong>\n",
       "</a>\n",
       "</div>\n",
       "</li>"
      ]
     },
     "execution_count": 181,
     "metadata": {},
     "output_type": "execute_result"
    }
   ],
   "source": [
    "li4=lis[4]\n",
    "li4"
   ]
  },
  {
   "cell_type": "code",
   "execution_count": 182,
   "metadata": {},
   "outputs": [
    {
     "data": {
      "text/html": [
       "<div>\n",
       "<style scoped>\n",
       "    .dataframe tbody tr th:only-of-type {\n",
       "        vertical-align: middle;\n",
       "    }\n",
       "\n",
       "    .dataframe tbody tr th {\n",
       "        vertical-align: top;\n",
       "    }\n",
       "\n",
       "    .dataframe thead th {\n",
       "        text-align: right;\n",
       "    }\n",
       "</style>\n",
       "<table border=\"1\" class=\"dataframe\">\n",
       "  <thead>\n",
       "    <tr style=\"text-align: right;\">\n",
       "      <th></th>\n",
       "      <th>평점</th>\n",
       "      <th>일시</th>\n",
       "      <th>감상평</th>\n",
       "    </tr>\n",
       "  </thead>\n",
       "  <tbody>\n",
       "    <tr>\n",
       "      <th>0</th>\n",
       "      <td>9</td>\n",
       "      <td>2019.12.31 09:48</td>\n",
       "      <td>미드웨이가 재밌으면 추천 백두산이 재밌으면 비추</td>\n",
       "    </tr>\n",
       "    <tr>\n",
       "      <th>1</th>\n",
       "      <td>10</td>\n",
       "      <td>2019.12.31 10:41</td>\n",
       "      <td>저 해전이 있었기에 우리나라 광복도 가능 했음</td>\n",
       "    </tr>\n",
       "    <tr>\n",
       "      <th>2</th>\n",
       "      <td>10</td>\n",
       "      <td>2019.12.31 09:38</td>\n",
       "      <td>백두산 상영관 대폭줄이고 미드웨이 상영관 대폭늘려라</td>\n",
       "    </tr>\n",
       "    <tr>\n",
       "      <th>3</th>\n",
       "      <td>10</td>\n",
       "      <td>2019.12.31 09:14</td>\n",
       "      <td>방금 개봉했는데 1점 준애는 뭐냐 ㅋㅋ 일본놈이냐? 이제 광고돌고 있을 시간이다.</td>\n",
       "    </tr>\n",
       "    <tr>\n",
       "      <th>4</th>\n",
       "      <td>10</td>\n",
       "      <td>2019.12.31 19:58</td>\n",
       "      <td>교과서에는 미드웨이 해전에서 미국이 승리했다고 한 줄로 서술되어 있지만 단순히 한 ...</td>\n",
       "    </tr>\n",
       "    <tr>\n",
       "      <th>5</th>\n",
       "      <td>10</td>\n",
       "      <td>2019.12.31 09:29</td>\n",
       "      <td>스케일 겁나커서 보는내내 입벌리고 봣네욬ㅋㅋ재밋습니다</td>\n",
       "    </tr>\n",
       "    <tr>\n",
       "      <th>6</th>\n",
       "      <td>10</td>\n",
       "      <td>2019.12.31 09:52</td>\n",
       "      <td>안보면후회함 백두산보다낫다</td>\n",
       "    </tr>\n",
       "    <tr>\n",
       "      <th>7</th>\n",
       "      <td>10</td>\n",
       "      <td>2019.12.31 09:01</td>\n",
       "      <td>재밌으면 추천 재미없으면 비추천 눌러주십쇼 형님들</td>\n",
       "    </tr>\n",
       "    <tr>\n",
       "      <th>8</th>\n",
       "      <td>10</td>\n",
       "      <td>2019.12.31 16:37</td>\n",
       "      <td>일본의 최대 실수는 미국을 건드린거다 그 대가로 원폭 처맞고 멸망함ㅋㅋㅋ지금 하는 ...</td>\n",
       "    </tr>\n",
       "    <tr>\n",
       "      <th>9</th>\n",
       "      <td>8</td>\n",
       "      <td>2019.12.31 10:14</td>\n",
       "      <td>아니 에머리히 감독이 스토리에 고증을 철저히 지키다니 안믿긴다..(진짜 실제인물에 ...</td>\n",
       "    </tr>\n",
       "  </tbody>\n",
       "</table>\n",
       "</div>"
      ],
      "text/plain": [
       "   평점                일시                                                감상평\n",
       "0   9  2019.12.31 09:48                         미드웨이가 재밌으면 추천 백두산이 재밌으면 비추\n",
       "1  10  2019.12.31 10:41                          저 해전이 있었기에 우리나라 광복도 가능 했음\n",
       "2  10  2019.12.31 09:38                       백두산 상영관 대폭줄이고 미드웨이 상영관 대폭늘려라\n",
       "3  10  2019.12.31 09:14      방금 개봉했는데 1점 준애는 뭐냐 ㅋㅋ 일본놈이냐? 이제 광고돌고 있을 시간이다.\n",
       "4  10  2019.12.31 19:58  교과서에는 미드웨이 해전에서 미국이 승리했다고 한 줄로 서술되어 있지만 단순히 한 ...\n",
       "5  10  2019.12.31 09:29                      스케일 겁나커서 보는내내 입벌리고 봣네욬ㅋㅋ재밋습니다\n",
       "6  10  2019.12.31 09:52                                     안보면후회함 백두산보다낫다\n",
       "7  10  2019.12.31 09:01                        재밌으면 추천 재미없으면 비추천 눌러주십쇼 형님들\n",
       "8  10  2019.12.31 16:37  일본의 최대 실수는 미국을 건드린거다 그 대가로 원폭 처맞고 멸망함ㅋㅋㅋ지금 하는 ...\n",
       "9   8  2019.12.31 10:14  아니 에머리히 감독이 스토리에 고증을 철저히 지키다니 안믿긴다..(진짜 실제인물에 ..."
      ]
     },
     "execution_count": 182,
     "metadata": {},
     "output_type": "execute_result"
    }
   ],
   "source": [
    "\n",
    "import pandas as pd\n",
    "df = pd.DataFrame({'평점':point, '일시':date, '감상평':review})\n",
    "df"
   ]
  },
  {
   "cell_type": "code",
   "execution_count": null,
   "metadata": {},
   "outputs": [],
   "source": []
  },
  {
   "cell_type": "code",
   "execution_count": null,
   "metadata": {},
   "outputs": [],
   "source": []
  },
  {
   "cell_type": "code",
   "execution_count": null,
   "metadata": {},
   "outputs": [],
   "source": []
  },
  {
   "cell_type": "code",
   "execution_count": null,
   "metadata": {},
   "outputs": [],
   "source": []
  },
  {
   "cell_type": "code",
   "execution_count": null,
   "metadata": {},
   "outputs": [],
   "source": []
  },
  {
   "cell_type": "code",
   "execution_count": null,
   "metadata": {},
   "outputs": [],
   "source": []
  },
  {
   "cell_type": "code",
   "execution_count": null,
   "metadata": {},
   "outputs": [],
   "source": []
  }
 ],
 "metadata": {
  "kernelspec": {
   "display_name": "Python 3",
   "language": "python",
   "name": "python3"
  },
  "language_info": {
   "codemirror_mode": {
    "name": "ipython",
    "version": 3
   },
   "file_extension": ".py",
   "mimetype": "text/x-python",
   "name": "python",
   "nbconvert_exporter": "python",
   "pygments_lexer": "ipython3",
   "version": "3.7.6"
  }
 },
 "nbformat": 4,
 "nbformat_minor": 4
}
