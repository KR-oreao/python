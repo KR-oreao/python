{
 "cells": [
  {
   "cell_type": "markdown",
   "metadata": {},
   "source": [
    "숙제"
   ]
  },
  {
   "cell_type": "code",
   "execution_count": 32,
   "metadata": {},
   "outputs": [],
   "source": [
    "from bs4 import BeautifulSoup\n",
    "from urllib.request import urlopen\n",
    "from urllib.parse import urljoin\n",
    "import pandas as pd"
   ]
  },
  {
   "cell_type": "code",
   "execution_count": 12,
   "metadata": {},
   "outputs": [],
   "source": [
    "url_base = 'https://www.diningcode.com'\n",
    "url_sub = '/list.php?query=%EB%85%B8%EC%9D%80%EC%97%AD%20%EA%B0%80%EC%84%B1%EB%B9%84%EC%A2%8B%EC%9D%80'\n",
    "url = url_base + url_sub\n",
    "\n",
    "html = urlopen(url)\n",
    "soup = BeautifulSoup(html, 'html.parser')"
   ]
  },
  {
   "cell_type": "code",
   "execution_count": 14,
   "metadata": {},
   "outputs": [
    {
     "data": {
      "text/plain": [
       "[<a class=\"blink\" href=\"/profile.php?rid=DkhcYyd2ZTfd\" target=\"_blank\">\n",
       " <span class=\"img\" style=\"overflow:hidden; background:url('https://s3-ap-northeast-1.amazonaws.com/dcreviewsresized/300_300_20190808102918_photo1_d505ff0358c2.jpg') no-repeat; background-size:auto 100px; background-position:center;\"></span>\n",
       " <span class=\"btxt\">1. 히다리</span>\n",
       " <span class=\"stxt\">초밥, 스시코스</span>\n",
       " <span class=\"ctxt\">모범음식점, 고급스러운, <strong>가성비좋은</strong></span>\n",
       " <span class=\"ctxt\"><i class=\"loca\">노은동</i>대전광역시 유성구 지족동 894-5</span>\n",
       " <span class=\"icons\">\n",
       " </span>\n",
       " </a>,\n",
       " <a class=\"blink\" href=\"/profile.php?rid=t0PjFndo3kcp\" target=\"_blank\">\n",
       " <span class=\"img\" style=\"overflow:hidden; background:url('https://s3-ap-northeast-1.amazonaws.com/dcreviewsresized/300_300_20181231031253_photo1_419f2ef753a7.jpg') no-repeat; background-size:auto 100px; background-position:center;\"></span>\n",
       " <span class=\"btxt\">2. 바로그집</span>\n",
       " <span class=\"stxt\">떡볶이, 라볶이</span>\n",
       " <span class=\"ctxt\">원조, 다양한메뉴, <strong>가성비좋은</strong></span>\n",
       " <span class=\"ctxt\"><i class=\"loca\">노은동</i>대전광역시 유성구 지족동 906-4</span>\n",
       " <span class=\"icons\">\n",
       " </span>\n",
       " </a>,\n",
       " <a class=\"blink\" href=\"/profile.php?rid=JTlNBUlzmtAJ\" target=\"_blank\">\n",
       " <span class=\"img\" style=\"overflow:hidden; background:url('https://s3-ap-northeast-1.amazonaws.com/dcreviewsresized/300_300_20170910065638761_photo0_X2xuEsA9EuiR.jpg') no-repeat; background-size:auto 100px; background-position:center;\"></span>\n",
       " <span class=\"btxt\">3. 어화자좋다</span>\n",
       " <span class=\"stxt\">생선구이, 생선구이전문</span>\n",
       " <span class=\"ctxt\">담백한맛, 깔끔한, <strong>저렴한가격</strong></span>\n",
       " <span class=\"ctxt\"><i class=\"loca\">노은동</i>대전광역시 유성구 지족동 892-12</span>\n",
       " <span class=\"icons\">\n",
       " </span>\n",
       " </a>,\n",
       " <a class=\"blink\" href=\"/profile.php?rid=3oWtNLhEJX2t\" target=\"_blank\">\n",
       " <span class=\"img\" style=\"overflow:hidden; background:url('https://s3-ap-northeast-1.amazonaws.com/dcreviewsresized/300_300_20191127042303_photo1_a0e9a51ba730.jpg') no-repeat; background-size:auto 100px; background-position:center;\"></span>\n",
       " <span class=\"btxt\">4. 라라코스트</span>\n",
       " <span class=\"stxt\">빠네, 파스타</span>\n",
       " <span class=\"ctxt\"><strong>저렴한가격</strong>, 남자들끼리, 가족외식</span>\n",
       " <span class=\"ctxt\"><i class=\"loca\">노은동</i>대전광역시 유성구 지족동 905-1</span>\n",
       " <span class=\"icons\">\n",
       " </span>\n",
       " </a>,\n",
       " <a class=\"blink\" href=\"/profile.php?rid=ZiUQT2qiDLAQ\" target=\"_blank\">\n",
       " <span class=\"img\" style=\"overflow:hidden; background:url('https://d2t7cq5f1ua57i.cloudfront.net/images/r_images/52555/53169/52555_53169_89_0_2987_2017226165233959_200x200.jpg') no-repeat; background-size:auto 100px; background-position:center;\"></span>\n",
       " <span class=\"btxt\">5. 속초수산 붉은대게</span>\n",
       " <span class=\"stxt\">대게, 홍게</span>\n",
       " <span class=\"ctxt\"><strong>저렴한가격</strong>, 참숯, 회식장소</span>\n",
       " <span class=\"ctxt\"><i class=\"loca\">노은동</i>대전광역시 유성구 지족동 911-12</span>\n",
       " <span class=\"icons\">\n",
       " </span>\n",
       " </a>,\n",
       " <a class=\"blink\" href=\"/profile.php?rid=upXcZ7o3FKQd\" target=\"_blank\">\n",
       " <span class=\"img\" style=\"overflow:hidden; background:url('https://d2t7cq5f1ua57i.cloudfront.net/images/r_images/51745/55836/51745_55836_80_0_9699_2016776202311_200x200.jpg') no-repeat; background-size:auto 100px; background-position:center;\"></span>\n",
       " <span class=\"btxt\">6. 후라이팬</span>\n",
       " <span class=\"stxt\">목살스테이크, 파스타</span>\n",
       " <span class=\"ctxt\">푸짐한, 원플레이트, <strong>저렴한가격</strong></span>\n",
       " <span class=\"ctxt\"><i class=\"loca\">노은동</i>대전광역시 유성구 지족동 902-6</span>\n",
       " <span class=\"icons\">\n",
       " </span>\n",
       " </a>,\n",
       " <a class=\"blink\" href=\"/profile.php?rid=3shEeA5QBV8m\" target=\"_blank\">\n",
       " <span class=\"img\" style=\"overflow:hidden; background:url('https://s3-ap-northeast-1.amazonaws.com/dcreviewsresized/300_300_20190821073410169_photo_EnjdtHHZ6jYx.jpg') no-repeat; background-size:auto 100px; background-position:center;\"></span>\n",
       " <span class=\"btxt\">7. 새벽을여는시장사람들</span>\n",
       " <span class=\"stxt\">꼬막찜, 술집</span>\n",
       " <span class=\"ctxt\"><strong>저렴한가격</strong>, 다양한메뉴, 회식장소</span>\n",
       " <span class=\"ctxt\"><i class=\"loca\">노은동</i>대전광역시 유성구 지족동 906-2</span>\n",
       " <span class=\"icons\">\n",
       " </span>\n",
       " </a>,\n",
       " <a class=\"blink\" href=\"/profile.php?rid=bldCLEKrRMo7\" target=\"_blank\">\n",
       " <span class=\"img\" style=\"overflow:hidden; background:url('https://s3-ap-northeast-1.amazonaws.com/dcreviewsresized/300_300_20171015114543552_photo0_o8FP8l9Cuknh.jpg') no-repeat; background-size:auto 100px; background-position:center;\"></span>\n",
       " <span class=\"btxt\">8. 황금모자왕만두</span>\n",
       " <span class=\"stxt\">왕만두, 등심</span>\n",
       " <span class=\"ctxt\"><strong>저렴한가격</strong>, 회식</span>\n",
       " <span class=\"ctxt\"><i class=\"loca\">노은동</i>대전광역시 유성구 지족동 901-2 금강프라자 109호</span>\n",
       " <span class=\"icons\">\n",
       " </span>\n",
       " </a>,\n",
       " <a class=\"blink\" href=\"/profile.php?rid=2kDizsHDziRq\" target=\"_blank\">\n",
       " <span class=\"img\" style=\"overflow:hidden; background:url('https://d2t7cq5f1ua57i.cloudfront.net/images/r_images/52581/50440/52581_50440_89_0_8520_201722691946449_200x200.jpg') no-repeat; background-size:auto 100px; background-position:center;\"></span>\n",
       " <span class=\"btxt\">9. 돔수산활어상차림</span>\n",
       " <span class=\"stxt\">대방어, 횟집</span>\n",
       " <span class=\"ctxt\"><strong>가성비좋은</strong>, 맛있는안주, 송년회</span>\n",
       " <span class=\"ctxt\"><i class=\"loca\">노은동</i>대전광역시 유성구 지족동 884-4</span>\n",
       " <span class=\"icons\">\n",
       " </span>\n",
       " </a>,\n",
       " <a class=\"blink\" href=\"/profile.php?rid=NqIQEh9NQDzU\" target=\"_blank\">\n",
       " <span class=\"img\" style=\"overflow:hidden; background:url('https://s3-ap-northeast-1.amazonaws.com/dcreviewsresized/200_200_af490e58ae41b9264dc1230e05316dbb4f5367b0074e871849f501e90602a9af.jpg') no-repeat; background-size:auto 100px; background-position:center;\"></span>\n",
       " <span class=\"btxt\">10. 대박감자탕파전</span>\n",
       " <span class=\"stxt\">감자탕, 묵무침</span>\n",
       " <span class=\"ctxt\">생생정보통, 푸짐한, <strong>저렴한가격</strong></span>\n",
       " <span class=\"ctxt\"><i class=\"loca\">도안</i>대전광역시 유성구 노은동 494-4</span>\n",
       " <span class=\"icons\">\n",
       " </span>\n",
       " </a>]"
      ]
     },
     "execution_count": 14,
     "metadata": {},
     "output_type": "execute_result"
    }
   ],
   "source": [
    "rest_list = soup.find_all(class_= 'blink')\n",
    "rest_list"
   ]
  },
  {
   "cell_type": "code",
   "execution_count": 4,
   "metadata": {},
   "outputs": [
    {
     "data": {
      "text/plain": [
       "10"
      ]
     },
     "execution_count": 4,
     "metadata": {},
     "output_type": "execute_result"
    }
   ],
   "source": [
    "len(rest_list)"
   ]
  },
  {
   "cell_type": "code",
   "execution_count": 5,
   "metadata": {},
   "outputs": [],
   "source": [
    "tmp_one=rest_list[0]"
   ]
  },
  {
   "cell_type": "code",
   "execution_count": 23,
   "metadata": {
    "scrolled": true
   },
   "outputs": [
    {
     "name": "stdout",
     "output_type": "stream",
     "text": [
      "['히다리', '바로그집', '어화자좋다', '라라코스트', '속초수산 붉은대게', '후라이팬', '새벽을여는시장사람들', '황금모자왕만두', '돔수산활어상차림', ' 대박감자탕파전']\n"
     ]
    }
   ],
   "source": [
    "store=[]\n",
    "for a in rest_list:\n",
    "    store.append(a.find(class_='btxt').get_text()[3:])\n",
    "print(store)   "
   ]
  },
  {
   "cell_type": "code",
   "execution_count": 33,
   "metadata": {},
   "outputs": [],
   "source": [
    "show_stores =pd.DataFrame({'노은동 맛집명':store})"
   ]
  },
  {
   "cell_type": "code",
   "execution_count": 35,
   "metadata": {},
   "outputs": [
    {
     "data": {
      "text/html": [
       "<div>\n",
       "<style scoped>\n",
       "    .dataframe tbody tr th:only-of-type {\n",
       "        vertical-align: middle;\n",
       "    }\n",
       "\n",
       "    .dataframe tbody tr th {\n",
       "        vertical-align: top;\n",
       "    }\n",
       "\n",
       "    .dataframe thead th {\n",
       "        text-align: right;\n",
       "    }\n",
       "</style>\n",
       "<table border=\"1\" class=\"dataframe\">\n",
       "  <thead>\n",
       "    <tr style=\"text-align: right;\">\n",
       "      <th></th>\n",
       "      <th>노은동 맛집명</th>\n",
       "    </tr>\n",
       "  </thead>\n",
       "  <tbody>\n",
       "    <tr>\n",
       "      <th>0</th>\n",
       "      <td>히다리</td>\n",
       "    </tr>\n",
       "    <tr>\n",
       "      <th>1</th>\n",
       "      <td>바로그집</td>\n",
       "    </tr>\n",
       "    <tr>\n",
       "      <th>2</th>\n",
       "      <td>어화자좋다</td>\n",
       "    </tr>\n",
       "    <tr>\n",
       "      <th>3</th>\n",
       "      <td>라라코스트</td>\n",
       "    </tr>\n",
       "    <tr>\n",
       "      <th>4</th>\n",
       "      <td>속초수산 붉은대게</td>\n",
       "    </tr>\n",
       "    <tr>\n",
       "      <th>5</th>\n",
       "      <td>후라이팬</td>\n",
       "    </tr>\n",
       "    <tr>\n",
       "      <th>6</th>\n",
       "      <td>새벽을여는시장사람들</td>\n",
       "    </tr>\n",
       "    <tr>\n",
       "      <th>7</th>\n",
       "      <td>황금모자왕만두</td>\n",
       "    </tr>\n",
       "    <tr>\n",
       "      <th>8</th>\n",
       "      <td>돔수산활어상차림</td>\n",
       "    </tr>\n",
       "    <tr>\n",
       "      <th>9</th>\n",
       "      <td>대박감자탕파전</td>\n",
       "    </tr>\n",
       "  </tbody>\n",
       "</table>\n",
       "</div>"
      ],
      "text/plain": [
       "      노은동 맛집명\n",
       "0         히다리\n",
       "1        바로그집\n",
       "2       어화자좋다\n",
       "3       라라코스트\n",
       "4   속초수산 붉은대게\n",
       "5        후라이팬\n",
       "6  새벽을여는시장사람들\n",
       "7     황금모자왕만두\n",
       "8    돔수산활어상차림\n",
       "9     대박감자탕파전"
      ]
     },
     "execution_count": 35,
     "metadata": {},
     "output_type": "execute_result"
    }
   ],
   "source": [
    "show_stores"
   ]
  },
  {
   "cell_type": "code",
   "execution_count": null,
   "metadata": {},
   "outputs": [],
   "source": []
  },
  {
   "cell_type": "code",
   "execution_count": null,
   "metadata": {},
   "outputs": [],
   "source": []
  },
  {
   "cell_type": "code",
   "execution_count": null,
   "metadata": {},
   "outputs": [],
   "source": []
  },
  {
   "cell_type": "code",
   "execution_count": null,
   "metadata": {},
   "outputs": [],
   "source": []
  },
  {
   "cell_type": "code",
   "execution_count": null,
   "metadata": {},
   "outputs": [],
   "source": []
  },
  {
   "cell_type": "code",
   "execution_count": null,
   "metadata": {},
   "outputs": [],
   "source": []
  },
  {
   "cell_type": "code",
   "execution_count": null,
   "metadata": {},
   "outputs": [],
   "source": []
  }
 ],
 "metadata": {
  "kernelspec": {
   "display_name": "Python 3",
   "language": "python",
   "name": "python3"
  },
  "language_info": {
   "codemirror_mode": {
    "name": "ipython",
    "version": 3
   },
   "file_extension": ".py",
   "mimetype": "text/x-python",
   "name": "python",
   "nbconvert_exporter": "python",
   "pygments_lexer": "ipython3",
   "version": "3.7.6"
  }
 },
 "nbformat": 4,
 "nbformat_minor": 4
}
