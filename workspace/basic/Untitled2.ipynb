{
 "cells": [
  {
   "cell_type": "markdown",
   "metadata": {},
   "source": [
    "김동익\n",
    "\n",
    "\n",
    "챕터2 연습숙제"
   ]
  },
  {
   "cell_type": "markdown",
   "metadata": {},
   "source": [
    "숫자:숫자에는  정수로 구성된 정수형이 있고 소수점이있는 실수형형 숫자가 있습니다\n",
    "문자열:하나또는 여러 문자로 구성된 데이터 \n",
    "    숫자와 다른점은 문자열 앞 뒤에 (''),(\"\")을 붙이는 것이다\n",
    "    "
   ]
  },
  {
   "cell_type": "code",
   "execution_count": 3,
   "metadata": {},
   "outputs": [
    {
     "name": "stdout",
     "output_type": "stream",
     "text": [
      "-72\n"
     ]
    }
   ],
   "source": [
    "#2번\n",
    "a=7\n",
    "b=10\n",
    "c= a+b*2\n",
    "c%=5\n",
    "c**=3\n",
    "c-=c*10\n",
    "\n",
    "print(c)"
   ]
  },
  {
   "cell_type": "code",
   "execution_count": null,
   "metadata": {},
   "outputs": [],
   "source": [
    "#3번\n",
    "반지름=float(input(\"반지름을 입력하세요 :\"))\n",
    "면적=3.14*반지름**2\n",
    "둘레=3.14*반지름*2\n",
    "\n",
    "print(\"반지름: %d\" %(반지름),'cm')\n",
    "print(\"원의 둘레: %.2f\" %(둘레),'cm')\n",
    "print(\"원의 면적: %.2f\" %(면적),'cm2')"
   ]
  },
  {
   "cell_type": "code",
   "execution_count": 3,
   "metadata": {},
   "outputs": [
    {
     "name": "stdout",
     "output_type": "stream",
     "text": [
      "책 값을 입력하세요:15000\n",
      "할인율을 입력하세요(%):15\n",
      "배송료을 입력하세요:3000\n",
      "결제 금액: 15750\n"
     ]
    }
   ],
   "source": [
    "#4번\n",
    "가격=float(input('책 값을 입력하세요:'))\n",
    "할인율=float(input('할인율을 입력하세요(%):'))\n",
    "배송료=float(input('배송료을 입력하세요:'))\n",
    "결제금액=가격-(가격*할인율/100)+배송료\n",
    "\n",
    "print(\"결제 금액: %d\" %(결제금액))\n"
   ]
  },
  {
   "cell_type": "code",
   "execution_count": 3,
   "metadata": {},
   "outputs": [
    {
     "name": "stdout",
     "output_type": "stream",
     "text": [
      "이름을 입력하세요:안지영\n",
      "현재년을 입력하세요:2020\n",
      "탄생년을 입력하세요:1997\n",
      "안지영님의 나이는 24세입니다!\n"
     ]
    }
   ],
   "source": [
    "#5번문제\n",
    "name=input('이름을 입력하세요:')\n",
    "ty=input('현재년을 입력하세요:')\n",
    "by=input('탄생년을 입력하세요:')\n",
    "age= int(ty)-int(by)+1\n",
    "\n",
    "print(\"{}님의 나이는 {}세입니다!\".format(name,age))\n",
    "\n"
   ]
  },
  {
   "cell_type": "code",
   "execution_count": 4,
   "metadata": {},
   "outputs": [
    {
     "name": "stdout",
     "output_type": "stream",
     "text": [
      "연을 입력하세요:2020\n",
      "월을 입력하세요:1\n",
      "일을 입력하세요:5\n",
      "2020/1/5\n"
     ]
    }
   ],
   "source": [
    "#6번 문제\n",
    "year=input('연을 입력하세요:')\n",
    "month=input('월을 입력하세요:')\n",
    "day=input('일을 입력하세요:')\n",
    "\n",
    "print(year,month,day,sep='/')\n",
    "          "
   ]
  }
 ],
 "metadata": {
  "kernelspec": {
   "display_name": "Python 3",
   "language": "python",
   "name": "python3"
  },
  "language_info": {
   "codemirror_mode": {
    "name": "ipython",
    "version": 3
   },
   "file_extension": ".py",
   "mimetype": "text/x-python",
   "name": "python",
   "nbconvert_exporter": "python",
   "pygments_lexer": "ipython3",
   "version": "3.7.6"
  }
 },
 "nbformat": 4,
 "nbformat_minor": 4
}
