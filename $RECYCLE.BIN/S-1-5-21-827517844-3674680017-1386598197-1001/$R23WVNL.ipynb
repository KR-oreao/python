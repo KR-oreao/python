{
 "cells": [
  {
   "cell_type": "markdown",
   "metadata": {},
   "source": [
    "#1\n",
    "fff\n",
    "tff\n",
    "tft\n",
    "#2\n",
    "ft\n",
    "tf\n",
    "ft\n",
    "\n"
   ]
  },
  {
   "cell_type": "code",
   "execution_count": 1,
   "metadata": {},
   "outputs": [
    {
     "name": "stdout",
     "output_type": "stream",
     "text": [
      "4\n"
     ]
    }
   ],
   "source": [
    "a=2\n",
    "z=a*5\n",
    "w=(z-3)*(a-2)/7+10\n",
    "\n",
    "if a>z or w>a:\n",
    "    y=2*a\n",
    "else:\n",
    "    y=4*a\n",
    "print(y)"
   ]
  },
  {
   "cell_type": "code",
   "execution_count": 3,
   "metadata": {},
   "outputs": [
    {
     "name": "stdout",
     "output_type": "stream",
     "text": [
      "단위를 입력하세요(1:섭씨,2화씨):2\n",
      "온도를 입력하세요80\n",
      "물의 섭씨온도:26.67,상태:액체\n"
     ]
    }
   ],
   "source": [
    "x=input('단위를 입력하세요(1:섭씨,2화씨):')\n",
    "\n",
    "if x=='1':\n",
    "    c=int(input(\"온도를 입력하세요\"))\n",
    "    if c>=100:\n",
    "        s='기체'\n",
    "    elif c>0:\n",
    "        s='액체'\n",
    "    else :\n",
    "        s='고체'\n",
    "        \n",
    "    print('물의 섭씨온도:%.2f,상태:%s'%(c,s))\n",
    "else :\n",
    "    f=int(input(\"온도를 입력하세요\"))\n",
    "    c=(f-32)*5/9\n",
    "    if c>=100:\n",
    "        s='기체'\n",
    "    elif c>0:\n",
    "        s='액체'\n",
    "    else :\n",
    "        s='고체'\n",
    "    print('물의 섭씨온도:%.2f,상태:%s'%(c,s))"
   ]
  },
  {
   "cell_type": "code",
   "execution_count": 4,
   "metadata": {},
   "outputs": [
    {
     "name": "stdout",
     "output_type": "stream",
     "text": [
      "아이디를 입력하세요.:rubato\n",
      "회원레벨을 입력해주세요:3\n",
      "일부 콘테츠 이용 가능\n"
     ]
    }
   ],
   "source": [
    "id=input('아이디를 입력하세요.:')\n",
    "if id=='admin':\n",
    "    print('모든 콘테츠이영가능')\n",
    "else:\n",
    "    lv=int(input('회원레벨을 입력해주세요:'))\n",
    "    if lv<=7 and lv>=2:\n",
    "        print('일부 콘테츠 이용 가능')\n",
    "    else:\n",
    "        print('콘테츠 이용 불가')\n",
    "    \n"
   ]
  },
  {
   "cell_type": "code",
   "execution_count": 6,
   "metadata": {},
   "outputs": [
    {
     "name": "stdout",
     "output_type": "stream",
     "text": [
      "나이를 입력하세요6\n",
      "입장료는 1000입니다.\n"
     ]
    }
   ],
   "source": [
    "age=int(input('나이를 입력하세요'))\n",
    "if age<=10:\n",
    "    print('입장료는 1000입니다.')\n",
    "elif age>=65:\n",
    "    print('입장료는 0원입니다.')\n",
    "else:\n",
    "    print('입장료는 2000원입니다.')"
   ]
  },
  {
   "cell_type": "code",
   "execution_count": 9,
   "metadata": {},
   "outputs": [
    {
     "name": "stdout",
     "output_type": "stream",
     "text": [
      "영어시험 점수를 입력하세요85\n",
      "수학시험 점수를 입력하세요75\n",
      "재시험 기회제공\n"
     ]
    }
   ],
   "source": [
    "eng= int(input('영어시험 점수를 입력하세요'))\n",
    "math= int(input('수학시험 점수를 입력하세요'))\n",
    "\n",
    "if eng>=80 and math>=80 :\n",
    "    print('합격')\n",
    "elif eng<80 and math<80:\n",
    "    print:('불합격')\n",
    "else :\n",
    "    print('재시험 기회제공')\n",
    "    "
   ]
  },
  {
   "cell_type": "code",
   "execution_count": null,
   "metadata": {},
   "outputs": [],
   "source": []
  },
  {
   "cell_type": "code",
   "execution_count": null,
   "metadata": {},
   "outputs": [],
   "source": []
  }
 ],
 "metadata": {
  "kernelspec": {
   "display_name": "Python 3",
   "language": "python",
   "name": "python3"
  },
  "language_info": {
   "codemirror_mode": {
    "name": "ipython",
    "version": 3
   },
   "file_extension": ".py",
   "mimetype": "text/x-python",
   "name": "python",
   "nbconvert_exporter": "python",
   "pygments_lexer": "ipython3",
   "version": "3.7.6"
  }
 },
 "nbformat": 4,
 "nbformat_minor": 4
}
